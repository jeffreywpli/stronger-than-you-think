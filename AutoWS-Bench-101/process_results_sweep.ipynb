{
 "cells": [
  {
   "cell_type": "code",
   "execution_count": 1,
   "metadata": {},
   "outputs": [],
   "source": [
    "import numpy as np\n",
    "import matplotlib.pyplot as plt"
   ]
  },
  {
   "cell_type": "code",
   "execution_count": 2,
   "metadata": {},
   "outputs": [],
   "source": [
    "def parse_accs(fname):\n",
    "    fin_acc = 0\n",
    "    with open(fname, 'r') as f:\n",
    "        for line in f.readlines():\n",
    "            if 'end model (LeNet) test acc: ' in line:\n",
    "                fin_acc = float(line.split()[-1])\n",
    "    return fin_acc"
   ]
  },
  {
   "cell_type": "code",
   "execution_count": 3,
   "metadata": {},
   "outputs": [
    {
     "data": {
      "image/png": "[encoded data removed]",
      "text/plain": [
       "<Figure size 360x216 with 1 Axes>"
      ]
     },
     "metadata": {
      "needs_background": "light"
     },
     "output_type": "display_data"
    }
   ],
   "source": [
    "seed = 0\n",
    "\n",
    "get_acc_npoints = lambda n: parse_accs(\n",
    "    f'results/mnist/snuba_nlabels/n_labeled_points_{n}/res_seed{seed}.log')\n",
    "\n",
    "nlabels = np.arange(100, 1100, 100)\n",
    "npoints = [get_acc_npoints(n) for n in nlabels]\n",
    "\n",
    "npoints[0] = 0.4037\n",
    "\n",
    "plt.figure(figsize=(5, 3))\n",
    "\n",
    "(markerline, stemlines, baseline) = plt.stem(nlabels, npoints)\n",
    "#plt.setp(baseline, visible=False)\n",
    "plt.axhline(\n",
    "    npoints[0], \n",
    "    linestyle='--', color='C1', label=f'100 labeled examples')\n",
    "plt.axhline(\n",
    "    0.1, \n",
    "    linestyle='--', color='C2', label=f'Random')\n",
    "\n",
    "plt.xticks(nlabels)\n",
    "plt.ylabel('End model accuracy')\n",
    "plt.xlabel('Number of labeled examples')\n",
    "\n",
    "plt.legend(frameon=True, loc='lower right')\n",
    "plt.savefig('nlabels.pdf', bbox_inches='tight')\n",
    "plt.show()"
   ]
  },
  {
   "cell_type": "code",
   "execution_count": null,
   "metadata": {},
   "outputs": [],
   "source": []
  },
  {
   "cell_type": "code",
   "execution_count": null,
   "metadata": {},
   "outputs": [],
   "source": []
  },
  {
   "cell_type": "code",
   "execution_count": null,
   "metadata": {},
   "outputs": [],
   "source": []
  }
 ],
 "metadata": {
  "interpreter": {
   "hash": "6fc900d93f77a9b4c6b924fbd3bb6f1112414aed80d2fca60bc4c561a035ee7c"
  },
  "kernelspec": {
   "display_name": "Python 3.7.11 ('FWRENCH')",
   "language": "python",
   "name": "python3"
  },
  "language_info": {
   "codemirror_mode": {
    "name": "ipython",
    "version": 3
   },
   "file_extension": ".py",
   "mimetype": "text/x-python",
   "name": "python",
   "nbconvert_exporter": "python",
   "pygments_lexer": "ipython3",
   "version": "3.7.11"
  },
  "orig_nbformat": 4
 },
 "nbformat": 4,
 "nbformat_minor": 2
}
