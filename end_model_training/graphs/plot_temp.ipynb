{
 "cells": [
  {
   "cell_type": "code",
   "execution_count": 1,
   "metadata": {},
   "outputs": [
    {
     "name": "stderr",
     "output_type": "stream",
     "text": [
      "No artists with labels found to put in legend.  Note that artists whose label start with an underscore are ignored when legend() is called with no argument.\n",
      "No artists with labels found to put in legend.  Note that artists whose label start with an underscore are ignored when legend() is called with no argument.\n",
      "No artists with labels found to put in legend.  Note that artists whose label start with an underscore are ignored when legend() is called with no argument.\n",
      "No artists with labels found to put in legend.  Note that artists whose label start with an underscore are ignored when legend() is called with no argument.\n"
     ]
    },
    {
     "data": {
      "image/png": "[encoded data removed]",
      "text/plain": [
       "<Figure size 1440x576 with 6 Axes>"
      ]
     },
     "metadata": {
      "needs_background": "light"
     },
     "output_type": "display_data"
    }
   ],
   "source": [
    "import glob\n",
    "import json\n",
    "import numpy as np\n",
    "import matplotlib.pyplot as plt\n",
    "\n",
    "dataset_metadata = { \n",
    "    'yelp': {'n_class': 2, \"train_size\": 30400, \"val_size\": 3800, 'metric': 'acc', 'coverage': 0.83}, \n",
    "    'imdb': {'n_class': 2, \"train_size\": 20000, \"val_size\": 2500, 'metric': 'acc', 'coverage': 0.88},\n",
    "    'trec': {'n_class': 6, \"train_size\": 4800, \"val_size\": 500, 'metric': 'acc', 'coverage': 0.95},\n",
    "    'youtube': {'n_class': 2,\"train_size\": 2000, \"val_size\": 120, 'metric': 'acc', 'coverage': 0.87},\n",
    "    'chemprot': {'n_class': 10,\"train_size\": 12600, \"val_size\": 1607, 'metric': 'acc', 'coverage': 0.86},\n",
    "    'spouse': {\"train_size\": 22254, \"val_size\": 2811, 'metric': 'f1_binary', 'coverage': 0.25},\n",
    "    'cdr': {\"train_size\": 8430, \"val_size\": 920, 'metric': 'f1_binary', 'coverage': 0.907},\n",
    "    'amazon31': {'n_class': 31,\"train_size\": 131781, \"val_size\": 5805, 'metric': 'acc'},\n",
    "    'banking77': {'n_class': 77,\"train_size\": 9003, \"val_size\": 1000, 'metric': 'acc'},\n",
    "    'massive_lowcard': {\"train_size\": 11514, \"val_size\": 2033, 'metric': 'acc'},\n",
    "    'dbpedia': {\"train_size\": 560000, \"val_size\": 5000, 'metric': 'acc'},\n",
    "    'semeval': {'n_class': 9,'train_size': 1749, \"val_size\": 178, 'metric': 'acc'},\n",
    "    'agnews': {'n_class': 4, 'train_size': 96000, \"val_size\": 12000,'metric': 'acc'},\n",
    "    'claude9': {\"train_size\": 5469, \"val_size\": 200, 'metric': 'f1_macro'}, \n",
    "    'massive18': {\"train_size\": 11514, \"val_size\": 2033, 'metric': 'acc'},\n",
    "    'massive-EN': {\"train_size\": 11564, \"val_size\": 3305, 'metric': 'acc'},\n",
    "    'massive-CN': {\"train_size\": 11564, \"val_size\": 3305, 'metric': 'acc'},\n",
    "    'massive-CN2': {\"train_size\": 11564, \"val_size\": 3305, 'metric': 'acc'},\n",
    "    'massive-NB': {\"train_size\": 11564, \"val_size\": 3305, 'metric': 'acc'},\n",
    "    'massive-NB2': {\"train_size\": 11564, \"val_size\": 3305, 'metric': 'acc'},\n",
    "    'massive_cn_append': {\"train_size\": 23128, \"val_size\": 3305, 'metric': 'acc'},\n",
    "    'massive_nb_append': {\"train_size\": 23128, \"val_size\": 3305, 'metric': 'acc'},\n",
    "    'massive_nb_inference': {\"train_size\": 11564, \"val_size\": 3305, 'metric': 'acc'},\n",
    "    'massive_cn_inference': {\"train_size\": 11564, \"val_size\": 3305, 'metric': 'acc'},\n",
    "}\n",
    "\n",
    "result_directory = \"../results\"\n",
    "datasets = ['massive-NB', 'massive-NB2', 'massive_nb_inference', 'massive_nb_append']\n",
    "N_RUNS = 5\n",
    "PERCENT_TRIAL = 1\n",
    "label_models = ['majority_voting']\n",
    "end_models = ['bert_roberta_fixed']\n",
    "\n",
    "pip_to_color = {\n",
    "    'supervised only': 'green',\n",
    "    'weak supervised': 'black',\n",
    "    'CFT+weak supervised': 'blue'\n",
    "}\n",
    "\n",
    "fig, axs = plt.subplots(2, 3, figsize=(20,8))\n",
    "counter_x = 0\n",
    "counter_y = 0\n",
    "\n",
    "for data in datasets:\n",
    "    files_per_data = glob.glob(f'{result_directory}/{data}/*.json')\n",
    "    ax = axs[counter_y, counter_x]\n",
    "    counter_x += 1\n",
    "    if counter_x == 3:\n",
    "        counter_x = 0\n",
    "        counter_y += 1\n",
    "    for filepath in files_per_data:\n",
    "        # finding the newest result\n",
    "        ind = filepath.find(\"(\")\n",
    "        if ind != -1:\n",
    "            n = filepath[ind+1]\n",
    "            copy = filepath[:ind + 1] + str(int(n) + 1) + filepath[ind+2:]\n",
    "            if copy in files_per_data:\n",
    "                continue  \n",
    "        else:\n",
    "            copy = filepath[: -5] + \"_(2)\" +  \".json\"\n",
    "            if copy in files_per_data:\n",
    "                continue\n",
    "        with open(filepath) as f:\n",
    "            file =  (filepath[3:]).split(\"/\")[2].split('.')[0].split(\"-\")\n",
    "            dataset_name, pip ,LM, EM,  = file[:4]\n",
    "\n",
    "            result_dict = json.load(f)\n",
    "            x = result_dict.keys()\n",
    "            if len(x) <= 1:\n",
    "                continue\n",
    "            if pip in pip_to_color:\n",
    "                # check the metric\n",
    "                if dataset_metadata[data]['metric'] not in result_dict[list(x)[0]][\"em_test\"].keys():\n",
    "                    continue\n",
    "                x = np.array(list(x)).astype(float) * dataset_metadata[data]['val_size']\n",
    "                em_test = [result_dict[k][\"em_test\"] for  k in result_dict]\n",
    "                em_test_mean, em_test_std = zip(*[list(v.values())[0] for v in em_test])\n",
    "                em_test_se = np.array(em_test_std) / np.sqrt(N_RUNS)\n",
    "\n",
    "                ax.plot(x, em_test_mean, label=pip, color=pip_to_color[pip], marker='o')\n",
    "                ax.fill_between(x, em_test_mean - 1.96 * em_test_se, em_test_mean + 1.96 * em_test_se, alpha=0.1, color=pip_to_color[pip])\n",
    "                if pip == 'fine_tune_on_val': \n",
    "                    l = pip + \"_after\"\n",
    "\n",
    "                    tuned_em_test = [result_dict[k][\"tuned_em_test\"] for k in result_dict]\n",
    "                    tuned_em_test_mean, tuned_em_test_std = zip(*[list(v.values())[0] for v in tuned_em_test])\n",
    "                    tuned_em_test_se = np.array(tuned_em_test_std) / np.sqrt(N_RUNS)\n",
    "\n",
    "                    ax.plot(x, tuned_em_test_mean, label=l, color=pip_to_color[l], marker='o')\n",
    "                    ax.fill_between(x, tuned_em_test_mean - 1.96 * tuned_em_test_se, tuned_em_test_mean + 1.96 * tuned_em_test_se, alpha=0.1, color=pip_to_color[l])\n",
    "    ax.set_title(f\"{dataset_name}\", fontsize=12)\n",
    "    ax.set_xlabel(\"Val size\", fontsize=10)\n",
    "    ax.set_ylabel(f\"Test {dataset_metadata[data]['metric']}\", fontsize=10)\n",
    "\n",
    "    # Add legend for each subplot\n",
    "    ax.legend()\n",
    "\n",
    "plt.subplots_adjust(bottom=0.25, top=1.0, hspace=0.35, wspace=0.25)\n",
    "plt.savefig(\"val_size\")\n",
    "plt.show()\n"
   ]
  },
  {
   "cell_type": "code",
   "execution_count": null,
   "metadata": {},
   "outputs": [],
   "source": []
  },
  {
   "cell_type": "code",
   "execution_count": null,
   "metadata": {},
   "outputs": [],
   "source": []
  },
  {
   "cell_type": "code",
   "execution_count": null,
   "metadata": {},
   "outputs": [],
   "source": []
  }
 ],
 "metadata": {
  "kernelspec": {
   "display_name": "AutoWS-Bench-101",
   "language": "python",
   "name": "python3"
  },
  "language_info": {
   "codemirror_mode": {
    "name": "ipython",
    "version": 3
   },
   "file_extension": ".py",
   "mimetype": "text/x-python",
   "name": "python",
   "nbconvert_exporter": "python",
   "pygments_lexer": "ipython3",
   "version": "3.7.11"
  }
 },
 "nbformat": 4,
 "nbformat_minor": 2
}
