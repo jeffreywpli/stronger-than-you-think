{
 "cells": [
  {
   "cell_type": "code",
   "execution_count": 1,
   "metadata": {},
   "outputs": [],
   "source": [
    "from googletrans import Translator\n",
    "import numpy as np\n",
    "import snorkel\n",
    "from snorkel.labeling import labeling_function\n",
    "from snorkel.labeling import LabelingFunction\n",
    "from snorkel.labeling import PandasLFApplier\n",
    "from snorkel.labeling import LFAnalysis\n",
    "from snorkel.labeling.model import MajorityLabelVoter\n",
    "import json\n",
    "import pandas as pd\n",
    "import warnings\n",
    "warnings.simplefilter(action='ignore', category=FutureWarning)"
   ]
  },
  {
   "cell_type": "code",
   "execution_count": 2,
   "metadata": {},
   "outputs": [],
   "source": [
    "%load_ext autoreload\n",
    "%autoreload 2\n",
    "import label_improve as li"
   ]
  },
  {
   "cell_type": "code",
   "execution_count": 3,
   "metadata": {},
   "outputs": [],
   "source": [
    "keywords = {\n",
    "    \"alarm\": [\n",
    "        \"alarm\",\n",
    "        \"wake+up\"\n",
    "    ],\n",
    "    \"audio\": [\n",
    "        \" mute \",\n",
    "        \"volume\",\n",
    "        \" loud\",\n",
    "        \"quiet\"\n",
    "    ],\n",
    "    \"iot\": [\n",
    "        \"light\",\n",
    "        \"wemo\",\n",
    "        \"coffee\"\n",
    "    ],\n",
    "    \"calendar\": [\n",
    "        \"calendar\",\n",
    "        \"schedule\",\n",
    "        \"remind\"\n",
    "    ],\n",
    "    \"play\": [\n",
    "        \"play \",\n",
    "        \"podcast\",\n",
    "        \"audiobook\"\n",
    "    ],\n",
    "    \"general\": [\n",
    "        \"good morning\",\n",
    "        \"joke\",\n",
    "        \"explain\"\n",
    "    ],\n",
    "    \"datetime\": [\n",
    "        \"date+today\",\n",
    "        \"time+is\",\n",
    "        \"date+is\"\n",
    "    ],\n",
    "    \"takeaway\": [\n",
    "        \"takeaway\",\n",
    "        \"delivery\",\n",
    "        \"order\"\n",
    "    ],\n",
    "    \"news\": [\n",
    "        \"news\",\n",
    "        \"times\",\n",
    "        \"headline\"\n",
    "    ],\n",
    "    \"music\": [\n",
    "        \"what+song\",\n",
    "        \"save+song\",\n",
    "        \"shuffle\"\n",
    "    ],\n",
    "    \"weather\": [\n",
    "        \"weather\",\n",
    "        \"temperature\",\n",
    "        \" rain\",\n",
    "        \" snow\"\n",
    "    ],\n",
    "    \"qa\": [\n",
    "        \"stock\",\n",
    "        \"what's\",\n",
    "        \"define\",\n",
    "        \"describe\",\n",
    "        \"what is\",\n",
    "        \"what+mean\"\n",
    "    ],\n",
    "    \"social\": [\n",
    "        \"message\",\n",
    "        \"tweet\",\n",
    "        \"twitter\",\n",
    "        \"facebook\",\n",
    "        \"complain\",\n",
    "        \"status\"\n",
    "    ],\n",
    "    \"recommendation\": [\n",
    "        \"recommend\",\n",
    "        \"suggest\",\n",
    "        \"restaurant\",\n",
    "    ],\n",
    "    \"cooking\": [\n",
    "        \"recipe\",\n",
    "        \"timer\",\n",
    "        \"cook\"\n",
    "    ],\n",
    "    \"transport\": [\n",
    "        \"ticket\",\n",
    "        \"train\",\n",
    "        \"flight\",\n",
    "        \"accident\",\n",
    "        \"traffic\"\n",
    "    ],\n",
    "    \"email\": [\n",
    "        \"email\",\n",
    "        \"inbox\",\n",
    "        \"message+inbox\",\n",
    "        \"message+email\"\n",
    "    ],\n",
    "    \"lists\": [\n",
    "        \" list\",\n",
    "        \"create+list\",\n",
    "        \"delete+list\"\n",
    "    ]\n",
    "}"
   ]
  },
  {
   "cell_type": "code",
   "execution_count": 5,
   "metadata": {},
   "outputs": [],
   "source": [
    "dataset_name = \"massive-ja\"\n",
    "\n",
    "idx_to_label = json.load(open(f\"../weak_datasets/{dataset_name}/label.json\"))\n",
    "label_to_idx = {l:i for i,l in idx_to_label.items()}\n",
    "\n",
    "ja_valid_df = li.massive_to_df(json.load(open(f\"../weak_datasets/{dataset_name}/valid.json\", \"r\")))\n",
    "ja_train_df = li.massive_to_df(json.load(open(f\"../weak_datasets/{dataset_name}/train.json\", \"r\")))\n",
    "ja_test_df = li.massive_to_df(json.load(open(f\"../weak_datasets/{dataset_name}/test.json\", \"r\")))"
   ]
  },
  {
   "cell_type": "code",
   "execution_count": 6,
   "metadata": {},
   "outputs": [],
   "source": [
    "# Loading the data \n",
    "dataset_name = \"massive-EN\"\n",
    "\n",
    "idx_to_label = json.load(open(f\"../weak_datasets/{dataset_name}/label.json\"))\n",
    "label_to_idx = {l:i for i,l in idx_to_label.items()}\n",
    "valid_df = li.massive_to_df(json.load(open(f\"../weak_datasets/{dataset_name}/valid.json\", \"r\")))\n",
    "train_df = li.massive_to_df(json.load(open(f\"../weak_datasets/{dataset_name}/train.json\", \"r\")))\n",
    "test_df = li.massive_to_df(json.load(open(f\"../weak_datasets/{dataset_name}/test.json\", \"r\")))"
   ]
  },
  {
   "cell_type": "code",
   "execution_count": 7,
   "metadata": {},
   "outputs": [],
   "source": [
    "keywords_by_idx = {int(label_to_idx[k]):v for k,v in keywords.items()}\n",
    "lfs = li.keywords_to_LFs(keywords_by_idx)"
   ]
  },
  {
   "cell_type": "code",
   "execution_count": 8,
   "metadata": {},
   "outputs": [
    {
     "name": "stderr",
     "output_type": "stream",
     "text": [
      "100%|██████████| 1652/1652 [00:00<00:00, 3589.41it/s]\n",
      "100%|██████████| 11564/11564 [00:03<00:00, 3259.20it/s]\n",
      "100%|██████████| 3305/3305 [00:01<00:00, 2997.04it/s]\n"
     ]
    }
   ],
   "source": [
    "new_test = li.df_to_df_with_new_lf(ja_test_df, test_df, lfs)\n",
    "new_train = li.df_to_df_with_new_lf(ja_train_df, train_df, lfs)\n",
    "new_valid = li.df_to_df_with_new_lf(ja_valid_df, valid_df, lfs)"
   ]
  },
  {
   "cell_type": "code",
   "execution_count": 9,
   "metadata": {},
   "outputs": [
    {
     "name": "stdout",
     "output_type": "stream",
     "text": [
      "Test Coverage: 0.610774818401937\n",
      "acuracy for the not abstains\n",
      "0.9107929515418502\n",
      "acuracy for all\n",
      "0.5006053268765133\n",
      "Test Coverage: 0.6162227602905569\n",
      "acuracy for the not abstains\n",
      "0.901840490797546\n",
      "acuracy for all\n",
      "0.4957627118644068\n",
      "Test Coverage: 0.6084720121028744\n",
      "acuracy for the not abstains\n",
      "0.9073972602739726\n",
      "acuracy for all\n",
      "0.5010590015128593\n"
     ]
    }
   ],
   "source": [
    "li.analysis_LFs_with_weak_labels(new_test, 18)\n",
    "li.analysis_LFs_with_weak_labels(new_train, 18)\n",
    "li.analysis_LFs_with_weak_labels(new_valid, 18)"
   ]
  },
  {
   "cell_type": "code",
   "execution_count": 10,
   "metadata": {},
   "outputs": [],
   "source": [
    "massive = li.df_to_massive(new_train)\n",
    "li.save_dataset(massive,  \"../weak_datasets/massive-JA/train.json\")\n",
    "massive = li.df_to_massive(new_valid)\n",
    "li.save_dataset(massive,  \"../weak_datasets/massive-JA/valid.json\")\n",
    "massive = li.df_to_massive(new_test)\n",
    "li.save_dataset(massive,  \"../weak_datasets/massive-JA/test.json\")"
   ]
  },
  {
   "cell_type": "code",
   "execution_count": 11,
   "metadata": {},
   "outputs": [],
   "source": [
    "# Loading the data \n",
    "dataset_name = \"massive-JA\"\n",
    "# the following nb i actually ja for simplicity\n",
    "idx_to_label = json.load(open(f\"../weak_datasets/{dataset_name}/label.json\"))\n",
    "label_to_idx = {l:i for i,l in idx_to_label.items()}\n",
    "nb_valid_df = li.massive_to_df(json.load(open(f\"../weak_datasets/{dataset_name}/valid.json\", \"r\")))\n",
    "nb_train_df = li.massive_to_df(json.load(open(f\"../weak_datasets/{dataset_name}/train.json\", \"r\")))\n",
    "nb_test_df = li.massive_to_df(json.load(open(f\"../weak_datasets/{dataset_name}/test.json\", \"r\")))"
   ]
  },
  {
   "cell_type": "code",
   "execution_count": 12,
   "metadata": {},
   "outputs": [],
   "source": [
    "auth_key = \"8648c5d9-09cf-4d89-83d5-bde6ebbc5f5e:fx\""
   ]
  },
  {
   "cell_type": "code",
   "execution_count": 13,
   "metadata": {},
   "outputs": [
    {
     "name": "stderr",
     "output_type": "stream",
     "text": [
      "Translating: 100%|██████████| 1652/1652 [00:04<00:00, 374.08it/s]\n"
     ]
    },
    {
     "data": {
      "text/html": [
       "<div>\n",
       "<style scoped>\n",
       "    .dataframe tbody tr th:only-of-type {\n",
       "        vertical-align: middle;\n",
       "    }\n",
       "\n",
       "    .dataframe tbody tr th {\n",
       "        vertical-align: top;\n",
       "    }\n",
       "\n",
       "    .dataframe thead th {\n",
       "        text-align: right;\n",
       "    }\n",
       "</style>\n",
       "<table border=\"1\" class=\"dataframe\">\n",
       "  <thead>\n",
       "    <tr style=\"text-align: right;\">\n",
       "      <th></th>\n",
       "      <th>text</th>\n",
       "      <th>label</th>\n",
       "      <th>weak_labels</th>\n",
       "    </tr>\n",
       "  </thead>\n",
       "  <tbody>\n",
       "    <tr>\n",
       "      <th>0</th>\n",
       "      <td>Turn on the light</td>\n",
       "      <td>2</td>\n",
       "      <td>[-1, -1, -1, -1, -1, -1, 2, -1, -1, -1, -1, -1...</td>\n",
       "    </tr>\n",
       "    <tr>\n",
       "      <th>1</th>\n",
       "      <td>Check the meaning of pda</td>\n",
       "      <td>11</td>\n",
       "      <td>[-1, -1, -1, -1, -1, -1, -1, -1, -1, -1, -1, -...</td>\n",
       "    </tr>\n",
       "    <tr>\n",
       "      <th>2</th>\n",
       "      <td>How long until 8 p.m.?</td>\n",
       "      <td>6</td>\n",
       "      <td>[-1, -1, -1, -1, -1, -1, -1, -1, -1, -1, -1, -...</td>\n",
       "    </tr>\n",
       "    <tr>\n",
       "      <th>3</th>\n",
       "      <td>Did you get the email with the track number?</td>\n",
       "      <td>16</td>\n",
       "      <td>[-1, -1, -1, -1, -1, -1, -1, -1, -1, -1, -1, -...</td>\n",
       "    </tr>\n",
       "    <tr>\n",
       "      <th>4</th>\n",
       "      <td>What does the email my mother sent me thirty m...</td>\n",
       "      <td>16</td>\n",
       "      <td>[-1, -1, -1, -1, -1, -1, -1, -1, -1, -1, -1, -...</td>\n",
       "    </tr>\n",
       "  </tbody>\n",
       "</table>\n",
       "</div>"
      ],
      "text/plain": [
       "                                                text  label  \\\n",
       "0                                  Turn on the light      2   \n",
       "1                           Check the meaning of pda     11   \n",
       "2                             How long until 8 p.m.?      6   \n",
       "3       Did you get the email with the track number?     16   \n",
       "4  What does the email my mother sent me thirty m...     16   \n",
       "\n",
       "                                         weak_labels  \n",
       "0  [-1, -1, -1, -1, -1, -1, 2, -1, -1, -1, -1, -1...  \n",
       "1  [-1, -1, -1, -1, -1, -1, -1, -1, -1, -1, -1, -...  \n",
       "2  [-1, -1, -1, -1, -1, -1, -1, -1, -1, -1, -1, -...  \n",
       "3  [-1, -1, -1, -1, -1, -1, -1, -1, -1, -1, -1, -...  \n",
       "4  [-1, -1, -1, -1, -1, -1, -1, -1, -1, -1, -1, -...  "
      ]
     },
     "metadata": {},
     "output_type": "display_data"
    },
    {
     "data": {
      "text/html": [
       "<div>\n",
       "<style scoped>\n",
       "    .dataframe tbody tr th:only-of-type {\n",
       "        vertical-align: middle;\n",
       "    }\n",
       "\n",
       "    .dataframe tbody tr th {\n",
       "        vertical-align: top;\n",
       "    }\n",
       "\n",
       "    .dataframe thead th {\n",
       "        text-align: right;\n",
       "    }\n",
       "</style>\n",
       "<table border=\"1\" class=\"dataframe\">\n",
       "  <thead>\n",
       "    <tr style=\"text-align: right;\">\n",
       "      <th></th>\n",
       "      <th>text</th>\n",
       "      <th>label</th>\n",
       "      <th>weak_labels</th>\n",
       "    </tr>\n",
       "  </thead>\n",
       "  <tbody>\n",
       "    <tr>\n",
       "      <th>1647</th>\n",
       "      <td>We'll get this resolved quickly.</td>\n",
       "      <td>12</td>\n",
       "      <td>[-1, -1, -1, -1, -1, -1, -1, -1, -1, -1, -1, -...</td>\n",
       "    </tr>\n",
       "    <tr>\n",
       "      <th>1648</th>\n",
       "      <td>Where is Laos?</td>\n",
       "      <td>11</td>\n",
       "      <td>[-1, -1, -1, -1, -1, -1, -1, -1, -1, -1, -1, -...</td>\n",
       "    </tr>\n",
       "    <tr>\n",
       "      <th>1649</th>\n",
       "      <td>Tell me if I should take the train or the bus ...</td>\n",
       "      <td>15</td>\n",
       "      <td>[-1, -1, -1, -1, -1, -1, -1, -1, -1, -1, -1, -...</td>\n",
       "    </tr>\n",
       "    <tr>\n",
       "      <th>1650</th>\n",
       "      <td>Tell me about Selena Gomez's family.</td>\n",
       "      <td>11</td>\n",
       "      <td>[-1, -1, -1, -1, -1, -1, -1, -1, -1, -1, -1, -...</td>\n",
       "    </tr>\n",
       "    <tr>\n",
       "      <th>1651</th>\n",
       "      <td>The date of the winter solstice two years from...</td>\n",
       "      <td>6</td>\n",
       "      <td>[-1, -1, -1, -1, -1, -1, -1, -1, -1, -1, -1, -...</td>\n",
       "    </tr>\n",
       "  </tbody>\n",
       "</table>\n",
       "</div>"
      ],
      "text/plain": [
       "                                                   text  label  \\\n",
       "1647                   We'll get this resolved quickly.     12   \n",
       "1648                                     Where is Laos?     11   \n",
       "1649  Tell me if I should take the train or the bus ...     15   \n",
       "1650               Tell me about Selena Gomez's family.     11   \n",
       "1651  The date of the winter solstice two years from...      6   \n",
       "\n",
       "                                            weak_labels  \n",
       "1647  [-1, -1, -1, -1, -1, -1, -1, -1, -1, -1, -1, -...  \n",
       "1648  [-1, -1, -1, -1, -1, -1, -1, -1, -1, -1, -1, -...  \n",
       "1649  [-1, -1, -1, -1, -1, -1, -1, -1, -1, -1, -1, -...  \n",
       "1650  [-1, -1, -1, -1, -1, -1, -1, -1, -1, -1, -1, -...  \n",
       "1651  [-1, -1, -1, -1, -1, -1, -1, -1, -1, -1, -1, -...  "
      ]
     },
     "metadata": {},
     "output_type": "display_data"
    },
    {
     "name": "stderr",
     "output_type": "stream",
     "text": [
      "100%|██████████| 1652/1652 [00:00<00:00, 3694.42it/s]\n"
     ]
    }
   ],
   "source": [
    "nbten_test= li.deep_translate_df_to_english(nb_test_df, auth_key, \"JA\")\n",
    "display(nbten_test.head())\n",
    "display(nbten_test.tail())\n",
    "nbten_test = li.massive_df_with_new_lf(nbten_test, lfs)\n",
    "massive = li.df_to_massive(nbten_test)\n",
    "li.save_dataset(massive, \"../weak_datasets/temp/translate_ja/test.json\")"
   ]
  },
  {
   "cell_type": "code",
   "execution_count": 14,
   "metadata": {},
   "outputs": [
    {
     "name": "stderr",
     "output_type": "stream",
     "text": [
      "Translating: 100%|██████████| 3305/3305 [00:06<00:00, 487.35it/s]\n"
     ]
    },
    {
     "data": {
      "text/html": [
       "<div>\n",
       "<style scoped>\n",
       "    .dataframe tbody tr th:only-of-type {\n",
       "        vertical-align: middle;\n",
       "    }\n",
       "\n",
       "    .dataframe tbody tr th {\n",
       "        vertical-align: top;\n",
       "    }\n",
       "\n",
       "    .dataframe thead th {\n",
       "        text-align: right;\n",
       "    }\n",
       "</style>\n",
       "<table border=\"1\" class=\"dataframe\">\n",
       "  <thead>\n",
       "    <tr style=\"text-align: right;\">\n",
       "      <th></th>\n",
       "      <th>text</th>\n",
       "      <th>label</th>\n",
       "      <th>weak_labels</th>\n",
       "    </tr>\n",
       "  </thead>\n",
       "  <tbody>\n",
       "    <tr>\n",
       "      <th>0</th>\n",
       "      <td>Look up narendra modi.</td>\n",
       "      <td>11</td>\n",
       "      <td>[-1, -1, -1, -1, -1, -1, -1, -1, -1, -1, -1, -...</td>\n",
       "    </tr>\n",
       "    <tr>\n",
       "      <th>1</th>\n",
       "      <td>What is the weather forecast for this week</td>\n",
       "      <td>10</td>\n",
       "      <td>[-1, -1, -1, -1, -1, -1, -1, -1, -1, -1, -1, -...</td>\n",
       "    </tr>\n",
       "    <tr>\n",
       "      <th>2</th>\n",
       "      <td>Email Yu to wish him a Happy New Year.</td>\n",
       "      <td>16</td>\n",
       "      <td>[-1, -1, -1, -1, -1, -1, -1, -1, -1, -1, -1, -...</td>\n",
       "    </tr>\n",
       "    <tr>\n",
       "      <th>3</th>\n",
       "      <td>Tell me about a furniture store near you.</td>\n",
       "      <td>13</td>\n",
       "      <td>[-1, -1, -1, -1, -1, -1, -1, -1, -1, -1, -1, -...</td>\n",
       "    </tr>\n",
       "    <tr>\n",
       "      <th>4</th>\n",
       "      <td>Turn off the bedroom light.</td>\n",
       "      <td>2</td>\n",
       "      <td>[-1, -1, -1, -1, -1, -1, 2, -1, -1, -1, -1, -1...</td>\n",
       "    </tr>\n",
       "  </tbody>\n",
       "</table>\n",
       "</div>"
      ],
      "text/plain": [
       "                                         text  label  \\\n",
       "0                      Look up narendra modi.     11   \n",
       "1  What is the weather forecast for this week     10   \n",
       "2      Email Yu to wish him a Happy New Year.     16   \n",
       "3   Tell me about a furniture store near you.     13   \n",
       "4                 Turn off the bedroom light.      2   \n",
       "\n",
       "                                         weak_labels  \n",
       "0  [-1, -1, -1, -1, -1, -1, -1, -1, -1, -1, -1, -...  \n",
       "1  [-1, -1, -1, -1, -1, -1, -1, -1, -1, -1, -1, -...  \n",
       "2  [-1, -1, -1, -1, -1, -1, -1, -1, -1, -1, -1, -...  \n",
       "3  [-1, -1, -1, -1, -1, -1, -1, -1, -1, -1, -1, -...  \n",
       "4  [-1, -1, -1, -1, -1, -1, 2, -1, -1, -1, -1, -1...  "
      ]
     },
     "metadata": {},
     "output_type": "display_data"
    },
    {
     "data": {
      "text/html": [
       "<div>\n",
       "<style scoped>\n",
       "    .dataframe tbody tr th:only-of-type {\n",
       "        vertical-align: middle;\n",
       "    }\n",
       "\n",
       "    .dataframe tbody tr th {\n",
       "        vertical-align: top;\n",
       "    }\n",
       "\n",
       "    .dataframe thead th {\n",
       "        text-align: right;\n",
       "    }\n",
       "</style>\n",
       "<table border=\"1\" class=\"dataframe\">\n",
       "  <thead>\n",
       "    <tr style=\"text-align: right;\">\n",
       "      <th></th>\n",
       "      <th>text</th>\n",
       "      <th>label</th>\n",
       "      <th>weak_labels</th>\n",
       "    </tr>\n",
       "  </thead>\n",
       "  <tbody>\n",
       "    <tr>\n",
       "      <th>3300</th>\n",
       "      <td>Play music.</td>\n",
       "      <td>4</td>\n",
       "      <td>[-1, -1, -1, -1, -1, -1, -1, -1, -1, -1, -1, -...</td>\n",
       "    </tr>\n",
       "    <tr>\n",
       "      <th>3301</th>\n",
       "      <td>The conversion rate between dirhams and rupees is</td>\n",
       "      <td>11</td>\n",
       "      <td>[-1, -1, -1, -1, -1, -1, -1, -1, -1, -1, -1, -...</td>\n",
       "    </tr>\n",
       "    <tr>\n",
       "      <th>3302</th>\n",
       "      <td>When is Friday the 13th this year?</td>\n",
       "      <td>6</td>\n",
       "      <td>[-1, -1, -1, -1, -1, -1, -1, -1, -1, -1, -1, -...</td>\n",
       "    </tr>\n",
       "    <tr>\n",
       "      <th>3303</th>\n",
       "      <td>Complete all events in the calendar</td>\n",
       "      <td>3</td>\n",
       "      <td>[-1, -1, -1, -1, -1, -1, -1, -1, -1, 3, -1, -1...</td>\n",
       "    </tr>\n",
       "    <tr>\n",
       "      <th>3304</th>\n",
       "      <td>Say hello and post on facebook.</td>\n",
       "      <td>12</td>\n",
       "      <td>[-1, -1, -1, -1, -1, -1, -1, -1, -1, -1, -1, -...</td>\n",
       "    </tr>\n",
       "  </tbody>\n",
       "</table>\n",
       "</div>"
      ],
      "text/plain": [
       "                                                   text  label  \\\n",
       "3300                                        Play music.      4   \n",
       "3301  The conversion rate between dirhams and rupees is     11   \n",
       "3302                 When is Friday the 13th this year?      6   \n",
       "3303                Complete all events in the calendar      3   \n",
       "3304                    Say hello and post on facebook.     12   \n",
       "\n",
       "                                            weak_labels  \n",
       "3300  [-1, -1, -1, -1, -1, -1, -1, -1, -1, -1, -1, -...  \n",
       "3301  [-1, -1, -1, -1, -1, -1, -1, -1, -1, -1, -1, -...  \n",
       "3302  [-1, -1, -1, -1, -1, -1, -1, -1, -1, -1, -1, -...  \n",
       "3303  [-1, -1, -1, -1, -1, -1, -1, -1, -1, 3, -1, -1...  \n",
       "3304  [-1, -1, -1, -1, -1, -1, -1, -1, -1, -1, -1, -...  "
      ]
     },
     "metadata": {},
     "output_type": "display_data"
    },
    {
     "name": "stderr",
     "output_type": "stream",
     "text": [
      "100%|██████████| 3305/3305 [00:01<00:00, 3105.35it/s]\n"
     ]
    }
   ],
   "source": [
    "nbten_valid= li.deep_translate_df_to_english(nb_valid_df, auth_key, \"JA\")\n",
    "display(nbten_valid.head())\n",
    "display(nbten_valid.tail())\n",
    "nbten_valid = li.massive_df_with_new_lf(nbten_valid, lfs)\n",
    "massive = li.df_to_massive(nbten_valid)\n",
    "li.save_dataset(massive, \"../weak_datasets/temp/translate_ja/valid.json\")"
   ]
  },
  {
   "cell_type": "code",
   "execution_count": 15,
   "metadata": {},
   "outputs": [
    {
     "name": "stderr",
     "output_type": "stream",
     "text": [
      "Translating: 100%|██████████| 11564/11564 [00:20<00:00, 564.78it/s]\n"
     ]
    },
    {
     "data": {
      "text/html": [
       "<div>\n",
       "<style scoped>\n",
       "    .dataframe tbody tr th:only-of-type {\n",
       "        vertical-align: middle;\n",
       "    }\n",
       "\n",
       "    .dataframe tbody tr th {\n",
       "        vertical-align: top;\n",
       "    }\n",
       "\n",
       "    .dataframe thead th {\n",
       "        text-align: right;\n",
       "    }\n",
       "</style>\n",
       "<table border=\"1\" class=\"dataframe\">\n",
       "  <thead>\n",
       "    <tr style=\"text-align: right;\">\n",
       "      <th></th>\n",
       "      <th>text</th>\n",
       "      <th>label</th>\n",
       "      <th>weak_labels</th>\n",
       "    </tr>\n",
       "  </thead>\n",
       "  <tbody>\n",
       "    <tr>\n",
       "      <th>0</th>\n",
       "      <td>Open my list</td>\n",
       "      <td>17</td>\n",
       "      <td>[-1, -1, -1, -1, -1, -1, -1, -1, -1, -1, -1, -...</td>\n",
       "    </tr>\n",
       "    <tr>\n",
       "      <th>1</th>\n",
       "      <td>Disable Shuffle</td>\n",
       "      <td>9</td>\n",
       "      <td>[-1, -1, -1, -1, -1, -1, -1, -1, -1, -1, -1, -...</td>\n",
       "    </tr>\n",
       "    <tr>\n",
       "      <th>2</th>\n",
       "      <td>What listings have you created today?</td>\n",
       "      <td>17</td>\n",
       "      <td>[-1, -1, -1, -1, -1, -1, -1, -1, -1, -1, -1, -...</td>\n",
       "    </tr>\n",
       "    <tr>\n",
       "      <th>3</th>\n",
       "      <td>I bumped into my old friend no Kosuke today.</td>\n",
       "      <td>5</td>\n",
       "      <td>[-1, -1, -1, -1, -1, -1, -1, -1, -1, -1, -1, -...</td>\n",
       "    </tr>\n",
       "    <tr>\n",
       "      <th>4</th>\n",
       "      <td>Busy day.</td>\n",
       "      <td>5</td>\n",
       "      <td>[-1, -1, -1, -1, -1, -1, -1, -1, -1, -1, -1, -...</td>\n",
       "    </tr>\n",
       "  </tbody>\n",
       "</table>\n",
       "</div>"
      ],
      "text/plain": [
       "                                           text  label  \\\n",
       "0                                  Open my list     17   \n",
       "1                               Disable Shuffle      9   \n",
       "2         What listings have you created today?     17   \n",
       "3  I bumped into my old friend no Kosuke today.      5   \n",
       "4                                     Busy day.      5   \n",
       "\n",
       "                                         weak_labels  \n",
       "0  [-1, -1, -1, -1, -1, -1, -1, -1, -1, -1, -1, -...  \n",
       "1  [-1, -1, -1, -1, -1, -1, -1, -1, -1, -1, -1, -...  \n",
       "2  [-1, -1, -1, -1, -1, -1, -1, -1, -1, -1, -1, -...  \n",
       "3  [-1, -1, -1, -1, -1, -1, -1, -1, -1, -1, -1, -...  \n",
       "4  [-1, -1, -1, -1, -1, -1, -1, -1, -1, -1, -1, -...  "
      ]
     },
     "metadata": {},
     "output_type": "display_data"
    },
    {
     "data": {
      "text/html": [
       "<div>\n",
       "<style scoped>\n",
       "    .dataframe tbody tr th:only-of-type {\n",
       "        vertical-align: middle;\n",
       "    }\n",
       "\n",
       "    .dataframe tbody tr th {\n",
       "        vertical-align: top;\n",
       "    }\n",
       "\n",
       "    .dataframe thead th {\n",
       "        text-align: right;\n",
       "    }\n",
       "</style>\n",
       "<table border=\"1\" class=\"dataframe\">\n",
       "  <thead>\n",
       "    <tr style=\"text-align: right;\">\n",
       "      <th></th>\n",
       "      <th>text</th>\n",
       "      <th>label</th>\n",
       "      <th>weak_labels</th>\n",
       "    </tr>\n",
       "  </thead>\n",
       "  <tbody>\n",
       "    <tr>\n",
       "      <th>11559</th>\n",
       "      <td>restaurant (esp. Western-style)</td>\n",
       "      <td>13</td>\n",
       "      <td>[-1, -1, -1, -1, -1, -1, -1, -1, -1, -1, -1, -...</td>\n",
       "    </tr>\n",
       "    <tr>\n",
       "      <th>11560</th>\n",
       "      <td>I'll call a cab today at 7pm.</td>\n",
       "      <td>15</td>\n",
       "      <td>[-1, -1, -1, -1, -1, -1, -1, -1, -1, -1, -1, -...</td>\n",
       "    </tr>\n",
       "    <tr>\n",
       "      <th>11561</th>\n",
       "      <td>Play Paprika by Genji Yonezu.</td>\n",
       "      <td>4</td>\n",
       "      <td>[-1, -1, -1, -1, -1, -1, -1, -1, -1, -1, -1, -...</td>\n",
       "    </tr>\n",
       "    <tr>\n",
       "      <th>11562</th>\n",
       "      <td>Turn off the 6 a.m. alarm on Wednesdays</td>\n",
       "      <td>0</td>\n",
       "      <td>[0, -1, -1, -1, -1, -1, -1, -1, -1, -1, -1, -1...</td>\n",
       "    </tr>\n",
       "    <tr>\n",
       "      <th>11563</th>\n",
       "      <td>Text Kotaro to ask what time dinner is.</td>\n",
       "      <td>16</td>\n",
       "      <td>[-1, -1, -1, -1, -1, -1, -1, -1, -1, -1, -1, -...</td>\n",
       "    </tr>\n",
       "  </tbody>\n",
       "</table>\n",
       "</div>"
      ],
      "text/plain": [
       "                                          text  label  \\\n",
       "11559          restaurant (esp. Western-style)     13   \n",
       "11560            I'll call a cab today at 7pm.     15   \n",
       "11561            Play Paprika by Genji Yonezu.      4   \n",
       "11562  Turn off the 6 a.m. alarm on Wednesdays      0   \n",
       "11563  Text Kotaro to ask what time dinner is.     16   \n",
       "\n",
       "                                             weak_labels  \n",
       "11559  [-1, -1, -1, -1, -1, -1, -1, -1, -1, -1, -1, -...  \n",
       "11560  [-1, -1, -1, -1, -1, -1, -1, -1, -1, -1, -1, -...  \n",
       "11561  [-1, -1, -1, -1, -1, -1, -1, -1, -1, -1, -1, -...  \n",
       "11562  [0, -1, -1, -1, -1, -1, -1, -1, -1, -1, -1, -1...  \n",
       "11563  [-1, -1, -1, -1, -1, -1, -1, -1, -1, -1, -1, -...  "
      ]
     },
     "metadata": {},
     "output_type": "display_data"
    },
    {
     "name": "stderr",
     "output_type": "stream",
     "text": [
      "100%|██████████| 11564/11564 [00:03<00:00, 2990.60it/s]\n"
     ]
    }
   ],
   "source": [
    "nbten_train= li.deep_translate_df_to_english(nb_train_df, auth_key, \"JA\")\n",
    "display(nbten_train.head())\n",
    "display(nbten_train.tail())\n",
    "nbten_train = li.massive_df_with_new_lf(nbten_train, lfs)\n",
    "massive = li.df_to_massive(nbten_train)\n",
    "li.save_dataset(massive, \"../weak_datasets/temp/translate_ja/train.json\")"
   ]
  },
  {
   "cell_type": "code",
   "execution_count": 16,
   "metadata": {},
   "outputs": [],
   "source": [
    "# Loading the data \n",
    "dataset_name = \"massive-JA\"\n",
    "\n",
    "idx_to_label = json.load(open(f\"../weak_datasets/{dataset_name}/label.json\"))\n",
    "label_to_idx = {l:i for i,l in idx_to_label.items()}\n",
    "nb_valid_df = li.massive_to_df(json.load(open(f\"../weak_datasets/{dataset_name}/valid.json\", \"r\")))\n",
    "nb_train_df = li.massive_to_df(json.load(open(f\"../weak_datasets/{dataset_name}/train.json\", \"r\")))\n",
    "nb_test_df = li.massive_to_df(json.load(open(f\"../weak_datasets/{dataset_name}/test.json\", \"r\")))"
   ]
  },
  {
   "cell_type": "code",
   "execution_count": 17,
   "metadata": {},
   "outputs": [],
   "source": [
    "# Loading the data \n",
    "dataset_name = \"translate_ja\"\n",
    "\n",
    "nte_valid_df = li.massive_to_df(json.load(open(f\"../weak_datasets/temp/{dataset_name}/valid.json\", \"r\")))\n",
    "nte_train_df = li.massive_to_df(json.load(open(f\"../weak_datasets/temp/{dataset_name}/train.json\", \"r\")))\n",
    "nte_test_df = li.massive_to_df(json.load(open(f\"../weak_datasets/temp/{dataset_name}/test.json\", \"r\")))"
   ]
  },
  {
   "cell_type": "code",
   "execution_count": 18,
   "metadata": {},
   "outputs": [
    {
     "name": "stderr",
     "output_type": "stream",
     "text": [
      "100%|██████████| 1652/1652 [00:00<00:00, 3543.27it/s]\n",
      "100%|██████████| 11564/11564 [00:03<00:00, 3064.63it/s]\n",
      "100%|██████████| 3305/3305 [00:01<00:00, 3288.62it/s]\n"
     ]
    }
   ],
   "source": [
    "new_test = li.df_to_df_with_new_lf(nb_test_df, nte_test_df, lfs)\n",
    "massive = li.df_to_massive(new_test)\n",
    "li.save_dataset(massive,  \"../weak_datasets/massive-JA2/test.json\")\n",
    "new_train = li.df_to_df_with_new_lf(nb_train_df, nte_train_df, lfs)\n",
    "massive = li.df_to_massive(new_train)\n",
    "li.save_dataset(li.df_to_massive(new_train),  \"../weak_datasets/massive-JA2/train.json\")\n",
    "new_valid = li.df_to_df_with_new_lf(nb_valid_df, nte_valid_df, lfs)\n",
    "massive = li.df_to_massive(new_valid)\n",
    "li.save_dataset(li.df_to_massive(new_valid),  \"../weak_datasets/massive-JA2/valid.json\")\n"
   ]
  },
  {
   "cell_type": "code",
   "execution_count": 19,
   "metadata": {},
   "outputs": [
    {
     "name": "stdout",
     "output_type": "stream",
     "text": [
      "Test Coverage: 0.5709531013615734\n",
      "acuracy for the not abstains\n",
      "0.9081395348837209\n",
      "acuracy for all\n",
      "0.4726172465960666\n",
      "Test Coverage: 0.5763576617087512\n",
      "acuracy for the not abstains\n",
      "0.9098226018396847\n",
      "acuracy for all\n",
      "0.4789865098581806\n",
      "Test Coverage: 0.5641646489104116\n",
      "acuracy for the not abstains\n",
      "0.926056338028169\n",
      "acuracy for all\n",
      "0.47760290556900725\n"
     ]
    }
   ],
   "source": [
    "li.analysis_LFs_with_weak_labels(new_valid,18)  \n",
    "li.analysis_LFs_with_weak_labels(new_train,18)\n",
    "li.analysis_LFs_with_weak_labels(new_test,18)"
   ]
  },
  {
   "cell_type": "code",
   "execution_count": 20,
   "metadata": {},
   "outputs": [
    {
     "name": "stdout",
     "output_type": "stream",
     "text": [
      "Test Coverage: 0.6084720121028744\n",
      "acuracy for the not abstains\n",
      "0.9073972602739726\n",
      "acuracy for all\n",
      "0.5010590015128593\n",
      "Test Coverage: 0.6162227602905569\n",
      "acuracy for the not abstains\n",
      "0.901840490797546\n",
      "acuracy for all\n",
      "0.4957627118644068\n",
      "Test Coverage: 0.610774818401937\n",
      "acuracy for the not abstains\n",
      "0.9107929515418502\n",
      "acuracy for all\n",
      "0.5006053268765133\n"
     ]
    }
   ],
   "source": [
    "li.analysis_LFs_with_weak_labels(valid_df,18)\n",
    "li.analysis_LFs_with_weak_labels(train_df,18)\n",
    "li.analysis_LFs_with_weak_labels(test_df,18)"
   ]
  },
  {
   "cell_type": "code",
   "execution_count": 6,
   "metadata": {},
   "outputs": [
    {
     "data": {
      "text/html": [
       "<div>\n",
       "<style scoped>\n",
       "    .dataframe tbody tr th:only-of-type {\n",
       "        vertical-align: middle;\n",
       "    }\n",
       "\n",
       "    .dataframe tbody tr th {\n",
       "        vertical-align: top;\n",
       "    }\n",
       "\n",
       "    .dataframe thead th {\n",
       "        text-align: right;\n",
       "    }\n",
       "</style>\n",
       "<table border=\"1\" class=\"dataframe\">\n",
       "  <thead>\n",
       "    <tr style=\"text-align: right;\">\n",
       "      <th></th>\n",
       "      <th>text</th>\n",
       "      <th>label</th>\n",
       "      <th>weak_labels</th>\n",
       "    </tr>\n",
       "  </thead>\n",
       "  <tbody>\n",
       "    <tr>\n",
       "      <th>0</th>\n",
       "      <td>open my list</td>\n",
       "      <td>17</td>\n",
       "      <td>[-1, -1, -1, -1, -1, -1, -1, -1, -1, -1, -1, -...</td>\n",
       "    </tr>\n",
       "    <tr>\n",
       "      <th>1</th>\n",
       "      <td>disable shuffle</td>\n",
       "      <td>9</td>\n",
       "      <td>[-1, -1, -1, -1, -1, -1, -1, -1, -1, -1, -1, -...</td>\n",
       "    </tr>\n",
       "    <tr>\n",
       "      <th>2</th>\n",
       "      <td>what list did i make today</td>\n",
       "      <td>17</td>\n",
       "      <td>[-1, -1, -1, -1, -1, -1, -1, -1, -1, -1, -1, -...</td>\n",
       "    </tr>\n",
       "    <tr>\n",
       "      <th>3</th>\n",
       "      <td>today i ran into my old friend bob</td>\n",
       "      <td>5</td>\n",
       "      <td>[-1, -1, -1, -1, -1, -1, -1, -1, -1, -1, -1, -...</td>\n",
       "    </tr>\n",
       "    <tr>\n",
       "      <th>4</th>\n",
       "      <td>it was a work load day</td>\n",
       "      <td>5</td>\n",
       "      <td>[-1, -1, -1, -1, -1, -1, -1, -1, -1, -1, -1, -...</td>\n",
       "    </tr>\n",
       "  </tbody>\n",
       "</table>\n",
       "</div>"
      ],
      "text/plain": [
       "                                 text  label  \\\n",
       "0                        open my list     17   \n",
       "1                     disable shuffle      9   \n",
       "2          what list did i make today     17   \n",
       "3  today i ran into my old friend bob      5   \n",
       "4              it was a work load day      5   \n",
       "\n",
       "                                         weak_labels  \n",
       "0  [-1, -1, -1, -1, -1, -1, -1, -1, -1, -1, -1, -...  \n",
       "1  [-1, -1, -1, -1, -1, -1, -1, -1, -1, -1, -1, -...  \n",
       "2  [-1, -1, -1, -1, -1, -1, -1, -1, -1, -1, -1, -...  \n",
       "3  [-1, -1, -1, -1, -1, -1, -1, -1, -1, -1, -1, -...  \n",
       "4  [-1, -1, -1, -1, -1, -1, -1, -1, -1, -1, -1, -...  "
      ]
     },
     "metadata": {},
     "output_type": "display_data"
    },
    {
     "data": {
      "text/html": [
       "<div>\n",
       "<style scoped>\n",
       "    .dataframe tbody tr th:only-of-type {\n",
       "        vertical-align: middle;\n",
       "    }\n",
       "\n",
       "    .dataframe tbody tr th {\n",
       "        vertical-align: top;\n",
       "    }\n",
       "\n",
       "    .dataframe thead th {\n",
       "        text-align: right;\n",
       "    }\n",
       "</style>\n",
       "<table border=\"1\" class=\"dataframe\">\n",
       "  <thead>\n",
       "    <tr style=\"text-align: right;\">\n",
       "      <th></th>\n",
       "      <th>text</th>\n",
       "      <th>label</th>\n",
       "      <th>weak_labels</th>\n",
       "    </tr>\n",
       "  </thead>\n",
       "  <tbody>\n",
       "    <tr>\n",
       "      <th>11559</th>\n",
       "      <td>guide me to the restaurant</td>\n",
       "      <td>13</td>\n",
       "      <td>[-1, -1, -1, -1, -1, -1, -1, -1, -1, -1, -1, -...</td>\n",
       "    </tr>\n",
       "    <tr>\n",
       "      <th>11560</th>\n",
       "      <td>call golden taxi to pick me up at seven p. m. ...</td>\n",
       "      <td>15</td>\n",
       "      <td>[-1, -1, -1, -1, -1, -1, -1, -1, -1, -1, -1, -...</td>\n",
       "    </tr>\n",
       "    <tr>\n",
       "      <th>11561</th>\n",
       "      <td>assistant please play royksopp running to the sea</td>\n",
       "      <td>4</td>\n",
       "      <td>[-1, -1, -1, -1, -1, -1, -1, -1, -1, -1, -1, -...</td>\n",
       "    </tr>\n",
       "    <tr>\n",
       "      <th>11562</th>\n",
       "      <td>turn off the six am alarm for wednesday</td>\n",
       "      <td>0</td>\n",
       "      <td>[0, -1, -1, -1, -1, -1, -1, -1, -1, -1, -1, -1...</td>\n",
       "    </tr>\n",
       "    <tr>\n",
       "      <th>11563</th>\n",
       "      <td>send email to robert what time is dinner</td>\n",
       "      <td>16</td>\n",
       "      <td>[-1, -1, -1, -1, -1, -1, -1, -1, -1, -1, -1, -...</td>\n",
       "    </tr>\n",
       "  </tbody>\n",
       "</table>\n",
       "</div>"
      ],
      "text/plain": [
       "                                                    text  label  \\\n",
       "11559                         guide me to the restaurant     13   \n",
       "11560  call golden taxi to pick me up at seven p. m. ...     15   \n",
       "11561  assistant please play royksopp running to the sea      4   \n",
       "11562            turn off the six am alarm for wednesday      0   \n",
       "11563           send email to robert what time is dinner     16   \n",
       "\n",
       "                                             weak_labels  \n",
       "11559  [-1, -1, -1, -1, -1, -1, -1, -1, -1, -1, -1, -...  \n",
       "11560  [-1, -1, -1, -1, -1, -1, -1, -1, -1, -1, -1, -...  \n",
       "11561  [-1, -1, -1, -1, -1, -1, -1, -1, -1, -1, -1, -...  \n",
       "11562  [0, -1, -1, -1, -1, -1, -1, -1, -1, -1, -1, -1...  \n",
       "11563  [-1, -1, -1, -1, -1, -1, -1, -1, -1, -1, -1, -...  "
      ]
     },
     "metadata": {},
     "output_type": "display_data"
    },
    {
     "data": {
      "text/html": [
       "<div>\n",
       "<style scoped>\n",
       "    .dataframe tbody tr th:only-of-type {\n",
       "        vertical-align: middle;\n",
       "    }\n",
       "\n",
       "    .dataframe tbody tr th {\n",
       "        vertical-align: top;\n",
       "    }\n",
       "\n",
       "    .dataframe thead th {\n",
       "        text-align: right;\n",
       "    }\n",
       "</style>\n",
       "<table border=\"1\" class=\"dataframe\">\n",
       "  <thead>\n",
       "    <tr style=\"text-align: right;\">\n",
       "      <th></th>\n",
       "      <th>text</th>\n",
       "      <th>label</th>\n",
       "      <th>weak_labels</th>\n",
       "    </tr>\n",
       "  </thead>\n",
       "  <tbody>\n",
       "    <tr>\n",
       "      <th>0</th>\n",
       "      <td>tell me about narendra modi</td>\n",
       "      <td>11</td>\n",
       "      <td>[-1, -1, -1, -1, -1, -1, -1, -1, -1, -1, -1, -...</td>\n",
       "    </tr>\n",
       "    <tr>\n",
       "      <th>1</th>\n",
       "      <td>what is the weather forecast for this week</td>\n",
       "      <td>10</td>\n",
       "      <td>[-1, -1, -1, -1, -1, -1, -1, -1, -1, -1, -1, -...</td>\n",
       "    </tr>\n",
       "    <tr>\n",
       "      <th>2</th>\n",
       "      <td>email happy new year to john</td>\n",
       "      <td>16</td>\n",
       "      <td>[-1, -1, -1, -1, -1, -1, -1, -1, -1, -1, -1, -...</td>\n",
       "    </tr>\n",
       "    <tr>\n",
       "      <th>3</th>\n",
       "      <td>can you find me a furniture store near me</td>\n",
       "      <td>13</td>\n",
       "      <td>[-1, -1, -1, -1, -1, -1, -1, -1, -1, -1, -1, -...</td>\n",
       "    </tr>\n",
       "    <tr>\n",
       "      <th>4</th>\n",
       "      <td>turn my bedroom lights off</td>\n",
       "      <td>2</td>\n",
       "      <td>[-1, -1, -1, -1, -1, -1, 2, -1, -1, -1, -1, -1...</td>\n",
       "    </tr>\n",
       "  </tbody>\n",
       "</table>\n",
       "</div>"
      ],
      "text/plain": [
       "                                         text  label  \\\n",
       "0                 tell me about narendra modi     11   \n",
       "1  what is the weather forecast for this week     10   \n",
       "2                email happy new year to john     16   \n",
       "3   can you find me a furniture store near me     13   \n",
       "4                  turn my bedroom lights off      2   \n",
       "\n",
       "                                         weak_labels  \n",
       "0  [-1, -1, -1, -1, -1, -1, -1, -1, -1, -1, -1, -...  \n",
       "1  [-1, -1, -1, -1, -1, -1, -1, -1, -1, -1, -1, -...  \n",
       "2  [-1, -1, -1, -1, -1, -1, -1, -1, -1, -1, -1, -...  \n",
       "3  [-1, -1, -1, -1, -1, -1, -1, -1, -1, -1, -1, -...  \n",
       "4  [-1, -1, -1, -1, -1, -1, 2, -1, -1, -1, -1, -1...  "
      ]
     },
     "metadata": {},
     "output_type": "display_data"
    },
    {
     "data": {
      "text/html": [
       "<div>\n",
       "<style scoped>\n",
       "    .dataframe tbody tr th:only-of-type {\n",
       "        vertical-align: middle;\n",
       "    }\n",
       "\n",
       "    .dataframe tbody tr th {\n",
       "        vertical-align: top;\n",
       "    }\n",
       "\n",
       "    .dataframe thead th {\n",
       "        text-align: right;\n",
       "    }\n",
       "</style>\n",
       "<table border=\"1\" class=\"dataframe\">\n",
       "  <thead>\n",
       "    <tr style=\"text-align: right;\">\n",
       "      <th></th>\n",
       "      <th>text</th>\n",
       "      <th>label</th>\n",
       "      <th>weak_labels</th>\n",
       "    </tr>\n",
       "  </thead>\n",
       "  <tbody>\n",
       "    <tr>\n",
       "      <th>3300</th>\n",
       "      <td>play the music</td>\n",
       "      <td>4</td>\n",
       "      <td>[-1, -1, -1, -1, -1, -1, -1, -1, -1, -1, -1, -...</td>\n",
       "    </tr>\n",
       "    <tr>\n",
       "      <th>3301</th>\n",
       "      <td>exchange rate dirham and rupees</td>\n",
       "      <td>11</td>\n",
       "      <td>[-1, -1, -1, -1, -1, -1, -1, -1, -1, -1, -1, -...</td>\n",
       "    </tr>\n",
       "    <tr>\n",
       "      <th>3302</th>\n",
       "      <td>which day is friday the thirteenth this year</td>\n",
       "      <td>6</td>\n",
       "      <td>[-1, -1, -1, -1, -1, -1, -1, -1, -1, -1, -1, -...</td>\n",
       "    </tr>\n",
       "    <tr>\n",
       "      <th>3303</th>\n",
       "      <td>clear all my calendar events</td>\n",
       "      <td>3</td>\n",
       "      <td>[-1, -1, -1, -1, -1, -1, -1, -1, -1, 3, -1, -1...</td>\n",
       "    </tr>\n",
       "    <tr>\n",
       "      <th>3304</th>\n",
       "      <td>post hey everyone on facebook</td>\n",
       "      <td>12</td>\n",
       "      <td>[-1, -1, -1, -1, -1, -1, -1, -1, -1, -1, -1, -...</td>\n",
       "    </tr>\n",
       "  </tbody>\n",
       "</table>\n",
       "</div>"
      ],
      "text/plain": [
       "                                              text  label  \\\n",
       "3300                                play the music      4   \n",
       "3301               exchange rate dirham and rupees     11   \n",
       "3302  which day is friday the thirteenth this year      6   \n",
       "3303                  clear all my calendar events      3   \n",
       "3304                 post hey everyone on facebook     12   \n",
       "\n",
       "                                            weak_labels  \n",
       "3300  [-1, -1, -1, -1, -1, -1, -1, -1, -1, -1, -1, -...  \n",
       "3301  [-1, -1, -1, -1, -1, -1, -1, -1, -1, -1, -1, -...  \n",
       "3302  [-1, -1, -1, -1, -1, -1, -1, -1, -1, -1, -1, -...  \n",
       "3303  [-1, -1, -1, -1, -1, -1, -1, -1, -1, 3, -1, -1...  \n",
       "3304  [-1, -1, -1, -1, -1, -1, -1, -1, -1, -1, -1, -...  "
      ]
     },
     "metadata": {},
     "output_type": "display_data"
    },
    {
     "data": {
      "text/html": [
       "<div>\n",
       "<style scoped>\n",
       "    .dataframe tbody tr th:only-of-type {\n",
       "        vertical-align: middle;\n",
       "    }\n",
       "\n",
       "    .dataframe tbody tr th {\n",
       "        vertical-align: top;\n",
       "    }\n",
       "\n",
       "    .dataframe thead th {\n",
       "        text-align: right;\n",
       "    }\n",
       "</style>\n",
       "<table border=\"1\" class=\"dataframe\">\n",
       "  <thead>\n",
       "    <tr style=\"text-align: right;\">\n",
       "      <th></th>\n",
       "      <th>text</th>\n",
       "      <th>label</th>\n",
       "      <th>weak_labels</th>\n",
       "    </tr>\n",
       "  </thead>\n",
       "  <tbody>\n",
       "    <tr>\n",
       "      <th>0</th>\n",
       "      <td>can you turn up the lights</td>\n",
       "      <td>2</td>\n",
       "      <td>[-1, -1, -1, -1, -1, -1, 2, -1, -1, -1, -1, -1...</td>\n",
       "    </tr>\n",
       "    <tr>\n",
       "      <th>1</th>\n",
       "      <td>what does pda mean</td>\n",
       "      <td>11</td>\n",
       "      <td>[-1, -1, -1, -1, -1, -1, -1, -1, -1, -1, -1, -...</td>\n",
       "    </tr>\n",
       "    <tr>\n",
       "      <th>2</th>\n",
       "      <td>how close is it to eight p. m.</td>\n",
       "      <td>6</td>\n",
       "      <td>[-1, -1, -1, -1, -1, -1, -1, -1, -1, -1, -1, -...</td>\n",
       "    </tr>\n",
       "    <tr>\n",
       "      <th>3</th>\n",
       "      <td>have i received any emails with tracking numbers</td>\n",
       "      <td>16</td>\n",
       "      <td>[-1, -1, -1, -1, -1, -1, -1, -1, -1, -1, -1, -...</td>\n",
       "    </tr>\n",
       "    <tr>\n",
       "      <th>4</th>\n",
       "      <td>what does the email say that was sent thirty m...</td>\n",
       "      <td>16</td>\n",
       "      <td>[-1, -1, -1, -1, -1, -1, -1, -1, -1, -1, -1, -...</td>\n",
       "    </tr>\n",
       "  </tbody>\n",
       "</table>\n",
       "</div>"
      ],
      "text/plain": [
       "                                                text  label  \\\n",
       "0                         can you turn up the lights      2   \n",
       "1                                 what does pda mean     11   \n",
       "2                     how close is it to eight p. m.      6   \n",
       "3   have i received any emails with tracking numbers     16   \n",
       "4  what does the email say that was sent thirty m...     16   \n",
       "\n",
       "                                         weak_labels  \n",
       "0  [-1, -1, -1, -1, -1, -1, 2, -1, -1, -1, -1, -1...  \n",
       "1  [-1, -1, -1, -1, -1, -1, -1, -1, -1, -1, -1, -...  \n",
       "2  [-1, -1, -1, -1, -1, -1, -1, -1, -1, -1, -1, -...  \n",
       "3  [-1, -1, -1, -1, -1, -1, -1, -1, -1, -1, -1, -...  \n",
       "4  [-1, -1, -1, -1, -1, -1, -1, -1, -1, -1, -1, -...  "
      ]
     },
     "metadata": {},
     "output_type": "display_data"
    },
    {
     "data": {
      "text/html": [
       "<div>\n",
       "<style scoped>\n",
       "    .dataframe tbody tr th:only-of-type {\n",
       "        vertical-align: middle;\n",
       "    }\n",
       "\n",
       "    .dataframe tbody tr th {\n",
       "        vertical-align: top;\n",
       "    }\n",
       "\n",
       "    .dataframe thead th {\n",
       "        text-align: right;\n",
       "    }\n",
       "</style>\n",
       "<table border=\"1\" class=\"dataframe\">\n",
       "  <thead>\n",
       "    <tr style=\"text-align: right;\">\n",
       "      <th></th>\n",
       "      <th>text</th>\n",
       "      <th>label</th>\n",
       "      <th>weak_labels</th>\n",
       "    </tr>\n",
       "  </thead>\n",
       "  <tbody>\n",
       "    <tr>\n",
       "      <th>1647</th>\n",
       "      <td>get it fast resolved</td>\n",
       "      <td>12</td>\n",
       "      <td>[-1, -1, -1, -1, -1, -1, -1, -1, -1, -1, -1, -...</td>\n",
       "    </tr>\n",
       "    <tr>\n",
       "      <th>1648</th>\n",
       "      <td>where is laos located</td>\n",
       "      <td>11</td>\n",
       "      <td>[-1, -1, -1, -1, -1, -1, -1, -1, -1, -1, -1, -...</td>\n",
       "    </tr>\n",
       "    <tr>\n",
       "      <th>1649</th>\n",
       "      <td>tell me if i should use the train or bus to ge...</td>\n",
       "      <td>15</td>\n",
       "      <td>[-1, -1, -1, -1, -1, -1, -1, -1, -1, -1, -1, -...</td>\n",
       "    </tr>\n",
       "    <tr>\n",
       "      <th>1650</th>\n",
       "      <td>tell me background family of selena gomez</td>\n",
       "      <td>11</td>\n",
       "      <td>[-1, -1, -1, -1, -1, -1, -1, -1, -1, -1, -1, -...</td>\n",
       "    </tr>\n",
       "    <tr>\n",
       "      <th>1651</th>\n",
       "      <td>what's the date of the winter solstice two yea...</td>\n",
       "      <td>6</td>\n",
       "      <td>[-1, -1, -1, -1, -1, -1, -1, -1, -1, -1, -1, -...</td>\n",
       "    </tr>\n",
       "  </tbody>\n",
       "</table>\n",
       "</div>"
      ],
      "text/plain": [
       "                                                   text  label  \\\n",
       "1647                               get it fast resolved     12   \n",
       "1648                              where is laos located     11   \n",
       "1649  tell me if i should use the train or bus to ge...     15   \n",
       "1650          tell me background family of selena gomez     11   \n",
       "1651  what's the date of the winter solstice two yea...      6   \n",
       "\n",
       "                                            weak_labels  \n",
       "1647  [-1, -1, -1, -1, -1, -1, -1, -1, -1, -1, -1, -...  \n",
       "1648  [-1, -1, -1, -1, -1, -1, -1, -1, -1, -1, -1, -...  \n",
       "1649  [-1, -1, -1, -1, -1, -1, -1, -1, -1, -1, -1, -...  \n",
       "1650  [-1, -1, -1, -1, -1, -1, -1, -1, -1, -1, -1, -...  \n",
       "1651  [-1, -1, -1, -1, -1, -1, -1, -1, -1, -1, -1, -...  "
      ]
     },
     "metadata": {},
     "output_type": "display_data"
    }
   ],
   "source": [
    "display(train_df.head())\n",
    "display(train_df.tail())\n",
    "display(valid_df.head())\n",
    "display(valid_df.tail())\n",
    "display(test_df.head())\n",
    "display(test_df.tail())"
   ]
  },
  {
   "cell_type": "code",
   "execution_count": 7,
   "metadata": {},
   "outputs": [
    {
     "name": "stdout",
     "output_type": "stream",
     "text": [
      "Test Coverage: 0.6162227602905569\n",
      "acuracy for the not abstains\n",
      "0.901840490797546\n",
      "acuracy for all\n",
      "0.4957627118644068\n",
      "Test Coverage: 0.6084720121028744\n",
      "acuracy for the not abstains\n",
      "0.9073972602739726\n",
      "acuracy for all\n",
      "0.5010590015128593\n",
      "Test Coverage: 0.610774818401937\n",
      "acuracy for the not abstains\n",
      "0.9107929515418502\n",
      "acuracy for all\n",
      "0.5006053268765133\n"
     ]
    }
   ],
   "source": [
    "li.analysis_LFs_with_weak_labels(train_df,18)\n",
    "li.analysis_LFs_with_weak_labels(valid_df,18)\n",
    "li.analysis_LFs_with_weak_labels(test_df,18)"
   ]
  },
  {
   "cell_type": "code",
   "execution_count": 8,
   "metadata": {},
   "outputs": [],
   "source": [
    "# Loading the data \n",
    "dataset_name = \"massive-CN\"\n",
    "\n",
    "idx_to_label = json.load(open(f\"../weak_datasets/{dataset_name}/label.json\"))\n",
    "label_to_idx = {l:i for i,l in idx_to_label.items()}\n",
    "cn_valid_df = li.massive_to_df(json.load(open(f\"../weak_datasets/{dataset_name}/valid.json\", \"r\")))\n",
    "cn_train_df = li.massive_to_df(json.load(open(f\"../weak_datasets/{dataset_name}/train.json\", \"r\")))\n",
    "cn_test_df = li.massive_to_df(json.load(open(f\"../weak_datasets/{dataset_name}/test.json\", \"r\")))"
   ]
  },
  {
   "cell_type": "code",
   "execution_count": 9,
   "metadata": {},
   "outputs": [
    {
     "data": {
      "text/html": [
       "<div>\n",
       "<style scoped>\n",
       "    .dataframe tbody tr th:only-of-type {\n",
       "        vertical-align: middle;\n",
       "    }\n",
       "\n",
       "    .dataframe tbody tr th {\n",
       "        vertical-align: top;\n",
       "    }\n",
       "\n",
       "    .dataframe thead th {\n",
       "        text-align: right;\n",
       "    }\n",
       "</style>\n",
       "<table border=\"1\" class=\"dataframe\">\n",
       "  <thead>\n",
       "    <tr style=\"text-align: right;\">\n",
       "      <th></th>\n",
       "      <th>text</th>\n",
       "      <th>label</th>\n",
       "      <th>weak_labels</th>\n",
       "    </tr>\n",
       "  </thead>\n",
       "  <tbody>\n",
       "    <tr>\n",
       "      <th>0</th>\n",
       "      <td>打开我的清单</td>\n",
       "      <td>17</td>\n",
       "      <td>[-1, -1, -1, -1, -1, -1, -1, -1, -1, -1, -1, -...</td>\n",
       "    </tr>\n",
       "    <tr>\n",
       "      <th>1</th>\n",
       "      <td>关闭随机播放</td>\n",
       "      <td>9</td>\n",
       "      <td>[-1, -1, -1, -1, -1, -1, -1, -1, -1, -1, -1, -...</td>\n",
       "    </tr>\n",
       "    <tr>\n",
       "      <th>2</th>\n",
       "      <td>我今天有什么清单吗</td>\n",
       "      <td>17</td>\n",
       "      <td>[-1, -1, -1, -1, -1, -1, -1, -1, -1, -1, -1, -...</td>\n",
       "    </tr>\n",
       "    <tr>\n",
       "      <th>3</th>\n",
       "      <td>今天我偶然碰见老朋友大强了</td>\n",
       "      <td>5</td>\n",
       "      <td>[-1, -1, -1, -1, -1, -1, -1, -1, -1, -1, -1, -...</td>\n",
       "    </tr>\n",
       "    <tr>\n",
       "      <th>4</th>\n",
       "      <td>是一个忙碌的一天</td>\n",
       "      <td>5</td>\n",
       "      <td>[-1, -1, -1, -1, -1, -1, -1, -1, -1, -1, -1, -...</td>\n",
       "    </tr>\n",
       "  </tbody>\n",
       "</table>\n",
       "</div>"
      ],
      "text/plain": [
       "            text  label                                        weak_labels\n",
       "0         打开我的清单     17  [-1, -1, -1, -1, -1, -1, -1, -1, -1, -1, -1, -...\n",
       "1         关闭随机播放      9  [-1, -1, -1, -1, -1, -1, -1, -1, -1, -1, -1, -...\n",
       "2      我今天有什么清单吗     17  [-1, -1, -1, -1, -1, -1, -1, -1, -1, -1, -1, -...\n",
       "3  今天我偶然碰见老朋友大强了      5  [-1, -1, -1, -1, -1, -1, -1, -1, -1, -1, -1, -...\n",
       "4       是一个忙碌的一天      5  [-1, -1, -1, -1, -1, -1, -1, -1, -1, -1, -1, -..."
      ]
     },
     "metadata": {},
     "output_type": "display_data"
    },
    {
     "data": {
      "text/html": [
       "<div>\n",
       "<style scoped>\n",
       "    .dataframe tbody tr th:only-of-type {\n",
       "        vertical-align: middle;\n",
       "    }\n",
       "\n",
       "    .dataframe tbody tr th {\n",
       "        vertical-align: top;\n",
       "    }\n",
       "\n",
       "    .dataframe thead th {\n",
       "        text-align: right;\n",
       "    }\n",
       "</style>\n",
       "<table border=\"1\" class=\"dataframe\">\n",
       "  <thead>\n",
       "    <tr style=\"text-align: right;\">\n",
       "      <th></th>\n",
       "      <th>text</th>\n",
       "      <th>label</th>\n",
       "      <th>weak_labels</th>\n",
       "    </tr>\n",
       "  </thead>\n",
       "  <tbody>\n",
       "    <tr>\n",
       "      <th>11559</th>\n",
       "      <td>为我导航去餐馆</td>\n",
       "      <td>13</td>\n",
       "      <td>[-1, -1, -1, -1, -1, -1, -1, -1, -1, -1, -1, -...</td>\n",
       "    </tr>\n",
       "    <tr>\n",
       "      <th>11560</th>\n",
       "      <td>今天晚上七点叫滴滴来接我</td>\n",
       "      <td>15</td>\n",
       "      <td>[-1, -1, -1, -1, -1, -1, -1, -1, -1, -1, -1, -...</td>\n",
       "    </tr>\n",
       "    <tr>\n",
       "      <th>11561</th>\n",
       "      <td>助理请播放许嵩的断桥残雪</td>\n",
       "      <td>4</td>\n",
       "      <td>[-1, -1, -1, -1, -1, -1, -1, -1, -1, -1, -1, -...</td>\n",
       "    </tr>\n",
       "    <tr>\n",
       "      <th>11562</th>\n",
       "      <td>关停周三六点的闹钟</td>\n",
       "      <td>0</td>\n",
       "      <td>[0, -1, -1, -1, -1, -1, -1, -1, -1, -1, -1, -1...</td>\n",
       "    </tr>\n",
       "    <tr>\n",
       "      <th>11563</th>\n",
       "      <td>发邮件给家俊什么时间吃晚餐</td>\n",
       "      <td>16</td>\n",
       "      <td>[-1, -1, -1, -1, -1, -1, -1, -1, -1, -1, -1, -...</td>\n",
       "    </tr>\n",
       "  </tbody>\n",
       "</table>\n",
       "</div>"
      ],
      "text/plain": [
       "                text  label                                        weak_labels\n",
       "11559        为我导航去餐馆     13  [-1, -1, -1, -1, -1, -1, -1, -1, -1, -1, -1, -...\n",
       "11560   今天晚上七点叫滴滴来接我     15  [-1, -1, -1, -1, -1, -1, -1, -1, -1, -1, -1, -...\n",
       "11561   助理请播放许嵩的断桥残雪      4  [-1, -1, -1, -1, -1, -1, -1, -1, -1, -1, -1, -...\n",
       "11562      关停周三六点的闹钟      0  [0, -1, -1, -1, -1, -1, -1, -1, -1, -1, -1, -1...\n",
       "11563  发邮件给家俊什么时间吃晚餐     16  [-1, -1, -1, -1, -1, -1, -1, -1, -1, -1, -1, -..."
      ]
     },
     "metadata": {},
     "output_type": "display_data"
    },
    {
     "data": {
      "text/html": [
       "<div>\n",
       "<style scoped>\n",
       "    .dataframe tbody tr th:only-of-type {\n",
       "        vertical-align: middle;\n",
       "    }\n",
       "\n",
       "    .dataframe tbody tr th {\n",
       "        vertical-align: top;\n",
       "    }\n",
       "\n",
       "    .dataframe thead th {\n",
       "        text-align: right;\n",
       "    }\n",
       "</style>\n",
       "<table border=\"1\" class=\"dataframe\">\n",
       "  <thead>\n",
       "    <tr style=\"text-align: right;\">\n",
       "      <th></th>\n",
       "      <th>text</th>\n",
       "      <th>label</th>\n",
       "      <th>weak_labels</th>\n",
       "    </tr>\n",
       "  </thead>\n",
       "  <tbody>\n",
       "    <tr>\n",
       "      <th>0</th>\n",
       "      <td>告诉我关于纳伦德拉莫迪</td>\n",
       "      <td>11</td>\n",
       "      <td>[-1, -1, -1, -1, -1, -1, -1, -1, -1, -1, -1, -...</td>\n",
       "    </tr>\n",
       "    <tr>\n",
       "      <th>1</th>\n",
       "      <td>这周天气预报什么情况啊</td>\n",
       "      <td>10</td>\n",
       "      <td>[-1, -1, -1, -1, -1, -1, -1, -1, -1, -1, -1, -...</td>\n",
       "    </tr>\n",
       "    <tr>\n",
       "      <th>2</th>\n",
       "      <td>给约翰发送电子邮件说新年快乐</td>\n",
       "      <td>16</td>\n",
       "      <td>[-1, -1, -1, -1, -1, -1, -1, -1, -1, -1, -1, -...</td>\n",
       "    </tr>\n",
       "    <tr>\n",
       "      <th>3</th>\n",
       "      <td>你能在附近帮我找一家家具店吗</td>\n",
       "      <td>13</td>\n",
       "      <td>[-1, -1, -1, -1, -1, -1, -1, -1, -1, -1, -1, -...</td>\n",
       "    </tr>\n",
       "    <tr>\n",
       "      <th>4</th>\n",
       "      <td>关闭我的卧室灯光</td>\n",
       "      <td>2</td>\n",
       "      <td>[-1, -1, -1, -1, -1, -1, 2, -1, -1, -1, -1, -1...</td>\n",
       "    </tr>\n",
       "  </tbody>\n",
       "</table>\n",
       "</div>"
      ],
      "text/plain": [
       "             text  label                                        weak_labels\n",
       "0     告诉我关于纳伦德拉莫迪     11  [-1, -1, -1, -1, -1, -1, -1, -1, -1, -1, -1, -...\n",
       "1     这周天气预报什么情况啊     10  [-1, -1, -1, -1, -1, -1, -1, -1, -1, -1, -1, -...\n",
       "2  给约翰发送电子邮件说新年快乐     16  [-1, -1, -1, -1, -1, -1, -1, -1, -1, -1, -1, -...\n",
       "3  你能在附近帮我找一家家具店吗     13  [-1, -1, -1, -1, -1, -1, -1, -1, -1, -1, -1, -...\n",
       "4        关闭我的卧室灯光      2  [-1, -1, -1, -1, -1, -1, 2, -1, -1, -1, -1, -1..."
      ]
     },
     "metadata": {},
     "output_type": "display_data"
    },
    {
     "data": {
      "text/html": [
       "<div>\n",
       "<style scoped>\n",
       "    .dataframe tbody tr th:only-of-type {\n",
       "        vertical-align: middle;\n",
       "    }\n",
       "\n",
       "    .dataframe tbody tr th {\n",
       "        vertical-align: top;\n",
       "    }\n",
       "\n",
       "    .dataframe thead th {\n",
       "        text-align: right;\n",
       "    }\n",
       "</style>\n",
       "<table border=\"1\" class=\"dataframe\">\n",
       "  <thead>\n",
       "    <tr style=\"text-align: right;\">\n",
       "      <th></th>\n",
       "      <th>text</th>\n",
       "      <th>label</th>\n",
       "      <th>weak_labels</th>\n",
       "    </tr>\n",
       "  </thead>\n",
       "  <tbody>\n",
       "    <tr>\n",
       "      <th>3300</th>\n",
       "      <td>播音乐</td>\n",
       "      <td>4</td>\n",
       "      <td>[-1, -1, -1, -1, -1, -1, -1, -1, -1, -1, -1, -...</td>\n",
       "    </tr>\n",
       "    <tr>\n",
       "      <th>3301</th>\n",
       "      <td>迪拉姆和卢比的汇率</td>\n",
       "      <td>11</td>\n",
       "      <td>[-1, -1, -1, -1, -1, -1, -1, -1, -1, -1, -1, -...</td>\n",
       "    </tr>\n",
       "    <tr>\n",
       "      <th>3302</th>\n",
       "      <td>今年哪一天是十三号星期五</td>\n",
       "      <td>6</td>\n",
       "      <td>[-1, -1, -1, -1, -1, -1, -1, -1, -1, -1, -1, -...</td>\n",
       "    </tr>\n",
       "    <tr>\n",
       "      <th>3303</th>\n",
       "      <td>清除我的所有的日历活动</td>\n",
       "      <td>3</td>\n",
       "      <td>[-1, -1, -1, -1, -1, -1, -1, -1, -1, 3, -1, -1...</td>\n",
       "    </tr>\n",
       "    <tr>\n",
       "      <th>3304</th>\n",
       "      <td>发微博说哈喽大家好</td>\n",
       "      <td>12</td>\n",
       "      <td>[-1, -1, -1, -1, -1, -1, -1, -1, -1, -1, -1, -...</td>\n",
       "    </tr>\n",
       "  </tbody>\n",
       "</table>\n",
       "</div>"
      ],
      "text/plain": [
       "              text  label                                        weak_labels\n",
       "3300           播音乐      4  [-1, -1, -1, -1, -1, -1, -1, -1, -1, -1, -1, -...\n",
       "3301     迪拉姆和卢比的汇率     11  [-1, -1, -1, -1, -1, -1, -1, -1, -1, -1, -1, -...\n",
       "3302  今年哪一天是十三号星期五      6  [-1, -1, -1, -1, -1, -1, -1, -1, -1, -1, -1, -...\n",
       "3303   清除我的所有的日历活动      3  [-1, -1, -1, -1, -1, -1, -1, -1, -1, 3, -1, -1...\n",
       "3304     发微博说哈喽大家好     12  [-1, -1, -1, -1, -1, -1, -1, -1, -1, -1, -1, -..."
      ]
     },
     "metadata": {},
     "output_type": "display_data"
    },
    {
     "data": {
      "text/html": [
       "<div>\n",
       "<style scoped>\n",
       "    .dataframe tbody tr th:only-of-type {\n",
       "        vertical-align: middle;\n",
       "    }\n",
       "\n",
       "    .dataframe tbody tr th {\n",
       "        vertical-align: top;\n",
       "    }\n",
       "\n",
       "    .dataframe thead th {\n",
       "        text-align: right;\n",
       "    }\n",
       "</style>\n",
       "<table border=\"1\" class=\"dataframe\">\n",
       "  <thead>\n",
       "    <tr style=\"text-align: right;\">\n",
       "      <th></th>\n",
       "      <th>text</th>\n",
       "      <th>label</th>\n",
       "      <th>weak_labels</th>\n",
       "    </tr>\n",
       "  </thead>\n",
       "  <tbody>\n",
       "    <tr>\n",
       "      <th>0</th>\n",
       "      <td>你能把灯打开吗</td>\n",
       "      <td>2</td>\n",
       "      <td>[-1, -1, -1, -1, -1, -1, 2, -1, -1, -1, -1, -1...</td>\n",
       "    </tr>\n",
       "    <tr>\n",
       "      <th>1</th>\n",
       "      <td>个人数字助理是什么意思</td>\n",
       "      <td>11</td>\n",
       "      <td>[-1, -1, -1, -1, -1, -1, -1, -1, -1, -1, -1, -...</td>\n",
       "    </tr>\n",
       "    <tr>\n",
       "      <th>2</th>\n",
       "      <td>和下午八点还差多少</td>\n",
       "      <td>6</td>\n",
       "      <td>[-1, -1, -1, -1, -1, -1, -1, -1, -1, -1, -1, -...</td>\n",
       "    </tr>\n",
       "    <tr>\n",
       "      <th>3</th>\n",
       "      <td>我有收到带有追踪号码的邮件吗</td>\n",
       "      <td>16</td>\n",
       "      <td>[-1, -1, -1, -1, -1, -1, -1, -1, -1, -1, -1, -...</td>\n",
       "    </tr>\n",
       "    <tr>\n",
       "      <th>4</th>\n",
       "      <td>妈妈三十分钟前发的电子邮件说了什么</td>\n",
       "      <td>16</td>\n",
       "      <td>[-1, -1, -1, -1, -1, -1, -1, -1, -1, -1, -1, -...</td>\n",
       "    </tr>\n",
       "  </tbody>\n",
       "</table>\n",
       "</div>"
      ],
      "text/plain": [
       "                text  label                                        weak_labels\n",
       "0            你能把灯打开吗      2  [-1, -1, -1, -1, -1, -1, 2, -1, -1, -1, -1, -1...\n",
       "1        个人数字助理是什么意思     11  [-1, -1, -1, -1, -1, -1, -1, -1, -1, -1, -1, -...\n",
       "2          和下午八点还差多少      6  [-1, -1, -1, -1, -1, -1, -1, -1, -1, -1, -1, -...\n",
       "3     我有收到带有追踪号码的邮件吗     16  [-1, -1, -1, -1, -1, -1, -1, -1, -1, -1, -1, -...\n",
       "4  妈妈三十分钟前发的电子邮件说了什么     16  [-1, -1, -1, -1, -1, -1, -1, -1, -1, -1, -1, -..."
      ]
     },
     "metadata": {},
     "output_type": "display_data"
    },
    {
     "data": {
      "text/html": [
       "<div>\n",
       "<style scoped>\n",
       "    .dataframe tbody tr th:only-of-type {\n",
       "        vertical-align: middle;\n",
       "    }\n",
       "\n",
       "    .dataframe tbody tr th {\n",
       "        vertical-align: top;\n",
       "    }\n",
       "\n",
       "    .dataframe thead th {\n",
       "        text-align: right;\n",
       "    }\n",
       "</style>\n",
       "<table border=\"1\" class=\"dataframe\">\n",
       "  <thead>\n",
       "    <tr style=\"text-align: right;\">\n",
       "      <th></th>\n",
       "      <th>text</th>\n",
       "      <th>label</th>\n",
       "      <th>weak_labels</th>\n",
       "    </tr>\n",
       "  </thead>\n",
       "  <tbody>\n",
       "    <tr>\n",
       "      <th>1647</th>\n",
       "      <td>让它尽快解决</td>\n",
       "      <td>12</td>\n",
       "      <td>[-1, -1, -1, -1, -1, -1, -1, -1, -1, -1, -1, -...</td>\n",
       "    </tr>\n",
       "    <tr>\n",
       "      <th>1648</th>\n",
       "      <td>老挝位于哪里</td>\n",
       "      <td>11</td>\n",
       "      <td>[-1, -1, -1, -1, -1, -1, -1, -1, -1, -1, -1, -...</td>\n",
       "    </tr>\n",
       "    <tr>\n",
       "      <th>1649</th>\n",
       "      <td>告诉我今天乘火车还是乘公共汽车穿过市区</td>\n",
       "      <td>15</td>\n",
       "      <td>[-1, -1, -1, -1, -1, -1, -1, -1, -1, -1, -1, -...</td>\n",
       "    </tr>\n",
       "    <tr>\n",
       "      <th>1650</th>\n",
       "      <td>告诉我王菲的家庭背景</td>\n",
       "      <td>11</td>\n",
       "      <td>[-1, -1, -1, -1, -1, -1, -1, -1, -1, -1, -1, -...</td>\n",
       "    </tr>\n",
       "    <tr>\n",
       "      <th>1651</th>\n",
       "      <td>两年后的冬至是几月几号</td>\n",
       "      <td>6</td>\n",
       "      <td>[-1, -1, -1, -1, -1, -1, -1, -1, -1, -1, -1, -...</td>\n",
       "    </tr>\n",
       "  </tbody>\n",
       "</table>\n",
       "</div>"
      ],
      "text/plain": [
       "                     text  label  \\\n",
       "1647               让它尽快解决     12   \n",
       "1648               老挝位于哪里     11   \n",
       "1649  告诉我今天乘火车还是乘公共汽车穿过市区     15   \n",
       "1650           告诉我王菲的家庭背景     11   \n",
       "1651          两年后的冬至是几月几号      6   \n",
       "\n",
       "                                            weak_labels  \n",
       "1647  [-1, -1, -1, -1, -1, -1, -1, -1, -1, -1, -1, -...  \n",
       "1648  [-1, -1, -1, -1, -1, -1, -1, -1, -1, -1, -1, -...  \n",
       "1649  [-1, -1, -1, -1, -1, -1, -1, -1, -1, -1, -1, -...  \n",
       "1650  [-1, -1, -1, -1, -1, -1, -1, -1, -1, -1, -1, -...  \n",
       "1651  [-1, -1, -1, -1, -1, -1, -1, -1, -1, -1, -1, -...  "
      ]
     },
     "metadata": {},
     "output_type": "display_data"
    }
   ],
   "source": [
    "display(cn_train_df.head())\n",
    "display(cn_train_df.tail())\n",
    "display(cn_valid_df.head())\n",
    "display(cn_valid_df.tail())\n",
    "display(cn_test_df.head())\n",
    "display(cn_test_df.tail())"
   ]
  },
  {
   "cell_type": "code",
   "execution_count": 10,
   "metadata": {},
   "outputs": [],
   "source": [
    "auth_key = \"\""
   ]
  },
  {
   "cell_type": "code",
   "execution_count": 32,
   "metadata": {},
   "outputs": [
    {
     "name": "stderr",
     "output_type": "stream",
     "text": [
      "Translating: 100%|██████████| 1652/1652 [00:03<00:00, 444.75it/s]\n"
     ]
    }
   ],
   "source": [
    "cnten_test = li.deep_translate_df_to_english(cn_test_df, auth_key, \"ZH\")"
   ]
  },
  {
   "cell_type": "code",
   "execution_count": 34,
   "metadata": {},
   "outputs": [
    {
     "name": "stderr",
     "output_type": "stream",
     "text": [
      "100%|██████████| 1652/1652 [00:00<00:00, 3806.34it/s]\n"
     ]
    }
   ],
   "source": [
    "cnten_test = li.massive_df_with_new_lf(cnten_test, lfs)"
   ]
  },
  {
   "cell_type": "code",
   "execution_count": 36,
   "metadata": {},
   "outputs": [],
   "source": [
    "massive = li.df_to_massive(cnten_test)\n",
    "li.save_dataset(massive, \"../weak_datasets/temp/translate_cn/test.json\")"
   ]
  },
  {
   "cell_type": "code",
   "execution_count": 11,
   "metadata": {},
   "outputs": [
    {
     "name": "stderr",
     "output_type": "stream",
     "text": [
      "Translating: 100%|██████████| 11564/11564 [00:21<00:00, 531.02it/s]\n"
     ]
    },
    {
     "data": {
      "text/html": [
       "<div>\n",
       "<style scoped>\n",
       "    .dataframe tbody tr th:only-of-type {\n",
       "        vertical-align: middle;\n",
       "    }\n",
       "\n",
       "    .dataframe tbody tr th {\n",
       "        vertical-align: top;\n",
       "    }\n",
       "\n",
       "    .dataframe thead th {\n",
       "        text-align: right;\n",
       "    }\n",
       "</style>\n",
       "<table border=\"1\" class=\"dataframe\">\n",
       "  <thead>\n",
       "    <tr style=\"text-align: right;\">\n",
       "      <th></th>\n",
       "      <th>text</th>\n",
       "      <th>label</th>\n",
       "      <th>weak_labels</th>\n",
       "    </tr>\n",
       "  </thead>\n",
       "  <tbody>\n",
       "    <tr>\n",
       "      <th>0</th>\n",
       "      <td>Open my list</td>\n",
       "      <td>17</td>\n",
       "      <td>[-1, -1, -1, -1, -1, -1, -1, -1, -1, -1, -1, -...</td>\n",
       "    </tr>\n",
       "    <tr>\n",
       "      <th>1</th>\n",
       "      <td>Turn off randomized playback</td>\n",
       "      <td>9</td>\n",
       "      <td>[-1, -1, -1, -1, -1, -1, -1, -1, -1, -1, -1, -...</td>\n",
       "    </tr>\n",
       "    <tr>\n",
       "      <th>2</th>\n",
       "      <td>Do I have a list for today?</td>\n",
       "      <td>17</td>\n",
       "      <td>[-1, -1, -1, -1, -1, -1, -1, -1, -1, -1, -1, -...</td>\n",
       "    </tr>\n",
       "    <tr>\n",
       "      <th>3</th>\n",
       "      <td>I ran into my old friend, Keung, today.</td>\n",
       "      <td>5</td>\n",
       "      <td>[-1, -1, -1, -1, -1, -1, -1, -1, -1, -1, -1, -...</td>\n",
       "    </tr>\n",
       "    <tr>\n",
       "      <th>4</th>\n",
       "      <td>Was a busy day</td>\n",
       "      <td>5</td>\n",
       "      <td>[-1, -1, -1, -1, -1, -1, -1, -1, -1, -1, -1, -...</td>\n",
       "    </tr>\n",
       "  </tbody>\n",
       "</table>\n",
       "</div>"
      ],
      "text/plain": [
       "                                      text  label  \\\n",
       "0                             Open my list     17   \n",
       "1             Turn off randomized playback      9   \n",
       "2              Do I have a list for today?     17   \n",
       "3  I ran into my old friend, Keung, today.      5   \n",
       "4                           Was a busy day      5   \n",
       "\n",
       "                                         weak_labels  \n",
       "0  [-1, -1, -1, -1, -1, -1, -1, -1, -1, -1, -1, -...  \n",
       "1  [-1, -1, -1, -1, -1, -1, -1, -1, -1, -1, -1, -...  \n",
       "2  [-1, -1, -1, -1, -1, -1, -1, -1, -1, -1, -1, -...  \n",
       "3  [-1, -1, -1, -1, -1, -1, -1, -1, -1, -1, -1, -...  \n",
       "4  [-1, -1, -1, -1, -1, -1, -1, -1, -1, -1, -1, -...  "
      ]
     },
     "metadata": {},
     "output_type": "display_data"
    },
    {
     "data": {
      "text/html": [
       "<div>\n",
       "<style scoped>\n",
       "    .dataframe tbody tr th:only-of-type {\n",
       "        vertical-align: middle;\n",
       "    }\n",
       "\n",
       "    .dataframe tbody tr th {\n",
       "        vertical-align: top;\n",
       "    }\n",
       "\n",
       "    .dataframe thead th {\n",
       "        text-align: right;\n",
       "    }\n",
       "</style>\n",
       "<table border=\"1\" class=\"dataframe\">\n",
       "  <thead>\n",
       "    <tr style=\"text-align: right;\">\n",
       "      <th></th>\n",
       "      <th>text</th>\n",
       "      <th>label</th>\n",
       "      <th>weak_labels</th>\n",
       "    </tr>\n",
       "  </thead>\n",
       "  <tbody>\n",
       "    <tr>\n",
       "      <th>11559</th>\n",
       "      <td>Navigate me to the restaurant.</td>\n",
       "      <td>13</td>\n",
       "      <td>[-1, -1, -1, -1, -1, -1, -1, -1, -1, -1, -1, -...</td>\n",
       "    </tr>\n",
       "    <tr>\n",
       "      <th>11560</th>\n",
       "      <td>I'll be picked up at 7:00 p.m. today.</td>\n",
       "      <td>15</td>\n",
       "      <td>[-1, -1, -1, -1, -1, -1, -1, -1, -1, -1, -1, -...</td>\n",
       "    </tr>\n",
       "    <tr>\n",
       "      <th>11561</th>\n",
       "      <td>Assistant, please play \"Broken Bridge and Brok...</td>\n",
       "      <td>4</td>\n",
       "      <td>[-1, -1, -1, -1, -1, -1, -1, -1, -1, -1, -1, -...</td>\n",
       "    </tr>\n",
       "    <tr>\n",
       "      <th>11562</th>\n",
       "      <td>Turn off the 6:00 alarm on Wednesdays.</td>\n",
       "      <td>0</td>\n",
       "      <td>[0, -1, -1, -1, -1, -1, -1, -1, -1, -1, -1, -1...</td>\n",
       "    </tr>\n",
       "    <tr>\n",
       "      <th>11563</th>\n",
       "      <td>Email Ka-chun what time he's having dinner.</td>\n",
       "      <td>16</td>\n",
       "      <td>[-1, -1, -1, -1, -1, -1, -1, -1, -1, -1, -1, -...</td>\n",
       "    </tr>\n",
       "  </tbody>\n",
       "</table>\n",
       "</div>"
      ],
      "text/plain": [
       "                                                    text  label  \\\n",
       "11559                     Navigate me to the restaurant.     13   \n",
       "11560              I'll be picked up at 7:00 p.m. today.     15   \n",
       "11561  Assistant, please play \"Broken Bridge and Brok...      4   \n",
       "11562             Turn off the 6:00 alarm on Wednesdays.      0   \n",
       "11563        Email Ka-chun what time he's having dinner.     16   \n",
       "\n",
       "                                             weak_labels  \n",
       "11559  [-1, -1, -1, -1, -1, -1, -1, -1, -1, -1, -1, -...  \n",
       "11560  [-1, -1, -1, -1, -1, -1, -1, -1, -1, -1, -1, -...  \n",
       "11561  [-1, -1, -1, -1, -1, -1, -1, -1, -1, -1, -1, -...  \n",
       "11562  [0, -1, -1, -1, -1, -1, -1, -1, -1, -1, -1, -1...  \n",
       "11563  [-1, -1, -1, -1, -1, -1, -1, -1, -1, -1, -1, -...  "
      ]
     },
     "metadata": {},
     "output_type": "display_data"
    },
    {
     "name": "stderr",
     "output_type": "stream",
     "text": [
      "100%|██████████| 11564/11564 [00:03<00:00, 3728.71it/s]\n"
     ]
    }
   ],
   "source": [
    "cnten_train= li.deep_translate_df_to_english(cn_train_df, auth_key, \"ZH\")\n",
    "display(cnten_train.head())\n",
    "display(cnten_train.tail())\n",
    "cnten_train = li.massive_df_with_new_lf(cnten_train, lfs)\n",
    "massive = li.df_to_massive(cnten_train)\n",
    "li.save_dataset(massive, \"../weak_datasets/temp/translate_cn/train.json\")"
   ]
  },
  {
   "cell_type": "code",
   "execution_count": 12,
   "metadata": {},
   "outputs": [
    {
     "name": "stderr",
     "output_type": "stream",
     "text": [
      "Translating: 100%|██████████| 3305/3305 [00:06<00:00, 488.67it/s]\n"
     ]
    },
    {
     "data": {
      "text/html": [
       "<div>\n",
       "<style scoped>\n",
       "    .dataframe tbody tr th:only-of-type {\n",
       "        vertical-align: middle;\n",
       "    }\n",
       "\n",
       "    .dataframe tbody tr th {\n",
       "        vertical-align: top;\n",
       "    }\n",
       "\n",
       "    .dataframe thead th {\n",
       "        text-align: right;\n",
       "    }\n",
       "</style>\n",
       "<table border=\"1\" class=\"dataframe\">\n",
       "  <thead>\n",
       "    <tr style=\"text-align: right;\">\n",
       "      <th></th>\n",
       "      <th>text</th>\n",
       "      <th>label</th>\n",
       "      <th>weak_labels</th>\n",
       "    </tr>\n",
       "  </thead>\n",
       "  <tbody>\n",
       "    <tr>\n",
       "      <th>0</th>\n",
       "      <td>Tell me about Narendra Modi.</td>\n",
       "      <td>11</td>\n",
       "      <td>[-1, -1, -1, -1, -1, -1, -1, -1, -1, -1, -1, -...</td>\n",
       "    </tr>\n",
       "    <tr>\n",
       "      <th>1</th>\n",
       "      <td>What's the weather forecast for this week?</td>\n",
       "      <td>10</td>\n",
       "      <td>[-1, -1, -1, -1, -1, -1, -1, -1, -1, -1, -1, -...</td>\n",
       "    </tr>\n",
       "    <tr>\n",
       "      <th>2</th>\n",
       "      <td>Email John to say Happy New Year!</td>\n",
       "      <td>16</td>\n",
       "      <td>[-1, -1, -1, -1, -1, -1, -1, -1, -1, -1, -1, -...</td>\n",
       "    </tr>\n",
       "    <tr>\n",
       "      <th>3</th>\n",
       "      <td>Can you find me a furniture store in the neigh...</td>\n",
       "      <td>13</td>\n",
       "      <td>[-1, -1, -1, -1, -1, -1, -1, -1, -1, -1, -1, -...</td>\n",
       "    </tr>\n",
       "    <tr>\n",
       "      <th>4</th>\n",
       "      <td>Turn off my bedroom lights.</td>\n",
       "      <td>2</td>\n",
       "      <td>[-1, -1, -1, -1, -1, -1, 2, -1, -1, -1, -1, -1...</td>\n",
       "    </tr>\n",
       "  </tbody>\n",
       "</table>\n",
       "</div>"
      ],
      "text/plain": [
       "                                                text  label  \\\n",
       "0                       Tell me about Narendra Modi.     11   \n",
       "1         What's the weather forecast for this week?     10   \n",
       "2                  Email John to say Happy New Year!     16   \n",
       "3  Can you find me a furniture store in the neigh...     13   \n",
       "4                        Turn off my bedroom lights.      2   \n",
       "\n",
       "                                         weak_labels  \n",
       "0  [-1, -1, -1, -1, -1, -1, -1, -1, -1, -1, -1, -...  \n",
       "1  [-1, -1, -1, -1, -1, -1, -1, -1, -1, -1, -1, -...  \n",
       "2  [-1, -1, -1, -1, -1, -1, -1, -1, -1, -1, -1, -...  \n",
       "3  [-1, -1, -1, -1, -1, -1, -1, -1, -1, -1, -1, -...  \n",
       "4  [-1, -1, -1, -1, -1, -1, 2, -1, -1, -1, -1, -1...  "
      ]
     },
     "metadata": {},
     "output_type": "display_data"
    },
    {
     "data": {
      "text/html": [
       "<div>\n",
       "<style scoped>\n",
       "    .dataframe tbody tr th:only-of-type {\n",
       "        vertical-align: middle;\n",
       "    }\n",
       "\n",
       "    .dataframe tbody tr th {\n",
       "        vertical-align: top;\n",
       "    }\n",
       "\n",
       "    .dataframe thead th {\n",
       "        text-align: right;\n",
       "    }\n",
       "</style>\n",
       "<table border=\"1\" class=\"dataframe\">\n",
       "  <thead>\n",
       "    <tr style=\"text-align: right;\">\n",
       "      <th></th>\n",
       "      <th>text</th>\n",
       "      <th>label</th>\n",
       "      <th>weak_labels</th>\n",
       "    </tr>\n",
       "  </thead>\n",
       "  <tbody>\n",
       "    <tr>\n",
       "      <th>3300</th>\n",
       "      <td>broadcast music</td>\n",
       "      <td>4</td>\n",
       "      <td>[-1, -1, -1, -1, -1, -1, -1, -1, -1, -1, -1, -...</td>\n",
       "    </tr>\n",
       "    <tr>\n",
       "      <th>3301</th>\n",
       "      <td>Exchange rate of dirhams and rupees</td>\n",
       "      <td>11</td>\n",
       "      <td>[-1, -1, -1, -1, -1, -1, -1, -1, -1, -1, -1, -...</td>\n",
       "    </tr>\n",
       "    <tr>\n",
       "      <th>3302</th>\n",
       "      <td>What day is Friday the 13th this year?</td>\n",
       "      <td>6</td>\n",
       "      <td>[-1, -1, -1, -1, -1, -1, -1, -1, -1, -1, -1, -...</td>\n",
       "    </tr>\n",
       "    <tr>\n",
       "      <th>3303</th>\n",
       "      <td>Clear all my calendar events</td>\n",
       "      <td>3</td>\n",
       "      <td>[-1, -1, -1, -1, -1, -1, -1, -1, -1, 3, -1, -1...</td>\n",
       "    </tr>\n",
       "    <tr>\n",
       "      <th>3304</th>\n",
       "      <td>Tweets hello to everyone.</td>\n",
       "      <td>12</td>\n",
       "      <td>[-1, -1, -1, -1, -1, -1, -1, -1, -1, -1, -1, -...</td>\n",
       "    </tr>\n",
       "  </tbody>\n",
       "</table>\n",
       "</div>"
      ],
      "text/plain": [
       "                                        text  label  \\\n",
       "3300                         broadcast music      4   \n",
       "3301     Exchange rate of dirhams and rupees     11   \n",
       "3302  What day is Friday the 13th this year?      6   \n",
       "3303            Clear all my calendar events      3   \n",
       "3304               Tweets hello to everyone.     12   \n",
       "\n",
       "                                            weak_labels  \n",
       "3300  [-1, -1, -1, -1, -1, -1, -1, -1, -1, -1, -1, -...  \n",
       "3301  [-1, -1, -1, -1, -1, -1, -1, -1, -1, -1, -1, -...  \n",
       "3302  [-1, -1, -1, -1, -1, -1, -1, -1, -1, -1, -1, -...  \n",
       "3303  [-1, -1, -1, -1, -1, -1, -1, -1, -1, 3, -1, -1...  \n",
       "3304  [-1, -1, -1, -1, -1, -1, -1, -1, -1, -1, -1, -...  "
      ]
     },
     "metadata": {},
     "output_type": "display_data"
    },
    {
     "name": "stderr",
     "output_type": "stream",
     "text": [
      "100%|██████████| 3305/3305 [00:00<00:00, 3719.59it/s]\n"
     ]
    }
   ],
   "source": [
    "cnten_valid= li.deep_translate_df_to_english(cn_valid_df, auth_key, \"ZH\")\n",
    "display(cnten_valid.head())\n",
    "display(cnten_valid.tail())\n",
    "cnten_valid = li.massive_df_with_new_lf(cnten_valid, lfs)\n",
    "massive = li.df_to_massive(cnten_valid)\n",
    "li.save_dataset(massive, \"../weak_datasets/temp/translate_cn/valid.json\")"
   ]
  },
  {
   "cell_type": "code",
   "execution_count": 13,
   "metadata": {},
   "outputs": [
    {
     "name": "stdout",
     "output_type": "stream",
     "text": [
      "Test Coverage: 0.5579425113464448\n",
      "acuracy for the not abstains\n",
      "0.8862418106015485\n",
      "acuracy for all\n",
      "0.4502269288956127\n"
     ]
    }
   ],
   "source": [
    "li.analysis_LFs_with_weak_labels(cnten_valid,18)"
   ]
  },
  {
   "cell_type": "code",
   "execution_count": 15,
   "metadata": {},
   "outputs": [],
   "source": [
    "# Loading the data \n",
    "dataset_name = \"massive-NB\"\n",
    "\n",
    "idx_to_label = json.load(open(f\"../weak_datasets/{dataset_name}/label.json\"))\n",
    "label_to_idx = {l:i for i,l in idx_to_label.items()}\n",
    "nb_valid_df = li.massive_to_df(json.load(open(f\"../weak_datasets/{dataset_name}/valid.json\", \"r\")))\n",
    "nb_train_df = li.massive_to_df(json.load(open(f\"../weak_datasets/{dataset_name}/train.json\", \"r\")))\n",
    "nb_test_df = li.massive_to_df(json.load(open(f\"../weak_datasets/{dataset_name}/test.json\", \"r\")))"
   ]
  },
  {
   "cell_type": "code",
   "execution_count": 16,
   "metadata": {},
   "outputs": [
    {
     "name": "stderr",
     "output_type": "stream",
     "text": [
      "Translating: 100%|██████████| 11564/11564 [00:38<00:00, 300.89it/s]\n"
     ]
    },
    {
     "data": {
      "text/html": [
       "<div>\n",
       "<style scoped>\n",
       "    .dataframe tbody tr th:only-of-type {\n",
       "        vertical-align: middle;\n",
       "    }\n",
       "\n",
       "    .dataframe tbody tr th {\n",
       "        vertical-align: top;\n",
       "    }\n",
       "\n",
       "    .dataframe thead th {\n",
       "        text-align: right;\n",
       "    }\n",
       "</style>\n",
       "<table border=\"1\" class=\"dataframe\">\n",
       "  <thead>\n",
       "    <tr style=\"text-align: right;\">\n",
       "      <th></th>\n",
       "      <th>text</th>\n",
       "      <th>label</th>\n",
       "      <th>weak_labels</th>\n",
       "    </tr>\n",
       "  </thead>\n",
       "  <tbody>\n",
       "    <tr>\n",
       "      <th>0</th>\n",
       "      <td>open my list</td>\n",
       "      <td>17</td>\n",
       "      <td>[-1, -1, -1, -1, -1, -1, -1, -1, -1, -1, -1, -...</td>\n",
       "    </tr>\n",
       "    <tr>\n",
       "      <th>1</th>\n",
       "      <td>turn off random order</td>\n",
       "      <td>9</td>\n",
       "      <td>[-1, -1, -1, -1, -1, -1, -1, -1, -1, -1, -1, -...</td>\n",
       "    </tr>\n",
       "    <tr>\n",
       "      <th>2</th>\n",
       "      <td>which list did I create today</td>\n",
       "      <td>17</td>\n",
       "      <td>[-1, -1, -1, -1, -1, -1, -1, -1, -1, -1, -1, -...</td>\n",
       "    </tr>\n",
       "    <tr>\n",
       "      <th>3</th>\n",
       "      <td>Today I met my old friend per</td>\n",
       "      <td>5</td>\n",
       "      <td>[-1, -1, -1, -1, -1, -1, -1, -1, -1, -1, -1, -...</td>\n",
       "    </tr>\n",
       "    <tr>\n",
       "      <th>4</th>\n",
       "      <td>it was a day with a lot of work</td>\n",
       "      <td>5</td>\n",
       "      <td>[-1, -1, -1, -1, -1, -1, -1, -1, -1, -1, -1, -...</td>\n",
       "    </tr>\n",
       "  </tbody>\n",
       "</table>\n",
       "</div>"
      ],
      "text/plain": [
       "                              text  label  \\\n",
       "0                     open my list     17   \n",
       "1            turn off random order      9   \n",
       "2    which list did I create today     17   \n",
       "3    Today I met my old friend per      5   \n",
       "4  it was a day with a lot of work      5   \n",
       "\n",
       "                                         weak_labels  \n",
       "0  [-1, -1, -1, -1, -1, -1, -1, -1, -1, -1, -1, -...  \n",
       "1  [-1, -1, -1, -1, -1, -1, -1, -1, -1, -1, -1, -...  \n",
       "2  [-1, -1, -1, -1, -1, -1, -1, -1, -1, -1, -1, -...  \n",
       "3  [-1, -1, -1, -1, -1, -1, -1, -1, -1, -1, -1, -...  \n",
       "4  [-1, -1, -1, -1, -1, -1, -1, -1, -1, -1, -1, -...  "
      ]
     },
     "metadata": {},
     "output_type": "display_data"
    },
    {
     "data": {
      "text/html": [
       "<div>\n",
       "<style scoped>\n",
       "    .dataframe tbody tr th:only-of-type {\n",
       "        vertical-align: middle;\n",
       "    }\n",
       "\n",
       "    .dataframe tbody tr th {\n",
       "        vertical-align: top;\n",
       "    }\n",
       "\n",
       "    .dataframe thead th {\n",
       "        text-align: right;\n",
       "    }\n",
       "</style>\n",
       "<table border=\"1\" class=\"dataframe\">\n",
       "  <thead>\n",
       "    <tr style=\"text-align: right;\">\n",
       "      <th></th>\n",
       "      <th>text</th>\n",
       "      <th>label</th>\n",
       "      <th>weak_labels</th>\n",
       "    </tr>\n",
       "  </thead>\n",
       "  <tbody>\n",
       "    <tr>\n",
       "      <th>11559</th>\n",
       "      <td>guide me to the restaurant</td>\n",
       "      <td>13</td>\n",
       "      <td>[-1, -1, -1, -1, -1, -1, -1, -1, -1, -1, -1, -...</td>\n",
       "    </tr>\n",
       "    <tr>\n",
       "      <th>11560</th>\n",
       "      <td>call norgestaxi to pick me up at nineteen today</td>\n",
       "      <td>15</td>\n",
       "      <td>[-1, -1, -1, -1, -1, -1, -1, -1, -1, -1, -1, -...</td>\n",
       "    </tr>\n",
       "    <tr>\n",
       "      <th>11561</th>\n",
       "      <td>assistant please play röyksopp running to the sea</td>\n",
       "      <td>4</td>\n",
       "      <td>[-1, -1, -1, -1, -1, -1, -1, -1, -1, -1, -1, -...</td>\n",
       "    </tr>\n",
       "    <tr>\n",
       "      <th>11562</th>\n",
       "      <td>turn off the alarm at six o'clock on Wednesday</td>\n",
       "      <td>0</td>\n",
       "      <td>[0, -1, -1, -1, -1, -1, -1, -1, -1, -1, -1, -1...</td>\n",
       "    </tr>\n",
       "    <tr>\n",
       "      <th>11563</th>\n",
       "      <td>send email to robert when is dinner</td>\n",
       "      <td>16</td>\n",
       "      <td>[-1, -1, -1, -1, -1, -1, -1, -1, -1, -1, -1, -...</td>\n",
       "    </tr>\n",
       "  </tbody>\n",
       "</table>\n",
       "</div>"
      ],
      "text/plain": [
       "                                                    text  label  \\\n",
       "11559                         guide me to the restaurant     13   \n",
       "11560    call norgestaxi to pick me up at nineteen today     15   \n",
       "11561  assistant please play röyksopp running to the sea      4   \n",
       "11562     turn off the alarm at six o'clock on Wednesday      0   \n",
       "11563                send email to robert when is dinner     16   \n",
       "\n",
       "                                             weak_labels  \n",
       "11559  [-1, -1, -1, -1, -1, -1, -1, -1, -1, -1, -1, -...  \n",
       "11560  [-1, -1, -1, -1, -1, -1, -1, -1, -1, -1, -1, -...  \n",
       "11561  [-1, -1, -1, -1, -1, -1, -1, -1, -1, -1, -1, -...  \n",
       "11562  [0, -1, -1, -1, -1, -1, -1, -1, -1, -1, -1, -1...  \n",
       "11563  [-1, -1, -1, -1, -1, -1, -1, -1, -1, -1, -1, -...  "
      ]
     },
     "metadata": {},
     "output_type": "display_data"
    },
    {
     "name": "stderr",
     "output_type": "stream",
     "text": [
      "100%|██████████| 11564/11564 [00:03<00:00, 3748.30it/s]\n"
     ]
    }
   ],
   "source": [
    "nbten_train= li.deep_translate_df_to_english(nb_train_df, auth_key, \"NB\")\n",
    "display(nbten_train.head())\n",
    "display(nbten_train.tail())\n",
    "nbten_train = li.massive_df_with_new_lf(nbten_train, lfs)\n",
    "massive = li.df_to_massive(nbten_train)\n",
    "li.save_dataset(massive, \"../weak_datasets/temp/translate_nb/train.json\")"
   ]
  },
  {
   "cell_type": "code",
   "execution_count": 17,
   "metadata": {},
   "outputs": [
    {
     "name": "stderr",
     "output_type": "stream",
     "text": [
      "Translating: 100%|██████████| 1652/1652 [00:04<00:00, 398.38it/s]\n"
     ]
    },
    {
     "data": {
      "text/html": [
       "<div>\n",
       "<style scoped>\n",
       "    .dataframe tbody tr th:only-of-type {\n",
       "        vertical-align: middle;\n",
       "    }\n",
       "\n",
       "    .dataframe tbody tr th {\n",
       "        vertical-align: top;\n",
       "    }\n",
       "\n",
       "    .dataframe thead th {\n",
       "        text-align: right;\n",
       "    }\n",
       "</style>\n",
       "<table border=\"1\" class=\"dataframe\">\n",
       "  <thead>\n",
       "    <tr style=\"text-align: right;\">\n",
       "      <th></th>\n",
       "      <th>text</th>\n",
       "      <th>label</th>\n",
       "      <th>weak_labels</th>\n",
       "    </tr>\n",
       "  </thead>\n",
       "  <tbody>\n",
       "    <tr>\n",
       "      <th>0</th>\n",
       "      <td>you can turn up lights</td>\n",
       "      <td>2</td>\n",
       "      <td>[-1, -1, -1, -1, -1, -1, 2, -1, -1, -1, -1, -1...</td>\n",
       "    </tr>\n",
       "    <tr>\n",
       "      <th>1</th>\n",
       "      <td>what does p. d. a. mean?</td>\n",
       "      <td>11</td>\n",
       "      <td>[-1, -1, -1, -1, -1, -1, -1, -1, -1, -1, -1, -...</td>\n",
       "    </tr>\n",
       "    <tr>\n",
       "      <th>2</th>\n",
       "      <td>how long is it until 8 p.m.</td>\n",
       "      <td>6</td>\n",
       "      <td>[-1, -1, -1, -1, -1, -1, -1, -1, -1, -1, -1, -...</td>\n",
       "    </tr>\n",
       "    <tr>\n",
       "      <th>3</th>\n",
       "      <td>I have received some emails with tracking numbers</td>\n",
       "      <td>16</td>\n",
       "      <td>[-1, -1, -1, -1, -1, -1, -1, -1, -1, -1, -1, -...</td>\n",
       "    </tr>\n",
       "    <tr>\n",
       "      <th>4</th>\n",
       "      <td>what does it say in the email sent thirty minu...</td>\n",
       "      <td>16</td>\n",
       "      <td>[-1, -1, -1, -1, -1, -1, -1, -1, -1, -1, -1, -...</td>\n",
       "    </tr>\n",
       "  </tbody>\n",
       "</table>\n",
       "</div>"
      ],
      "text/plain": [
       "                                                text  label  \\\n",
       "0                             you can turn up lights      2   \n",
       "1                           what does p. d. a. mean?     11   \n",
       "2                        how long is it until 8 p.m.      6   \n",
       "3  I have received some emails with tracking numbers     16   \n",
       "4  what does it say in the email sent thirty minu...     16   \n",
       "\n",
       "                                         weak_labels  \n",
       "0  [-1, -1, -1, -1, -1, -1, 2, -1, -1, -1, -1, -1...  \n",
       "1  [-1, -1, -1, -1, -1, -1, -1, -1, -1, -1, -1, -...  \n",
       "2  [-1, -1, -1, -1, -1, -1, -1, -1, -1, -1, -1, -...  \n",
       "3  [-1, -1, -1, -1, -1, -1, -1, -1, -1, -1, -1, -...  \n",
       "4  [-1, -1, -1, -1, -1, -1, -1, -1, -1, -1, -1, -...  "
      ]
     },
     "metadata": {},
     "output_type": "display_data"
    },
    {
     "data": {
      "text/html": [
       "<div>\n",
       "<style scoped>\n",
       "    .dataframe tbody tr th:only-of-type {\n",
       "        vertical-align: middle;\n",
       "    }\n",
       "\n",
       "    .dataframe tbody tr th {\n",
       "        vertical-align: top;\n",
       "    }\n",
       "\n",
       "    .dataframe thead th {\n",
       "        text-align: right;\n",
       "    }\n",
       "</style>\n",
       "<table border=\"1\" class=\"dataframe\">\n",
       "  <thead>\n",
       "    <tr style=\"text-align: right;\">\n",
       "      <th></th>\n",
       "      <th>text</th>\n",
       "      <th>label</th>\n",
       "      <th>weak_labels</th>\n",
       "    </tr>\n",
       "  </thead>\n",
       "  <tbody>\n",
       "    <tr>\n",
       "      <th>1647</th>\n",
       "      <td>get it resolved quickly</td>\n",
       "      <td>12</td>\n",
       "      <td>[-1, -1, -1, -1, -1, -1, -1, -1, -1, -1, -1, -...</td>\n",
       "    </tr>\n",
       "    <tr>\n",
       "      <th>1648</th>\n",
       "      <td>where is laos located</td>\n",
       "      <td>11</td>\n",
       "      <td>[-1, -1, -1, -1, -1, -1, -1, -1, -1, -1, -1, -...</td>\n",
       "    </tr>\n",
       "    <tr>\n",
       "      <th>1649</th>\n",
       "      <td>tell me if I should use the train or bus to ge...</td>\n",
       "      <td>15</td>\n",
       "      <td>[-1, -1, -1, -1, -1, -1, -1, -1, -1, -1, -1, -...</td>\n",
       "    </tr>\n",
       "    <tr>\n",
       "      <th>1650</th>\n",
       "      <td>tell me about tone damli's family</td>\n",
       "      <td>11</td>\n",
       "      <td>[-1, -1, -1, -1, -1, -1, -1, -1, -1, -1, -1, -...</td>\n",
       "    </tr>\n",
       "    <tr>\n",
       "      <th>1651</th>\n",
       "      <td>what date is the winter solstice in two years?</td>\n",
       "      <td>6</td>\n",
       "      <td>[-1, -1, -1, -1, -1, -1, -1, -1, -1, -1, -1, -...</td>\n",
       "    </tr>\n",
       "  </tbody>\n",
       "</table>\n",
       "</div>"
      ],
      "text/plain": [
       "                                                   text  label  \\\n",
       "1647                            get it resolved quickly     12   \n",
       "1648                              where is laos located     11   \n",
       "1649  tell me if I should use the train or bus to ge...     15   \n",
       "1650                  tell me about tone damli's family     11   \n",
       "1651     what date is the winter solstice in two years?      6   \n",
       "\n",
       "                                            weak_labels  \n",
       "1647  [-1, -1, -1, -1, -1, -1, -1, -1, -1, -1, -1, -...  \n",
       "1648  [-1, -1, -1, -1, -1, -1, -1, -1, -1, -1, -1, -...  \n",
       "1649  [-1, -1, -1, -1, -1, -1, -1, -1, -1, -1, -1, -...  \n",
       "1650  [-1, -1, -1, -1, -1, -1, -1, -1, -1, -1, -1, -...  \n",
       "1651  [-1, -1, -1, -1, -1, -1, -1, -1, -1, -1, -1, -...  "
      ]
     },
     "metadata": {},
     "output_type": "display_data"
    },
    {
     "name": "stderr",
     "output_type": "stream",
     "text": [
      "100%|██████████| 1652/1652 [00:00<00:00, 3637.92it/s]\n"
     ]
    }
   ],
   "source": [
    "nbten_test= li.deep_translate_df_to_english(nb_test_df, auth_key, \"NB\")\n",
    "display(nbten_test.head())\n",
    "display(nbten_test.tail())\n",
    "nbten_test = li.massive_df_with_new_lf(nbten_test, lfs)\n",
    "massive = li.df_to_massive(nbten_test)\n",
    "li.save_dataset(massive, \"../weak_datasets/temp/translate_nb/test.json\")"
   ]
  },
  {
   "cell_type": "code",
   "execution_count": 18,
   "metadata": {},
   "outputs": [
    {
     "name": "stderr",
     "output_type": "stream",
     "text": [
      "Translating: 100%|██████████| 3305/3305 [00:07<00:00, 416.23it/s]\n"
     ]
    },
    {
     "data": {
      "text/html": [
       "<div>\n",
       "<style scoped>\n",
       "    .dataframe tbody tr th:only-of-type {\n",
       "        vertical-align: middle;\n",
       "    }\n",
       "\n",
       "    .dataframe tbody tr th {\n",
       "        vertical-align: top;\n",
       "    }\n",
       "\n",
       "    .dataframe thead th {\n",
       "        text-align: right;\n",
       "    }\n",
       "</style>\n",
       "<table border=\"1\" class=\"dataframe\">\n",
       "  <thead>\n",
       "    <tr style=\"text-align: right;\">\n",
       "      <th></th>\n",
       "      <th>text</th>\n",
       "      <th>label</th>\n",
       "      <th>weak_labels</th>\n",
       "    </tr>\n",
       "  </thead>\n",
       "  <tbody>\n",
       "    <tr>\n",
       "      <th>0</th>\n",
       "      <td>tell me about une bastholm</td>\n",
       "      <td>11</td>\n",
       "      <td>[-1, -1, -1, -1, -1, -1, -1, -1, -1, -1, -1, -...</td>\n",
       "    </tr>\n",
       "    <tr>\n",
       "      <th>1</th>\n",
       "      <td>what is the weather forecast for this week</td>\n",
       "      <td>10</td>\n",
       "      <td>[-1, -1, -1, -1, -1, -1, -1, -1, -1, -1, -1, -...</td>\n",
       "    </tr>\n",
       "    <tr>\n",
       "      <th>2</th>\n",
       "      <td>e -mail happy new year to john</td>\n",
       "      <td>16</td>\n",
       "      <td>[-1, -1, -1, -1, -1, -1, -1, -1, -1, -1, -1, -...</td>\n",
       "    </tr>\n",
       "    <tr>\n",
       "      <th>3</th>\n",
       "      <td>can you find me a furniture store near me</td>\n",
       "      <td>13</td>\n",
       "      <td>[-1, -1, -1, -1, -1, -1, -1, -1, -1, -1, -1, -...</td>\n",
       "    </tr>\n",
       "    <tr>\n",
       "      <th>4</th>\n",
       "      <td>Turn my bedroom lights off</td>\n",
       "      <td>2</td>\n",
       "      <td>[-1, -1, -1, -1, -1, -1, 2, -1, -1, -1, -1, -1...</td>\n",
       "    </tr>\n",
       "  </tbody>\n",
       "</table>\n",
       "</div>"
      ],
      "text/plain": [
       "                                         text  label  \\\n",
       "0                  tell me about une bastholm     11   \n",
       "1  what is the weather forecast for this week     10   \n",
       "2              e -mail happy new year to john     16   \n",
       "3   can you find me a furniture store near me     13   \n",
       "4                  Turn my bedroom lights off      2   \n",
       "\n",
       "                                         weak_labels  \n",
       "0  [-1, -1, -1, -1, -1, -1, -1, -1, -1, -1, -1, -...  \n",
       "1  [-1, -1, -1, -1, -1, -1, -1, -1, -1, -1, -1, -...  \n",
       "2  [-1, -1, -1, -1, -1, -1, -1, -1, -1, -1, -1, -...  \n",
       "3  [-1, -1, -1, -1, -1, -1, -1, -1, -1, -1, -1, -...  \n",
       "4  [-1, -1, -1, -1, -1, -1, 2, -1, -1, -1, -1, -1...  "
      ]
     },
     "metadata": {},
     "output_type": "display_data"
    },
    {
     "data": {
      "text/html": [
       "<div>\n",
       "<style scoped>\n",
       "    .dataframe tbody tr th:only-of-type {\n",
       "        vertical-align: middle;\n",
       "    }\n",
       "\n",
       "    .dataframe tbody tr th {\n",
       "        vertical-align: top;\n",
       "    }\n",
       "\n",
       "    .dataframe thead th {\n",
       "        text-align: right;\n",
       "    }\n",
       "</style>\n",
       "<table border=\"1\" class=\"dataframe\">\n",
       "  <thead>\n",
       "    <tr style=\"text-align: right;\">\n",
       "      <th></th>\n",
       "      <th>text</th>\n",
       "      <th>label</th>\n",
       "      <th>weak_labels</th>\n",
       "    </tr>\n",
       "  </thead>\n",
       "  <tbody>\n",
       "    <tr>\n",
       "      <th>3300</th>\n",
       "      <td>play the music</td>\n",
       "      <td>4</td>\n",
       "      <td>[-1, -1, -1, -1, -1, -1, -1, -1, -1, -1, -1, -...</td>\n",
       "    </tr>\n",
       "    <tr>\n",
       "      <th>3301</th>\n",
       "      <td>exchange rate dirham and rupees</td>\n",
       "      <td>11</td>\n",
       "      <td>[-1, -1, -1, -1, -1, -1, -1, -1, -1, -1, -1, -...</td>\n",
       "    </tr>\n",
       "    <tr>\n",
       "      <th>3302</th>\n",
       "      <td>what day is friday the thirteenth this year</td>\n",
       "      <td>6</td>\n",
       "      <td>[-1, -1, -1, -1, -1, -1, -1, -1, -1, -1, -1, -...</td>\n",
       "    </tr>\n",
       "    <tr>\n",
       "      <th>3303</th>\n",
       "      <td>remove all my events in the calendar</td>\n",
       "      <td>3</td>\n",
       "      <td>[-1, -1, -1, -1, -1, -1, -1, -1, -1, 3, -1, -1...</td>\n",
       "    </tr>\n",
       "    <tr>\n",
       "      <th>3304</th>\n",
       "      <td>post hello everyone on facebook</td>\n",
       "      <td>12</td>\n",
       "      <td>[-1, -1, -1, -1, -1, -1, -1, -1, -1, -1, -1, -...</td>\n",
       "    </tr>\n",
       "  </tbody>\n",
       "</table>\n",
       "</div>"
      ],
      "text/plain": [
       "                                             text  label  \\\n",
       "3300                               play the music      4   \n",
       "3301              exchange rate dirham and rupees     11   \n",
       "3302  what day is friday the thirteenth this year      6   \n",
       "3303         remove all my events in the calendar      3   \n",
       "3304              post hello everyone on facebook     12   \n",
       "\n",
       "                                            weak_labels  \n",
       "3300  [-1, -1, -1, -1, -1, -1, -1, -1, -1, -1, -1, -...  \n",
       "3301  [-1, -1, -1, -1, -1, -1, -1, -1, -1, -1, -1, -...  \n",
       "3302  [-1, -1, -1, -1, -1, -1, -1, -1, -1, -1, -1, -...  \n",
       "3303  [-1, -1, -1, -1, -1, -1, -1, -1, -1, 3, -1, -1...  \n",
       "3304  [-1, -1, -1, -1, -1, -1, -1, -1, -1, -1, -1, -...  "
      ]
     },
     "metadata": {},
     "output_type": "display_data"
    },
    {
     "name": "stderr",
     "output_type": "stream",
     "text": [
      "100%|██████████| 3305/3305 [00:00<00:00, 3727.45it/s]\n"
     ]
    }
   ],
   "source": [
    "nbten_valid= li.deep_translate_df_to_english(nb_valid_df, auth_key, \"NB\")\n",
    "display(nbten_valid.head())\n",
    "display(nbten_valid.tail())\n",
    "nbten_valid = li.massive_df_with_new_lf(nbten_valid, lfs)\n",
    "massive = li.df_to_massive(nbten_valid)\n",
    "li.save_dataset(massive, \"../weak_datasets/temp/translate_nb/valid.json\")"
   ]
  },
  {
   "cell_type": "code",
   "execution_count": 19,
   "metadata": {},
   "outputs": [],
   "source": [
    "# Loading the data \n",
    "dataset_name = \"massive-CN\"\n",
    "\n",
    "idx_to_label = json.load(open(f\"../weak_datasets/{dataset_name}/label.json\"))\n",
    "label_to_idx = {l:i for i,l in idx_to_label.items()}\n",
    "cn_valid_df = li.massive_to_df(json.load(open(f\"../weak_datasets/{dataset_name}/valid.json\", \"r\")))\n",
    "cn_train_df = li.massive_to_df(json.load(open(f\"../weak_datasets/{dataset_name}/train.json\", \"r\")))\n",
    "cn_test_df = li.massive_to_df(json.load(open(f\"../weak_datasets/{dataset_name}/test.json\", \"r\")))"
   ]
  },
  {
   "cell_type": "code",
   "execution_count": 20,
   "metadata": {},
   "outputs": [],
   "source": [
    "# Loading the data \n",
    "dataset_name = \"translate_cn\"\n",
    "\n",
    "cte_valid_df = li.massive_to_df(json.load(open(f\"../weak_datasets/temp/{dataset_name}/valid.json\", \"r\")))\n",
    "cte_train_df = li.massive_to_df(json.load(open(f\"../weak_datasets/temp/{dataset_name}/train.json\", \"r\")))\n",
    "cte_test_df = li.massive_to_df(json.load(open(f\"../weak_datasets/temp/{dataset_name}/test.json\", \"r\")))"
   ]
  },
  {
   "cell_type": "code",
   "execution_count": 21,
   "metadata": {},
   "outputs": [
    {
     "name": "stderr",
     "output_type": "stream",
     "text": [
      "100%|██████████| 1652/1652 [00:00<00:00, 3707.21it/s]\n",
      "100%|██████████| 11564/11564 [00:03<00:00, 3679.32it/s]\n",
      "100%|██████████| 3305/3305 [00:00<00:00, 3691.50it/s]\n"
     ]
    }
   ],
   "source": [
    "new_test = li.df_to_df_with_new_lf(cn_test_df, cte_test_df, lfs)\n",
    "massive = li.df_to_massive(new_test)\n",
    "li.save_dataset(massive,  \"../weak_datasets/massive-CN2/test.json\")\n",
    "new_train = li.df_to_df_with_new_lf(cn_train_df, cte_train_df, lfs)\n",
    "massive = li.df_to_massive(new_train)\n",
    "li.save_dataset(li.df_to_massive(new_train),  \"../weak_datasets/massive-CN2/train.json\")\n",
    "new_valid = li.df_to_df_with_new_lf(cn_valid_df, cte_valid_df, lfs)\n",
    "massive = li.df_to_massive(new_valid)\n",
    "li.save_dataset(li.df_to_massive(new_valid),  \"../weak_datasets/massive-CN2/valid.json\")\n"
   ]
  },
  {
   "cell_type": "code",
   "execution_count": 22,
   "metadata": {},
   "outputs": [
    {
     "name": "stdout",
     "output_type": "stream",
     "text": [
      "Test Coverage: 0.5579425113464448\n",
      "acuracy for the not abstains\n",
      "0.8862418106015485\n",
      "acuracy for all\n",
      "0.4502269288956127\n",
      "Test Coverage: 0.5627810446212383\n",
      "acuracy for the not abstains\n",
      "0.8833873996926754\n",
      "acuracy for all\n",
      "0.4474230370114147\n",
      "Test Coverage: 0.5423728813559322\n",
      "acuracy for the not abstains\n",
      "0.8894348894348895\n",
      "acuracy for all\n",
      "0.43825665859564167\n"
     ]
    }
   ],
   "source": [
    "li.analysis_LFs_with_weak_labels(new_valid,18)  \n",
    "li.analysis_LFs_with_weak_labels(new_train,18)\n",
    "li.analysis_LFs_with_weak_labels(new_test,18)"
   ]
  },
  {
   "cell_type": "code",
   "execution_count": 25,
   "metadata": {},
   "outputs": [],
   "source": [
    "# Loading the data \n",
    "dataset_name = \"massive-NB\"\n",
    "\n",
    "idx_to_label = json.load(open(f\"../weak_datasets/{dataset_name}/label.json\"))\n",
    "label_to_idx = {l:i for i,l in idx_to_label.items()}\n",
    "nb_valid_df = li.massive_to_df(json.load(open(f\"../weak_datasets/{dataset_name}/valid.json\", \"r\")))\n",
    "nb_train_df = li.massive_to_df(json.load(open(f\"../weak_datasets/{dataset_name}/train.json\", \"r\")))\n",
    "nb_test_df = li.massive_to_df(json.load(open(f\"../weak_datasets/{dataset_name}/test.json\", \"r\")))"
   ]
  },
  {
   "cell_type": "code",
   "execution_count": 26,
   "metadata": {},
   "outputs": [],
   "source": [
    "# Loading the data \n",
    "dataset_name = \"translate_nb\"\n",
    "\n",
    "nte_valid_df = li.massive_to_df(json.load(open(f\"../weak_datasets/temp/{dataset_name}/valid.json\", \"r\")))\n",
    "nte_train_df = li.massive_to_df(json.load(open(f\"../weak_datasets/temp/{dataset_name}/train.json\", \"r\")))\n",
    "nte_test_df = li.massive_to_df(json.load(open(f\"../weak_datasets/temp/{dataset_name}/test.json\", \"r\")))"
   ]
  },
  {
   "cell_type": "code",
   "execution_count": 27,
   "metadata": {},
   "outputs": [
    {
     "name": "stderr",
     "output_type": "stream",
     "text": [
      "100%|██████████| 1652/1652 [00:00<00:00, 3656.63it/s]\n",
      "100%|██████████| 11564/11564 [00:03<00:00, 3654.57it/s]\n",
      "100%|██████████| 3305/3305 [00:00<00:00, 3436.21it/s]\n"
     ]
    }
   ],
   "source": [
    "new_test = li.df_to_df_with_new_lf(nb_test_df, nte_test_df, lfs)\n",
    "massive = li.df_to_massive(new_test)\n",
    "li.save_dataset(massive,  \"../weak_datasets/massive-NB2/test.json\")\n",
    "new_train = li.df_to_df_with_new_lf(nb_train_df, nte_train_df, lfs)\n",
    "massive = li.df_to_massive(new_train)\n",
    "li.save_dataset(li.df_to_massive(new_train),  \"../weak_datasets/massive-NB2/train.json\")\n",
    "new_valid = li.df_to_df_with_new_lf(nb_valid_df, nte_valid_df, lfs)\n",
    "massive = li.df_to_massive(new_valid)\n",
    "li.save_dataset(li.df_to_massive(new_valid),  \"../weak_datasets/massive-NB2/valid.json\")\n"
   ]
  },
  {
   "cell_type": "code",
   "execution_count": 28,
   "metadata": {},
   "outputs": [
    {
     "name": "stdout",
     "output_type": "stream",
     "text": [
      "Test Coverage: 0.5897125567322239\n",
      "acuracy for the not abstains\n",
      "0.9057239057239057\n",
      "acuracy for all\n",
      "0.48835098335854765\n",
      "Test Coverage: 0.5916637841577309\n",
      "acuracy for the not abstains\n",
      "0.9011787502018408\n",
      "acuracy for all\n",
      "0.4826184711172605\n",
      "Test Coverage: 0.5901937046004843\n",
      "acuracy for the not abstains\n",
      "0.9082774049217002\n",
      "acuracy for all\n",
      "0.4915254237288136\n"
     ]
    }
   ],
   "source": [
    "li.analysis_LFs_with_weak_labels(new_valid,18)  \n",
    "li.analysis_LFs_with_weak_labels(new_train,18)\n",
    "li.analysis_LFs_with_weak_labels(new_test,18)"
   ]
  },
  {
   "cell_type": "code",
   "execution_count": 29,
   "metadata": {},
   "outputs": [
    {
     "name": "stdout",
     "output_type": "stream",
     "text": [
      "Test Coverage: 0.6084720121028744\n",
      "acuracy for the not abstains\n",
      "0.9073972602739726\n",
      "acuracy for all\n",
      "0.5010590015128593\n",
      "Test Coverage: 0.6162227602905569\n",
      "acuracy for the not abstains\n",
      "0.901840490797546\n",
      "acuracy for all\n",
      "0.4957627118644068\n",
      "Test Coverage: 0.610774818401937\n",
      "acuracy for the not abstains\n",
      "0.9107929515418502\n",
      "acuracy for all\n",
      "0.5006053268765133\n"
     ]
    }
   ],
   "source": [
    "li.analysis_LFs_with_weak_labels(valid_df,18)\n",
    "li.analysis_LFs_with_weak_labels(train_df,18)\n",
    "li.analysis_LFs_with_weak_labels(test_df,18)"
   ]
  },
  {
   "cell_type": "markdown",
   "metadata": {},
   "source": [
    "# Save datasets"
   ]
  },
  {
   "cell_type": "markdown",
   "metadata": {},
   "source": [
    "# Chinese setup\n"
   ]
  },
  {
   "cell_type": "code",
   "execution_count": 5,
   "metadata": {},
   "outputs": [],
   "source": [
    "dataset_name = \"massive-cn\"\n",
    "\n",
    "idx_to_label = json.load(open(f\"../weak_datasets/{dataset_name}/label.json\"))\n",
    "label_to_idx = {l:i for i,l in idx_to_label.items()}\n",
    "cn_valid_df = li.massive_to_df(json.load(open(f\"../weak_datasets/{dataset_name}/valid.json\", \"r\")))\n",
    "cn_train_df = li.massive_to_df(json.load(open(f\"../weak_datasets/{dataset_name}/train.json\", \"r\")))\n",
    "cn_test_df = li.massive_to_df(json.load(open(f\"../weak_datasets/{dataset_name}/test.json\", \"r\")))"
   ]
  },
  {
   "cell_type": "code",
   "execution_count": 16,
   "metadata": {},
   "outputs": [
    {
     "name": "stderr",
     "output_type": "stream",
     "text": [
      "  0%|          | 0/1652 [00:00<?, ?it/s]"
     ]
    },
    {
     "name": "stderr",
     "output_type": "stream",
     "text": [
      "100%|██████████| 1652/1652 [00:00<00:00, 3537.99it/s]\n",
      "100%|██████████| 11564/11564 [00:03<00:00, 3486.72it/s]\n",
      "100%|██████████| 3305/3305 [00:00<00:00, 3535.54it/s]\n"
     ]
    }
   ],
   "source": [
    "new_test = li.df_to_df_with_new_lf(cn_test_df, test_df, lfs)\n",
    "new_train = li.df_to_df_with_new_lf(cn_train_df, train_df, lfs)\n",
    "new_valid = li.df_to_df_with_new_lf(cn_valid_df, valid_df, lfs)"
   ]
  },
  {
   "cell_type": "code",
   "execution_count": 17,
   "metadata": {},
   "outputs": [
    {
     "data": {
      "text/html": [
       "<div>\n",
       "<style scoped>\n",
       "    .dataframe tbody tr th:only-of-type {\n",
       "        vertical-align: middle;\n",
       "    }\n",
       "\n",
       "    .dataframe tbody tr th {\n",
       "        vertical-align: top;\n",
       "    }\n",
       "\n",
       "    .dataframe thead th {\n",
       "        text-align: right;\n",
       "    }\n",
       "</style>\n",
       "<table border=\"1\" class=\"dataframe\">\n",
       "  <thead>\n",
       "    <tr style=\"text-align: right;\">\n",
       "      <th></th>\n",
       "      <th>text</th>\n",
       "      <th>label</th>\n",
       "      <th>weak_labels</th>\n",
       "    </tr>\n",
       "  </thead>\n",
       "  <tbody>\n",
       "    <tr>\n",
       "      <th>0</th>\n",
       "      <td>你能把灯打开吗</td>\n",
       "      <td>2</td>\n",
       "      <td>[-1, -1, -1, -1, -1, -1, 2, -1, -1, -1, -1, -1...</td>\n",
       "    </tr>\n",
       "    <tr>\n",
       "      <th>1</th>\n",
       "      <td>个人数字助理是什么意思</td>\n",
       "      <td>11</td>\n",
       "      <td>[-1, -1, -1, -1, -1, -1, -1, -1, -1, -1, -1, -...</td>\n",
       "    </tr>\n",
       "    <tr>\n",
       "      <th>2</th>\n",
       "      <td>和下午八点还差多少</td>\n",
       "      <td>6</td>\n",
       "      <td>[-1, -1, -1, -1, -1, -1, -1, -1, -1, -1, -1, -...</td>\n",
       "    </tr>\n",
       "    <tr>\n",
       "      <th>3</th>\n",
       "      <td>我有收到带有追踪号码的邮件吗</td>\n",
       "      <td>16</td>\n",
       "      <td>[-1, -1, -1, -1, -1, -1, -1, -1, -1, -1, -1, -...</td>\n",
       "    </tr>\n",
       "    <tr>\n",
       "      <th>4</th>\n",
       "      <td>妈妈三十分钟前发的电子邮件说了什么</td>\n",
       "      <td>16</td>\n",
       "      <td>[-1, -1, -1, -1, -1, -1, -1, -1, -1, -1, -1, -...</td>\n",
       "    </tr>\n",
       "  </tbody>\n",
       "</table>\n",
       "</div>"
      ],
      "text/plain": [
       "                text  label                                        weak_labels\n",
       "0            你能把灯打开吗      2  [-1, -1, -1, -1, -1, -1, 2, -1, -1, -1, -1, -1...\n",
       "1        个人数字助理是什么意思     11  [-1, -1, -1, -1, -1, -1, -1, -1, -1, -1, -1, -...\n",
       "2          和下午八点还差多少      6  [-1, -1, -1, -1, -1, -1, -1, -1, -1, -1, -1, -...\n",
       "3     我有收到带有追踪号码的邮件吗     16  [-1, -1, -1, -1, -1, -1, -1, -1, -1, -1, -1, -...\n",
       "4  妈妈三十分钟前发的电子邮件说了什么     16  [-1, -1, -1, -1, -1, -1, -1, -1, -1, -1, -1, -..."
      ]
     },
     "execution_count": 17,
     "metadata": {},
     "output_type": "execute_result"
    }
   ],
   "source": [
    "new_test.head()"
   ]
  },
  {
   "cell_type": "code",
   "execution_count": 18,
   "metadata": {},
   "outputs": [],
   "source": [
    "massive = li.df_to_massive(new_train)\n",
    "li.save_dataset(massive,  \"../weak_datasets/massive-CN/train.json\")\n",
    "massive = li.df_to_massive(new_valid)\n",
    "li.save_dataset(massive,  \"../weak_datasets/massive-CN/valid.json\")\n",
    "massive = li.df_to_massive(new_test)\n",
    "li.save_dataset(massive,  \"../weak_datasets/massive-CN/test.json\")"
   ]
  },
  {
   "cell_type": "markdown",
   "metadata": {},
   "source": [
    "# Start translate version"
   ]
  },
  {
   "cell_type": "code",
   "execution_count": 19,
   "metadata": {},
   "outputs": [
    {
     "data": {
      "text/html": [
       "<div>\n",
       "<style scoped>\n",
       "    .dataframe tbody tr th:only-of-type {\n",
       "        vertical-align: middle;\n",
       "    }\n",
       "\n",
       "    .dataframe tbody tr th {\n",
       "        vertical-align: top;\n",
       "    }\n",
       "\n",
       "    .dataframe thead th {\n",
       "        text-align: right;\n",
       "    }\n",
       "</style>\n",
       "<table border=\"1\" class=\"dataframe\">\n",
       "  <thead>\n",
       "    <tr style=\"text-align: right;\">\n",
       "      <th></th>\n",
       "      <th>text</th>\n",
       "      <th>label</th>\n",
       "      <th>weak_labels</th>\n",
       "    </tr>\n",
       "  </thead>\n",
       "  <tbody>\n",
       "    <tr>\n",
       "      <th>0</th>\n",
       "      <td>打开我的清单</td>\n",
       "      <td>17</td>\n",
       "      <td>[-1, -1, -1, -1, -1, -1, -1, -1, -1, -1, -1, -...</td>\n",
       "    </tr>\n",
       "    <tr>\n",
       "      <th>1</th>\n",
       "      <td>关闭随机播放</td>\n",
       "      <td>9</td>\n",
       "      <td>[-1, -1, -1, -1, -1, -1, -1, -1, -1, -1, -1, -...</td>\n",
       "    </tr>\n",
       "    <tr>\n",
       "      <th>2</th>\n",
       "      <td>我今天有什么清单吗</td>\n",
       "      <td>17</td>\n",
       "      <td>[-1, -1, -1, -1, -1, -1, -1, -1, -1, -1, -1, -...</td>\n",
       "    </tr>\n",
       "    <tr>\n",
       "      <th>3</th>\n",
       "      <td>今天我偶然碰见老朋友大强了</td>\n",
       "      <td>5</td>\n",
       "      <td>[-1, -1, -1, -1, -1, -1, -1, -1, -1, -1, -1, -...</td>\n",
       "    </tr>\n",
       "    <tr>\n",
       "      <th>4</th>\n",
       "      <td>是一个忙碌的一天</td>\n",
       "      <td>5</td>\n",
       "      <td>[-1, -1, -1, -1, -1, -1, -1, -1, -1, -1, -1, -...</td>\n",
       "    </tr>\n",
       "  </tbody>\n",
       "</table>\n",
       "</div>"
      ],
      "text/plain": [
       "            text  label                                        weak_labels\n",
       "0         打开我的清单     17  [-1, -1, -1, -1, -1, -1, -1, -1, -1, -1, -1, -...\n",
       "1         关闭随机播放      9  [-1, -1, -1, -1, -1, -1, -1, -1, -1, -1, -1, -...\n",
       "2      我今天有什么清单吗     17  [-1, -1, -1, -1, -1, -1, -1, -1, -1, -1, -1, -...\n",
       "3  今天我偶然碰见老朋友大强了      5  [-1, -1, -1, -1, -1, -1, -1, -1, -1, -1, -1, -...\n",
       "4       是一个忙碌的一天      5  [-1, -1, -1, -1, -1, -1, -1, -1, -1, -1, -1, -..."
      ]
     },
     "execution_count": 19,
     "metadata": {},
     "output_type": "execute_result"
    }
   ],
   "source": [
    "cn_train_df.head()"
   ]
  },
  {
   "cell_type": "code",
   "execution_count": 7,
   "metadata": {},
   "outputs": [
    {
     "name": "stderr",
     "output_type": "stream",
     "text": [
      "Translating:   0%|          | 0/67 [00:00<?, ?it/s]"
     ]
    },
    {
     "name": "stderr",
     "output_type": "stream",
     "text": [
      "Translating:   1%|▏         | 1/67 [00:33<36:29, 33.17s/it]\n"
     ]
    },
    {
     "ename": "KeyboardInterrupt",
     "evalue": "",
     "output_type": "error",
     "traceback": [
      "\u001b[0;31m---------------------------------------------------------------------------\u001b[0m",
      "\u001b[0;31mKeyboardInterrupt\u001b[0m                         Traceback (most recent call last)",
      "\u001b[0;32m/tmp/ipykernel_75351/802349306.py\u001b[0m in \u001b[0;36m<module>\u001b[0;34m\u001b[0m\n\u001b[1;32m      1\u001b[0m \u001b[0;31m# translate all the data\u001b[0m\u001b[0;34m\u001b[0m\u001b[0;34m\u001b[0m\u001b[0;34m\u001b[0m\u001b[0m\n\u001b[0;32m----> 2\u001b[0;31m \u001b[0mcn_en_test\u001b[0m \u001b[0;34m=\u001b[0m \u001b[0mli\u001b[0m\u001b[0;34m.\u001b[0m\u001b[0mtranslate_df_to_english\u001b[0m\u001b[0;34m(\u001b[0m\u001b[0mcn_test_df\u001b[0m\u001b[0;34m,\u001b[0m \u001b[0;34m'zh-CN'\u001b[0m\u001b[0;34m)\u001b[0m\u001b[0;34m\u001b[0m\u001b[0;34m\u001b[0m\u001b[0m\n\u001b[0m\u001b[1;32m      3\u001b[0m \u001b[0mnew_test\u001b[0m \u001b[0;34m=\u001b[0m \u001b[0mli\u001b[0m\u001b[0;34m.\u001b[0m\u001b[0mdf_to_df_with_new_lf\u001b[0m\u001b[0;34m(\u001b[0m\u001b[0mcn_test_df\u001b[0m\u001b[0;34m,\u001b[0m \u001b[0mcn_en_test\u001b[0m\u001b[0;34m,\u001b[0m \u001b[0mlfs\u001b[0m\u001b[0;34m)\u001b[0m\u001b[0;34m\u001b[0m\u001b[0;34m\u001b[0m\u001b[0m\n\u001b[1;32m      4\u001b[0m \u001b[0mmassive\u001b[0m \u001b[0;34m=\u001b[0m \u001b[0mli\u001b[0m\u001b[0;34m.\u001b[0m\u001b[0mdf_to_massive\u001b[0m\u001b[0;34m(\u001b[0m\u001b[0mnew_test\u001b[0m\u001b[0;34m)\u001b[0m\u001b[0;34m\u001b[0m\u001b[0;34m\u001b[0m\u001b[0m\n\u001b[1;32m      5\u001b[0m \u001b[0mli\u001b[0m\u001b[0;34m.\u001b[0m\u001b[0msave_dataset\u001b[0m\u001b[0;34m(\u001b[0m\u001b[0mmassive\u001b[0m\u001b[0;34m,\u001b[0m  \u001b[0;34m\"../weak_datasets/massive-CN2/test.json\"\u001b[0m\u001b[0;34m)\u001b[0m\u001b[0;34m\u001b[0m\u001b[0;34m\u001b[0m\u001b[0m\n",
      "\u001b[0;32m/mnt/data/chris/st4/stronger-than-you-think/end_model_training/lable_function/label_improve.py\u001b[0m in \u001b[0;36mtranslate_df_to_english\u001b[0;34m(df, src_language, batch_size)\u001b[0m\n\u001b[1;32m    233\u001b[0m         \u001b[0mbatch\u001b[0m \u001b[0;34m=\u001b[0m \u001b[0mtexts\u001b[0m\u001b[0;34m[\u001b[0m\u001b[0mi\u001b[0m\u001b[0;34m:\u001b[0m\u001b[0mi\u001b[0m \u001b[0;34m+\u001b[0m \u001b[0mbatch_size\u001b[0m\u001b[0;34m]\u001b[0m\u001b[0;34m\u001b[0m\u001b[0;34m\u001b[0m\u001b[0m\n\u001b[1;32m    234\u001b[0m         \u001b[0;32mtry\u001b[0m\u001b[0;34m:\u001b[0m\u001b[0;34m\u001b[0m\u001b[0;34m\u001b[0m\u001b[0m\n\u001b[0;32m--> 235\u001b[0;31m             \u001b[0mtranslations\u001b[0m \u001b[0;34m=\u001b[0m \u001b[0mtranslator\u001b[0m\u001b[0;34m.\u001b[0m\u001b[0mtranslate_batch\u001b[0m\u001b[0;34m(\u001b[0m\u001b[0mbatch\u001b[0m\u001b[0;34m)\u001b[0m\u001b[0;34m\u001b[0m\u001b[0;34m\u001b[0m\u001b[0m\n\u001b[0m\u001b[1;32m    236\u001b[0m             \u001b[0mtranslated_texts\u001b[0m\u001b[0;34m.\u001b[0m\u001b[0mextend\u001b[0m\u001b[0;34m(\u001b[0m\u001b[0mtranslations\u001b[0m\u001b[0;34m)\u001b[0m\u001b[0;34m\u001b[0m\u001b[0;34m\u001b[0m\u001b[0m\n\u001b[1;32m    237\u001b[0m         \u001b[0;32mexcept\u001b[0m \u001b[0mException\u001b[0m \u001b[0;32mas\u001b[0m \u001b[0me\u001b[0m\u001b[0;34m:\u001b[0m\u001b[0;34m\u001b[0m\u001b[0;34m\u001b[0m\u001b[0m\n",
      "\u001b[0;32m~/miniconda3/envs/AutoWS-Bench-101/lib/python3.7/site-packages/deep_translator/google.py\u001b[0m in \u001b[0;36mtranslate_batch\u001b[0;34m(self, batch, **kwargs)\u001b[0m\n\u001b[1;32m    120\u001b[0m         \u001b[0;34m@\u001b[0m\u001b[0;32mreturn\u001b[0m\u001b[0;34m:\u001b[0m \u001b[0mlist\u001b[0m \u001b[0mof\u001b[0m \u001b[0mtranslations\u001b[0m\u001b[0;34m\u001b[0m\u001b[0;34m\u001b[0m\u001b[0m\n\u001b[1;32m    121\u001b[0m         \"\"\"\n\u001b[0;32m--> 122\u001b[0;31m         \u001b[0;32mreturn\u001b[0m \u001b[0mself\u001b[0m\u001b[0;34m.\u001b[0m\u001b[0m_translate_batch\u001b[0m\u001b[0;34m(\u001b[0m\u001b[0mbatch\u001b[0m\u001b[0;34m,\u001b[0m \u001b[0;34m**\u001b[0m\u001b[0mkwargs\u001b[0m\u001b[0;34m)\u001b[0m\u001b[0;34m\u001b[0m\u001b[0;34m\u001b[0m\u001b[0m\n\u001b[0m",
      "\u001b[0;32m~/miniconda3/envs/AutoWS-Bench-101/lib/python3.7/site-packages/deep_translator/base.py\u001b[0m in \u001b[0;36m_translate_batch\u001b[0;34m(self, batch, **kwargs)\u001b[0m\n\u001b[1;32m    179\u001b[0m         \u001b[0marr\u001b[0m \u001b[0;34m=\u001b[0m \u001b[0;34m[\u001b[0m\u001b[0;34m]\u001b[0m\u001b[0;34m\u001b[0m\u001b[0;34m\u001b[0m\u001b[0m\n\u001b[1;32m    180\u001b[0m         \u001b[0;32mfor\u001b[0m \u001b[0mi\u001b[0m\u001b[0;34m,\u001b[0m \u001b[0mtext\u001b[0m \u001b[0;32min\u001b[0m \u001b[0menumerate\u001b[0m\u001b[0;34m(\u001b[0m\u001b[0mbatch\u001b[0m\u001b[0;34m)\u001b[0m\u001b[0;34m:\u001b[0m\u001b[0;34m\u001b[0m\u001b[0;34m\u001b[0m\u001b[0m\n\u001b[0;32m--> 181\u001b[0;31m             \u001b[0mtranslated\u001b[0m \u001b[0;34m=\u001b[0m \u001b[0mself\u001b[0m\u001b[0;34m.\u001b[0m\u001b[0mtranslate\u001b[0m\u001b[0;34m(\u001b[0m\u001b[0mtext\u001b[0m\u001b[0;34m,\u001b[0m \u001b[0;34m**\u001b[0m\u001b[0mkwargs\u001b[0m\u001b[0;34m)\u001b[0m\u001b[0;34m\u001b[0m\u001b[0;34m\u001b[0m\u001b[0m\n\u001b[0m\u001b[1;32m    182\u001b[0m             \u001b[0marr\u001b[0m\u001b[0;34m.\u001b[0m\u001b[0mappend\u001b[0m\u001b[0;34m(\u001b[0m\u001b[0mtranslated\u001b[0m\u001b[0;34m)\u001b[0m\u001b[0;34m\u001b[0m\u001b[0;34m\u001b[0m\u001b[0m\n\u001b[1;32m    183\u001b[0m         \u001b[0;32mreturn\u001b[0m \u001b[0marr\u001b[0m\u001b[0;34m\u001b[0m\u001b[0;34m\u001b[0m\u001b[0m\n",
      "\u001b[0;32m~/miniconda3/envs/AutoWS-Bench-101/lib/python3.7/site-packages/deep_translator/google.py\u001b[0m in \u001b[0;36mtranslate\u001b[0;34m(self, text, **kwargs)\u001b[0m\n\u001b[1;32m     66\u001b[0m \u001b[0;34m\u001b[0m\u001b[0m\n\u001b[1;32m     67\u001b[0m             response = requests.get(\n\u001b[0;32m---> 68\u001b[0;31m                 \u001b[0mself\u001b[0m\u001b[0;34m.\u001b[0m\u001b[0m_base_url\u001b[0m\u001b[0;34m,\u001b[0m \u001b[0mparams\u001b[0m\u001b[0;34m=\u001b[0m\u001b[0mself\u001b[0m\u001b[0;34m.\u001b[0m\u001b[0m_url_params\u001b[0m\u001b[0;34m,\u001b[0m \u001b[0mproxies\u001b[0m\u001b[0;34m=\u001b[0m\u001b[0mself\u001b[0m\u001b[0;34m.\u001b[0m\u001b[0mproxies\u001b[0m\u001b[0;34m\u001b[0m\u001b[0;34m\u001b[0m\u001b[0m\n\u001b[0m\u001b[1;32m     69\u001b[0m             )\n\u001b[1;32m     70\u001b[0m             \u001b[0;32mif\u001b[0m \u001b[0mresponse\u001b[0m\u001b[0;34m.\u001b[0m\u001b[0mstatus_code\u001b[0m \u001b[0;34m==\u001b[0m \u001b[0;36m429\u001b[0m\u001b[0;34m:\u001b[0m\u001b[0;34m\u001b[0m\u001b[0;34m\u001b[0m\u001b[0m\n",
      "\u001b[0;32m~/miniconda3/envs/AutoWS-Bench-101/lib/python3.7/site-packages/requests/api.py\u001b[0m in \u001b[0;36mget\u001b[0;34m(url, params, **kwargs)\u001b[0m\n\u001b[1;32m     73\u001b[0m     \"\"\"\n\u001b[1;32m     74\u001b[0m \u001b[0;34m\u001b[0m\u001b[0m\n\u001b[0;32m---> 75\u001b[0;31m     \u001b[0;32mreturn\u001b[0m \u001b[0mrequest\u001b[0m\u001b[0;34m(\u001b[0m\u001b[0;34m'get'\u001b[0m\u001b[0;34m,\u001b[0m \u001b[0murl\u001b[0m\u001b[0;34m,\u001b[0m \u001b[0mparams\u001b[0m\u001b[0;34m=\u001b[0m\u001b[0mparams\u001b[0m\u001b[0;34m,\u001b[0m \u001b[0;34m**\u001b[0m\u001b[0mkwargs\u001b[0m\u001b[0;34m)\u001b[0m\u001b[0;34m\u001b[0m\u001b[0;34m\u001b[0m\u001b[0m\n\u001b[0m\u001b[1;32m     76\u001b[0m \u001b[0;34m\u001b[0m\u001b[0m\n\u001b[1;32m     77\u001b[0m \u001b[0;34m\u001b[0m\u001b[0m\n",
      "\u001b[0;32m~/miniconda3/envs/AutoWS-Bench-101/lib/python3.7/site-packages/requests/api.py\u001b[0m in \u001b[0;36mrequest\u001b[0;34m(method, url, **kwargs)\u001b[0m\n\u001b[1;32m     59\u001b[0m     \u001b[0;31m# cases, and look like a memory leak in others.\u001b[0m\u001b[0;34m\u001b[0m\u001b[0;34m\u001b[0m\u001b[0;34m\u001b[0m\u001b[0m\n\u001b[1;32m     60\u001b[0m     \u001b[0;32mwith\u001b[0m \u001b[0msessions\u001b[0m\u001b[0;34m.\u001b[0m\u001b[0mSession\u001b[0m\u001b[0;34m(\u001b[0m\u001b[0;34m)\u001b[0m \u001b[0;32mas\u001b[0m \u001b[0msession\u001b[0m\u001b[0;34m:\u001b[0m\u001b[0;34m\u001b[0m\u001b[0;34m\u001b[0m\u001b[0m\n\u001b[0;32m---> 61\u001b[0;31m         \u001b[0;32mreturn\u001b[0m \u001b[0msession\u001b[0m\u001b[0;34m.\u001b[0m\u001b[0mrequest\u001b[0m\u001b[0;34m(\u001b[0m\u001b[0mmethod\u001b[0m\u001b[0;34m=\u001b[0m\u001b[0mmethod\u001b[0m\u001b[0;34m,\u001b[0m \u001b[0murl\u001b[0m\u001b[0;34m=\u001b[0m\u001b[0murl\u001b[0m\u001b[0;34m,\u001b[0m \u001b[0;34m**\u001b[0m\u001b[0mkwargs\u001b[0m\u001b[0;34m)\u001b[0m\u001b[0;34m\u001b[0m\u001b[0;34m\u001b[0m\u001b[0m\n\u001b[0m\u001b[1;32m     62\u001b[0m \u001b[0;34m\u001b[0m\u001b[0m\n\u001b[1;32m     63\u001b[0m \u001b[0;34m\u001b[0m\u001b[0m\n",
      "\u001b[0;32m~/miniconda3/envs/AutoWS-Bench-101/lib/python3.7/site-packages/requests/sessions.py\u001b[0m in \u001b[0;36mrequest\u001b[0;34m(self, method, url, params, data, headers, cookies, files, auth, timeout, allow_redirects, proxies, hooks, stream, verify, cert, json)\u001b[0m\n\u001b[1;32m    540\u001b[0m         }\n\u001b[1;32m    541\u001b[0m         \u001b[0msend_kwargs\u001b[0m\u001b[0;34m.\u001b[0m\u001b[0mupdate\u001b[0m\u001b[0;34m(\u001b[0m\u001b[0msettings\u001b[0m\u001b[0;34m)\u001b[0m\u001b[0;34m\u001b[0m\u001b[0;34m\u001b[0m\u001b[0m\n\u001b[0;32m--> 542\u001b[0;31m         \u001b[0mresp\u001b[0m \u001b[0;34m=\u001b[0m \u001b[0mself\u001b[0m\u001b[0;34m.\u001b[0m\u001b[0msend\u001b[0m\u001b[0;34m(\u001b[0m\u001b[0mprep\u001b[0m\u001b[0;34m,\u001b[0m \u001b[0;34m**\u001b[0m\u001b[0msend_kwargs\u001b[0m\u001b[0;34m)\u001b[0m\u001b[0;34m\u001b[0m\u001b[0;34m\u001b[0m\u001b[0m\n\u001b[0m\u001b[1;32m    543\u001b[0m \u001b[0;34m\u001b[0m\u001b[0m\n\u001b[1;32m    544\u001b[0m         \u001b[0;32mreturn\u001b[0m \u001b[0mresp\u001b[0m\u001b[0;34m\u001b[0m\u001b[0;34m\u001b[0m\u001b[0m\n",
      "\u001b[0;32m~/miniconda3/envs/AutoWS-Bench-101/lib/python3.7/site-packages/requests/sessions.py\u001b[0m in \u001b[0;36msend\u001b[0;34m(self, request, **kwargs)\u001b[0m\n\u001b[1;32m    695\u001b[0m \u001b[0;34m\u001b[0m\u001b[0m\n\u001b[1;32m    696\u001b[0m         \u001b[0;32mif\u001b[0m \u001b[0;32mnot\u001b[0m \u001b[0mstream\u001b[0m\u001b[0;34m:\u001b[0m\u001b[0;34m\u001b[0m\u001b[0;34m\u001b[0m\u001b[0m\n\u001b[0;32m--> 697\u001b[0;31m             \u001b[0mr\u001b[0m\u001b[0;34m.\u001b[0m\u001b[0mcontent\u001b[0m\u001b[0;34m\u001b[0m\u001b[0;34m\u001b[0m\u001b[0m\n\u001b[0m\u001b[1;32m    698\u001b[0m \u001b[0;34m\u001b[0m\u001b[0m\n\u001b[1;32m    699\u001b[0m         \u001b[0;32mreturn\u001b[0m \u001b[0mr\u001b[0m\u001b[0;34m\u001b[0m\u001b[0;34m\u001b[0m\u001b[0m\n",
      "\u001b[0;32m~/miniconda3/envs/AutoWS-Bench-101/lib/python3.7/site-packages/requests/models.py\u001b[0m in \u001b[0;36mcontent\u001b[0;34m(self)\u001b[0m\n\u001b[1;32m    834\u001b[0m                 \u001b[0mself\u001b[0m\u001b[0;34m.\u001b[0m\u001b[0m_content\u001b[0m \u001b[0;34m=\u001b[0m \u001b[0;32mNone\u001b[0m\u001b[0;34m\u001b[0m\u001b[0;34m\u001b[0m\u001b[0m\n\u001b[1;32m    835\u001b[0m             \u001b[0;32melse\u001b[0m\u001b[0;34m:\u001b[0m\u001b[0;34m\u001b[0m\u001b[0;34m\u001b[0m\u001b[0m\n\u001b[0;32m--> 836\u001b[0;31m                 \u001b[0mself\u001b[0m\u001b[0;34m.\u001b[0m\u001b[0m_content\u001b[0m \u001b[0;34m=\u001b[0m \u001b[0;34mb''\u001b[0m\u001b[0;34m.\u001b[0m\u001b[0mjoin\u001b[0m\u001b[0;34m(\u001b[0m\u001b[0mself\u001b[0m\u001b[0;34m.\u001b[0m\u001b[0miter_content\u001b[0m\u001b[0;34m(\u001b[0m\u001b[0mCONTENT_CHUNK_SIZE\u001b[0m\u001b[0;34m)\u001b[0m\u001b[0;34m)\u001b[0m \u001b[0;32mor\u001b[0m \u001b[0;34mb''\u001b[0m\u001b[0;34m\u001b[0m\u001b[0;34m\u001b[0m\u001b[0m\n\u001b[0m\u001b[1;32m    837\u001b[0m \u001b[0;34m\u001b[0m\u001b[0m\n\u001b[1;32m    838\u001b[0m         \u001b[0mself\u001b[0m\u001b[0;34m.\u001b[0m\u001b[0m_content_consumed\u001b[0m \u001b[0;34m=\u001b[0m \u001b[0;32mTrue\u001b[0m\u001b[0;34m\u001b[0m\u001b[0;34m\u001b[0m\u001b[0m\n",
      "\u001b[0;32m~/miniconda3/envs/AutoWS-Bench-101/lib/python3.7/site-packages/requests/models.py\u001b[0m in \u001b[0;36mgenerate\u001b[0;34m()\u001b[0m\n\u001b[1;32m    756\u001b[0m             \u001b[0;32mif\u001b[0m \u001b[0mhasattr\u001b[0m\u001b[0;34m(\u001b[0m\u001b[0mself\u001b[0m\u001b[0;34m.\u001b[0m\u001b[0mraw\u001b[0m\u001b[0;34m,\u001b[0m \u001b[0;34m'stream'\u001b[0m\u001b[0;34m)\u001b[0m\u001b[0;34m:\u001b[0m\u001b[0;34m\u001b[0m\u001b[0;34m\u001b[0m\u001b[0m\n\u001b[1;32m    757\u001b[0m                 \u001b[0;32mtry\u001b[0m\u001b[0;34m:\u001b[0m\u001b[0;34m\u001b[0m\u001b[0;34m\u001b[0m\u001b[0m\n\u001b[0;32m--> 758\u001b[0;31m                     \u001b[0;32mfor\u001b[0m \u001b[0mchunk\u001b[0m \u001b[0;32min\u001b[0m \u001b[0mself\u001b[0m\u001b[0;34m.\u001b[0m\u001b[0mraw\u001b[0m\u001b[0;34m.\u001b[0m\u001b[0mstream\u001b[0m\u001b[0;34m(\u001b[0m\u001b[0mchunk_size\u001b[0m\u001b[0;34m,\u001b[0m \u001b[0mdecode_content\u001b[0m\u001b[0;34m=\u001b[0m\u001b[0;32mTrue\u001b[0m\u001b[0;34m)\u001b[0m\u001b[0;34m:\u001b[0m\u001b[0;34m\u001b[0m\u001b[0;34m\u001b[0m\u001b[0m\n\u001b[0m\u001b[1;32m    759\u001b[0m                         \u001b[0;32myield\u001b[0m \u001b[0mchunk\u001b[0m\u001b[0;34m\u001b[0m\u001b[0;34m\u001b[0m\u001b[0m\n\u001b[1;32m    760\u001b[0m                 \u001b[0;32mexcept\u001b[0m \u001b[0mProtocolError\u001b[0m \u001b[0;32mas\u001b[0m \u001b[0me\u001b[0m\u001b[0;34m:\u001b[0m\u001b[0;34m\u001b[0m\u001b[0;34m\u001b[0m\u001b[0m\n",
      "\u001b[0;32m~/miniconda3/envs/AutoWS-Bench-101/lib/python3.7/site-packages/urllib3/response.py\u001b[0m in \u001b[0;36mstream\u001b[0;34m(self, amt, decode_content)\u001b[0m\n\u001b[1;32m    570\u001b[0m         \"\"\"\n\u001b[1;32m    571\u001b[0m         \u001b[0;32mif\u001b[0m \u001b[0mself\u001b[0m\u001b[0;34m.\u001b[0m\u001b[0mchunked\u001b[0m \u001b[0;32mand\u001b[0m \u001b[0mself\u001b[0m\u001b[0;34m.\u001b[0m\u001b[0msupports_chunked_reads\u001b[0m\u001b[0;34m(\u001b[0m\u001b[0;34m)\u001b[0m\u001b[0;34m:\u001b[0m\u001b[0;34m\u001b[0m\u001b[0;34m\u001b[0m\u001b[0m\n\u001b[0;32m--> 572\u001b[0;31m             \u001b[0;32mfor\u001b[0m \u001b[0mline\u001b[0m \u001b[0;32min\u001b[0m \u001b[0mself\u001b[0m\u001b[0;34m.\u001b[0m\u001b[0mread_chunked\u001b[0m\u001b[0;34m(\u001b[0m\u001b[0mamt\u001b[0m\u001b[0;34m,\u001b[0m \u001b[0mdecode_content\u001b[0m\u001b[0;34m=\u001b[0m\u001b[0mdecode_content\u001b[0m\u001b[0;34m)\u001b[0m\u001b[0;34m:\u001b[0m\u001b[0;34m\u001b[0m\u001b[0;34m\u001b[0m\u001b[0m\n\u001b[0m\u001b[1;32m    573\u001b[0m                 \u001b[0;32myield\u001b[0m \u001b[0mline\u001b[0m\u001b[0;34m\u001b[0m\u001b[0;34m\u001b[0m\u001b[0m\n\u001b[1;32m    574\u001b[0m         \u001b[0;32melse\u001b[0m\u001b[0;34m:\u001b[0m\u001b[0;34m\u001b[0m\u001b[0;34m\u001b[0m\u001b[0m\n",
      "\u001b[0;32m~/miniconda3/envs/AutoWS-Bench-101/lib/python3.7/site-packages/urllib3/response.py\u001b[0m in \u001b[0;36mread_chunked\u001b[0;34m(self, amt, decode_content)\u001b[0m\n\u001b[1;32m    762\u001b[0m \u001b[0;34m\u001b[0m\u001b[0m\n\u001b[1;32m    763\u001b[0m             \u001b[0;32mwhile\u001b[0m \u001b[0;32mTrue\u001b[0m\u001b[0;34m:\u001b[0m\u001b[0;34m\u001b[0m\u001b[0;34m\u001b[0m\u001b[0m\n\u001b[0;32m--> 764\u001b[0;31m                 \u001b[0mself\u001b[0m\u001b[0;34m.\u001b[0m\u001b[0m_update_chunk_length\u001b[0m\u001b[0;34m(\u001b[0m\u001b[0;34m)\u001b[0m\u001b[0;34m\u001b[0m\u001b[0;34m\u001b[0m\u001b[0m\n\u001b[0m\u001b[1;32m    765\u001b[0m                 \u001b[0;32mif\u001b[0m \u001b[0mself\u001b[0m\u001b[0;34m.\u001b[0m\u001b[0mchunk_left\u001b[0m \u001b[0;34m==\u001b[0m \u001b[0;36m0\u001b[0m\u001b[0;34m:\u001b[0m\u001b[0;34m\u001b[0m\u001b[0;34m\u001b[0m\u001b[0m\n\u001b[1;32m    766\u001b[0m                     \u001b[0;32mbreak\u001b[0m\u001b[0;34m\u001b[0m\u001b[0;34m\u001b[0m\u001b[0m\n",
      "\u001b[0;32m~/miniconda3/envs/AutoWS-Bench-101/lib/python3.7/site-packages/urllib3/response.py\u001b[0m in \u001b[0;36m_update_chunk_length\u001b[0;34m(self)\u001b[0m\n\u001b[1;32m    692\u001b[0m         \u001b[0;32mif\u001b[0m \u001b[0mself\u001b[0m\u001b[0;34m.\u001b[0m\u001b[0mchunk_left\u001b[0m \u001b[0;32mis\u001b[0m \u001b[0;32mnot\u001b[0m \u001b[0;32mNone\u001b[0m\u001b[0;34m:\u001b[0m\u001b[0;34m\u001b[0m\u001b[0;34m\u001b[0m\u001b[0m\n\u001b[1;32m    693\u001b[0m             \u001b[0;32mreturn\u001b[0m\u001b[0;34m\u001b[0m\u001b[0;34m\u001b[0m\u001b[0m\n\u001b[0;32m--> 694\u001b[0;31m         \u001b[0mline\u001b[0m \u001b[0;34m=\u001b[0m \u001b[0mself\u001b[0m\u001b[0;34m.\u001b[0m\u001b[0m_fp\u001b[0m\u001b[0;34m.\u001b[0m\u001b[0mfp\u001b[0m\u001b[0;34m.\u001b[0m\u001b[0mreadline\u001b[0m\u001b[0;34m(\u001b[0m\u001b[0;34m)\u001b[0m\u001b[0;34m\u001b[0m\u001b[0;34m\u001b[0m\u001b[0m\n\u001b[0m\u001b[1;32m    695\u001b[0m         \u001b[0mline\u001b[0m \u001b[0;34m=\u001b[0m \u001b[0mline\u001b[0m\u001b[0;34m.\u001b[0m\u001b[0msplit\u001b[0m\u001b[0;34m(\u001b[0m\u001b[0;34mb\";\"\u001b[0m\u001b[0;34m,\u001b[0m \u001b[0;36m1\u001b[0m\u001b[0;34m)\u001b[0m\u001b[0;34m[\u001b[0m\u001b[0;36m0\u001b[0m\u001b[0;34m]\u001b[0m\u001b[0;34m\u001b[0m\u001b[0;34m\u001b[0m\u001b[0m\n\u001b[1;32m    696\u001b[0m         \u001b[0;32mtry\u001b[0m\u001b[0;34m:\u001b[0m\u001b[0;34m\u001b[0m\u001b[0;34m\u001b[0m\u001b[0m\n",
      "\u001b[0;32m~/miniconda3/envs/AutoWS-Bench-101/lib/python3.7/socket.py\u001b[0m in \u001b[0;36mreadinto\u001b[0;34m(self, b)\u001b[0m\n\u001b[1;32m    587\u001b[0m         \u001b[0;32mwhile\u001b[0m \u001b[0;32mTrue\u001b[0m\u001b[0;34m:\u001b[0m\u001b[0;34m\u001b[0m\u001b[0;34m\u001b[0m\u001b[0m\n\u001b[1;32m    588\u001b[0m             \u001b[0;32mtry\u001b[0m\u001b[0;34m:\u001b[0m\u001b[0;34m\u001b[0m\u001b[0;34m\u001b[0m\u001b[0m\n\u001b[0;32m--> 589\u001b[0;31m                 \u001b[0;32mreturn\u001b[0m \u001b[0mself\u001b[0m\u001b[0;34m.\u001b[0m\u001b[0m_sock\u001b[0m\u001b[0;34m.\u001b[0m\u001b[0mrecv_into\u001b[0m\u001b[0;34m(\u001b[0m\u001b[0mb\u001b[0m\u001b[0;34m)\u001b[0m\u001b[0;34m\u001b[0m\u001b[0;34m\u001b[0m\u001b[0m\n\u001b[0m\u001b[1;32m    590\u001b[0m             \u001b[0;32mexcept\u001b[0m \u001b[0mtimeout\u001b[0m\u001b[0;34m:\u001b[0m\u001b[0;34m\u001b[0m\u001b[0;34m\u001b[0m\u001b[0m\n\u001b[1;32m    591\u001b[0m                 \u001b[0mself\u001b[0m\u001b[0;34m.\u001b[0m\u001b[0m_timeout_occurred\u001b[0m \u001b[0;34m=\u001b[0m \u001b[0;32mTrue\u001b[0m\u001b[0;34m\u001b[0m\u001b[0;34m\u001b[0m\u001b[0m\n",
      "\u001b[0;32m~/miniconda3/envs/AutoWS-Bench-101/lib/python3.7/ssl.py\u001b[0m in \u001b[0;36mrecv_into\u001b[0;34m(self, buffer, nbytes, flags)\u001b[0m\n\u001b[1;32m   1069\u001b[0m                   \u001b[0;34m\"non-zero flags not allowed in calls to recv_into() on %s\"\u001b[0m \u001b[0;34m%\u001b[0m\u001b[0;34m\u001b[0m\u001b[0;34m\u001b[0m\u001b[0m\n\u001b[1;32m   1070\u001b[0m                   self.__class__)\n\u001b[0;32m-> 1071\u001b[0;31m             \u001b[0;32mreturn\u001b[0m \u001b[0mself\u001b[0m\u001b[0;34m.\u001b[0m\u001b[0mread\u001b[0m\u001b[0;34m(\u001b[0m\u001b[0mnbytes\u001b[0m\u001b[0;34m,\u001b[0m \u001b[0mbuffer\u001b[0m\u001b[0;34m)\u001b[0m\u001b[0;34m\u001b[0m\u001b[0;34m\u001b[0m\u001b[0m\n\u001b[0m\u001b[1;32m   1072\u001b[0m         \u001b[0;32melse\u001b[0m\u001b[0;34m:\u001b[0m\u001b[0;34m\u001b[0m\u001b[0;34m\u001b[0m\u001b[0m\n\u001b[1;32m   1073\u001b[0m             \u001b[0;32mreturn\u001b[0m \u001b[0msuper\u001b[0m\u001b[0;34m(\u001b[0m\u001b[0;34m)\u001b[0m\u001b[0;34m.\u001b[0m\u001b[0mrecv_into\u001b[0m\u001b[0;34m(\u001b[0m\u001b[0mbuffer\u001b[0m\u001b[0;34m,\u001b[0m \u001b[0mnbytes\u001b[0m\u001b[0;34m,\u001b[0m \u001b[0mflags\u001b[0m\u001b[0;34m)\u001b[0m\u001b[0;34m\u001b[0m\u001b[0;34m\u001b[0m\u001b[0m\n",
      "\u001b[0;32m~/miniconda3/envs/AutoWS-Bench-101/lib/python3.7/ssl.py\u001b[0m in \u001b[0;36mread\u001b[0;34m(self, len, buffer)\u001b[0m\n\u001b[1;32m    927\u001b[0m         \u001b[0;32mtry\u001b[0m\u001b[0;34m:\u001b[0m\u001b[0;34m\u001b[0m\u001b[0;34m\u001b[0m\u001b[0m\n\u001b[1;32m    928\u001b[0m             \u001b[0;32mif\u001b[0m \u001b[0mbuffer\u001b[0m \u001b[0;32mis\u001b[0m \u001b[0;32mnot\u001b[0m \u001b[0;32mNone\u001b[0m\u001b[0;34m:\u001b[0m\u001b[0;34m\u001b[0m\u001b[0;34m\u001b[0m\u001b[0m\n\u001b[0;32m--> 929\u001b[0;31m                 \u001b[0;32mreturn\u001b[0m \u001b[0mself\u001b[0m\u001b[0;34m.\u001b[0m\u001b[0m_sslobj\u001b[0m\u001b[0;34m.\u001b[0m\u001b[0mread\u001b[0m\u001b[0;34m(\u001b[0m\u001b[0mlen\u001b[0m\u001b[0;34m,\u001b[0m \u001b[0mbuffer\u001b[0m\u001b[0;34m)\u001b[0m\u001b[0;34m\u001b[0m\u001b[0;34m\u001b[0m\u001b[0m\n\u001b[0m\u001b[1;32m    930\u001b[0m             \u001b[0;32melse\u001b[0m\u001b[0;34m:\u001b[0m\u001b[0;34m\u001b[0m\u001b[0;34m\u001b[0m\u001b[0m\n\u001b[1;32m    931\u001b[0m                 \u001b[0;32mreturn\u001b[0m \u001b[0mself\u001b[0m\u001b[0;34m.\u001b[0m\u001b[0m_sslobj\u001b[0m\u001b[0;34m.\u001b[0m\u001b[0mread\u001b[0m\u001b[0;34m(\u001b[0m\u001b[0mlen\u001b[0m\u001b[0;34m)\u001b[0m\u001b[0;34m\u001b[0m\u001b[0;34m\u001b[0m\u001b[0m\n",
      "\u001b[0;31mKeyboardInterrupt\u001b[0m: "
     ]
    }
   ],
   "source": [
    "# translate all the data\n",
    "cn_en_test = li.translate_df_to_english(cn_test_df, 'zh-CN')\n",
    "new_test = li.df_to_df_with_new_lf(cn_test_df, cn_en_test, lfs)\n",
    "massive = li.df_to_massive(new_test)\n",
    "li.save_dataset(massive,  \"../weak_datasets/massive-CN2/test.json\")"
   ]
  },
  {
   "cell_type": "code",
   "execution_count": 8,
   "metadata": {},
   "outputs": [
    {
     "name": "stderr",
     "output_type": "stream",
     "text": [
      "Translating: 100%|██████████| 1652/1652 [00:03<00:00, 450.75it/s]\n"
     ]
    },
    {
     "ename": "NameError",
     "evalue": "name 'lfs' is not defined",
     "output_type": "error",
     "traceback": [
      "\u001b[0;31m---------------------------------------------------------------------------\u001b[0m",
      "\u001b[0;31mNameError\u001b[0m                                 Traceback (most recent call last)",
      "\u001b[0;32m/tmp/ipykernel_75351/1256251065.py\u001b[0m in \u001b[0;36m<module>\u001b[0;34m\u001b[0m\n\u001b[1;32m      3\u001b[0m \u001b[0;31m# translate all the data\u001b[0m\u001b[0;34m\u001b[0m\u001b[0;34m\u001b[0m\u001b[0;34m\u001b[0m\u001b[0m\n\u001b[1;32m      4\u001b[0m \u001b[0mcn_en_test\u001b[0m \u001b[0;34m=\u001b[0m \u001b[0mli\u001b[0m\u001b[0;34m.\u001b[0m\u001b[0mdeep_translate_df_to_english\u001b[0m\u001b[0;34m(\u001b[0m\u001b[0mcn_test_df\u001b[0m\u001b[0;34m,\u001b[0m \u001b[0mauth_key\u001b[0m\u001b[0;34m,\u001b[0m \u001b[0;34m'ZH'\u001b[0m\u001b[0;34m)\u001b[0m\u001b[0;34m\u001b[0m\u001b[0;34m\u001b[0m\u001b[0m\n\u001b[0;32m----> 5\u001b[0;31m \u001b[0mnew_test\u001b[0m \u001b[0;34m=\u001b[0m \u001b[0mli\u001b[0m\u001b[0;34m.\u001b[0m\u001b[0mmassive_df_with_new_lf\u001b[0m\u001b[0;34m(\u001b[0m\u001b[0mcn_test_df\u001b[0m\u001b[0;34m,\u001b[0m \u001b[0mlfs\u001b[0m\u001b[0;34m)\u001b[0m\u001b[0;34m\u001b[0m\u001b[0;34m\u001b[0m\u001b[0m\n\u001b[0m\u001b[1;32m      6\u001b[0m \u001b[0mmassive\u001b[0m \u001b[0;34m=\u001b[0m \u001b[0mli\u001b[0m\u001b[0;34m.\u001b[0m\u001b[0mdf_to_massive\u001b[0m\u001b[0;34m(\u001b[0m\u001b[0mnew_test\u001b[0m\u001b[0;34m)\u001b[0m\u001b[0;34m\u001b[0m\u001b[0;34m\u001b[0m\u001b[0m\n\u001b[1;32m      7\u001b[0m \u001b[0mli\u001b[0m\u001b[0;34m.\u001b[0m\u001b[0msave_dataset\u001b[0m\u001b[0;34m(\u001b[0m\u001b[0mmassive\u001b[0m\u001b[0;34m,\u001b[0m \u001b[0;34m\"../weak_datasets/temp/translate_cn/test.json\"\u001b[0m\u001b[0;34m)\u001b[0m\u001b[0;34m\u001b[0m\u001b[0;34m\u001b[0m\u001b[0m\n",
      "\u001b[0;31mNameError\u001b[0m: name 'lfs' is not defined"
     ]
    }
   ],
   "source": [
    "# Example usage\n",
    "auth_key = \"8648c5d9-09cf-4d89-83d5-bde6ebbc5f5e:fx\"\n",
    "# translate all the data\n",
    "cn_en_test = li.deep_translate_df_to_english(cn_test_df, auth_key, 'ZH')\n",
    "new_test = li.massive_df_with_new_lf(cn_test_df, lfs)\n",
    "massive = li.df_to_massive(new_test)\n",
    "li.save_dataset(massive, \"../weak_datasets/temp/translate_cn/test.json\")"
   ]
  },
  {
   "cell_type": "code",
   "execution_count": 11,
   "metadata": {},
   "outputs": [
    {
     "name": "stderr",
     "output_type": "stream",
     "text": [
      "  0%|          | 0/1652 [00:00<?, ?it/s]"
     ]
    },
    {
     "name": "stderr",
     "output_type": "stream",
     "text": [
      "100%|██████████| 1652/1652 [00:00<00:00, 3630.24it/s]\n"
     ]
    }
   ],
   "source": [
    "new_test = li.massive_df_with_new_lf(cn_en_test, lfs)\n",
    "massive = li.df_to_massive(new_test)\n",
    "li.save_dataset(massive, \"../weak_datasets/temp/translate_cn/test.json\")"
   ]
  },
  {
   "cell_type": "code",
   "execution_count": 22,
   "metadata": {},
   "outputs": [
    {
     "data": {
      "text/html": [
       "<div>\n",
       "<style scoped>\n",
       "    .dataframe tbody tr th:only-of-type {\n",
       "        vertical-align: middle;\n",
       "    }\n",
       "\n",
       "    .dataframe tbody tr th {\n",
       "        vertical-align: top;\n",
       "    }\n",
       "\n",
       "    .dataframe thead th {\n",
       "        text-align: right;\n",
       "    }\n",
       "</style>\n",
       "<table border=\"1\" class=\"dataframe\">\n",
       "  <thead>\n",
       "    <tr style=\"text-align: right;\">\n",
       "      <th></th>\n",
       "      <th>text</th>\n",
       "      <th>label</th>\n",
       "      <th>weak_labels</th>\n",
       "    </tr>\n",
       "  </thead>\n",
       "  <tbody>\n",
       "    <tr>\n",
       "      <th>0</th>\n",
       "      <td>Can you turn on the light?</td>\n",
       "      <td>2</td>\n",
       "      <td>[-1, -1, -1, -1, -1, -1, -1, -1, -1, -1, -1, -...</td>\n",
       "    </tr>\n",
       "    <tr>\n",
       "      <th>1</th>\n",
       "      <td>Personal digital assistant What does it mean</td>\n",
       "      <td>11</td>\n",
       "      <td>[-1, -1, -1, -1, -1, -1, -1, -1, -1, -1, -1, -...</td>\n",
       "    </tr>\n",
       "    <tr>\n",
       "      <th>2</th>\n",
       "      <td>How much worse than 8 pm</td>\n",
       "      <td>6</td>\n",
       "      <td>[-1, -1, -1, -1, -1, -1, -1, -1, -1, -1, -1, -...</td>\n",
       "    </tr>\n",
       "    <tr>\n",
       "      <th>3</th>\n",
       "      <td>Have I received an email with a tracking number?</td>\n",
       "      <td>16</td>\n",
       "      <td>[-1, -1, -1, -1, -1, -1, -1, -1, -1, -1, -1, -...</td>\n",
       "    </tr>\n",
       "    <tr>\n",
       "      <th>4</th>\n",
       "      <td>What did my mother say 30 minutes ago?</td>\n",
       "      <td>16</td>\n",
       "      <td>[-1, -1, -1, -1, -1, -1, -1, -1, -1, -1, -1, -...</td>\n",
       "    </tr>\n",
       "  </tbody>\n",
       "</table>\n",
       "</div>"
      ],
      "text/plain": [
       "                                               text  label  \\\n",
       "0                        Can you turn on the light?      2   \n",
       "1      Personal digital assistant What does it mean     11   \n",
       "2                          How much worse than 8 pm      6   \n",
       "3  Have I received an email with a tracking number?     16   \n",
       "4            What did my mother say 30 minutes ago?     16   \n",
       "\n",
       "                                         weak_labels  \n",
       "0  [-1, -1, -1, -1, -1, -1, -1, -1, -1, -1, -1, -...  \n",
       "1  [-1, -1, -1, -1, -1, -1, -1, -1, -1, -1, -1, -...  \n",
       "2  [-1, -1, -1, -1, -1, -1, -1, -1, -1, -1, -1, -...  \n",
       "3  [-1, -1, -1, -1, -1, -1, -1, -1, -1, -1, -1, -...  \n",
       "4  [-1, -1, -1, -1, -1, -1, -1, -1, -1, -1, -1, -...  "
      ]
     },
     "execution_count": 22,
     "metadata": {},
     "output_type": "execute_result"
    }
   ],
   "source": [
    "cn_en_test.head()\n"
   ]
  },
  {
   "cell_type": "code",
   "execution_count": 27,
   "metadata": {},
   "outputs": [
    {
     "name": "stderr",
     "output_type": "stream",
     "text": [
      "Translating:   0%|          | 0/133 [00:00<?, ?it/s]"
     ]
    },
    {
     "name": "stderr",
     "output_type": "stream",
     "text": [
      "Translating: 100%|██████████| 133/133 [58:04<00:00, 26.20s/it]\n",
      "100%|██████████| 3305/3305 [00:00<00:00, 3464.07it/s]\n"
     ]
    }
   ],
   "source": [
    "# translate all the data\n",
    "cn_en_valid = li.translate_df_to_english(cn_valid_df, 'zh-CN')\n",
    "new_valid = li.df_to_df_with_new_lf(cn_valid_df, cn_en_valid, lfs)\n",
    "massive = li.df_to_massive(new_valid)\n",
    "li.save_dataset(massive,  \"../weak_datasets/massive-CN2/valid.json\")"
   ]
  },
  {
   "cell_type": "code",
   "execution_count": 32,
   "metadata": {},
   "outputs": [
    {
     "name": "stderr",
     "output_type": "stream",
     "text": [
      "Translating:   0%|          | 0/11564 [00:00<?, ?it/s]"
     ]
    },
    {
     "name": "stderr",
     "output_type": "stream",
     "text": [
      "Translating: 100%|██████████| 11564/11564 [00:20<00:00, 557.32it/s]\n",
      "100%|██████████| 11564/11564 [00:03<00:00, 3439.00it/s]\n"
     ]
    }
   ],
   "source": [
    "# Example usage\n",
    "auth_key = \"\"\n",
    "# translate all the data\n",
    "cn_en_train = li.deep_translate_df_to_english(cn_train_df, auth_key, 'ZH')\n",
    "new_train = li.df_to_df_with_new_lf(cn_train_df, cn_en_train, lfs)\n",
    "massive = li.df_to_massive(new_train)\n",
    "li.save_dataset(massive,  \"../weak_datasets/massive-CN2/train.json\")"
   ]
  },
  {
   "cell_type": "code",
   "execution_count": 34,
   "metadata": {},
   "outputs": [],
   "source": [
    "\n",
    "massive = li.df_to_massive(cn_en_train)\n",
    "li.save_dataset(massive,  \"./translated_train.json\")"
   ]
  },
  {
   "cell_type": "code",
   "execution_count": 35,
   "metadata": {},
   "outputs": [
    {
     "name": "stderr",
     "output_type": "stream",
     "text": [
      "  0%|          | 0/11564 [00:00<?, ?it/s]"
     ]
    },
    {
     "name": "stderr",
     "output_type": "stream",
     "text": [
      "100%|██████████| 11564/11564 [00:03<00:00, 3666.90it/s]\n"
     ]
    }
   ],
   "source": [
    "cn_en_train.head(19)\n",
    "new_train = li.massive_df_with_new_lf(cn_en_train, lfs)\n",
    "massive = li.df_to_massive(new_train)\n",
    "li.save_dataset(massive,  \"./translated_train.json\")\n"
   ]
  },
  {
   "cell_type": "code",
   "execution_count": 36,
   "metadata": {},
   "outputs": [
    {
     "name": "stderr",
     "output_type": "stream",
     "text": [
      "100%|██████████| 11564/11564 [00:03<00:00, 3693.72it/s]\n"
     ]
    },
    {
     "name": "stdout",
     "output_type": "stream",
     "text": [
      "Test Coverage: 0.562953995157385\n",
      "acuracy for the not abstains\n",
      "0.36666097935505887\n",
      "acuracy for all\n",
      "0.18583535108958837\n"
     ]
    }
   ],
   "source": [
    "lf_analysis = li.analysis_LFs(lfs, new_train, 18)"
   ]
  },
  {
   "cell_type": "code",
   "execution_count": 40,
   "metadata": {},
   "outputs": [
    {
     "name": "stdout",
     "output_type": "stream",
     "text": [
      "Test Coverage: 0.562953995157385\n",
      "acuracy for the not abstains\n",
      "0.36666097935505887\n",
      "acuracy for all\n",
      "0.18583535108958837\n"
     ]
    }
   ],
   "source": [
    "lf_analysis = li.analysis_LFs_with_weak_labels(new_train, 18)"
   ]
  },
  {
   "cell_type": "code",
   "execution_count": 42,
   "metadata": {},
   "outputs": [],
   "source": [
    "cn_train = li.massive_to_df(json.load(open(f\"../weak_datasets/massive-CN/train.json\", \"r\")))"
   ]
  },
  {
   "cell_type": "code",
   "execution_count": 43,
   "metadata": {},
   "outputs": [
    {
     "name": "stdout",
     "output_type": "stream",
     "text": [
      "Test Coverage: 0.6162227602905569\n",
      "acuracy for the not abstains\n",
      "0.901840490797546\n",
      "acuracy for all\n",
      "0.4957627118644068\n"
     ]
    }
   ],
   "source": [
    "lf_analysis = li.analysis_LFs_with_weak_labels(cn_train, 18)"
   ]
  },
  {
   "cell_type": "markdown",
   "metadata": {},
   "source": [
    "## Norwegian setup "
   ]
  },
  {
   "cell_type": "code",
   "execution_count": 12,
   "metadata": {},
   "outputs": [],
   "source": [
    "dataset_name = \"massive-nb\"\n",
    "\n",
    "idx_to_label = json.load(open(f\"../weak_datasets/{dataset_name}/label.json\"))\n",
    "label_to_idx = {l:i for i,l in idx_to_label.items()}\n",
    "\n",
    "nb_valid_df = li.massive_to_df(json.load(open(f\"../weak_datasets/{dataset_name}/valid.json\", \"r\")))\n",
    "nb_train_df = li.massive_to_df(json.load(open(f\"../weak_datasets/{dataset_name}/train.json\", \"r\")))\n",
    "nb_test_df = li.massive_to_df(json.load(open(f\"../weak_datasets/{dataset_name}/test.json\", \"r\")))"
   ]
  },
  {
   "cell_type": "code",
   "execution_count": 56,
   "metadata": {},
   "outputs": [
    {
     "name": "stderr",
     "output_type": "stream",
     "text": [
      "100%|██████████| 1652/1652 [00:00<00:00, 3692.78it/s]\n",
      "100%|██████████| 11564/11564 [00:03<00:00, 3653.92it/s]\n",
      "100%|██████████| 3305/3305 [00:00<00:00, 3697.77it/s]\n"
     ]
    }
   ],
   "source": [
    "new_test = li.df_to_df_with_new_lf(nb_test_df, test_df, lfs)\n",
    "new_train = li.df_to_df_with_new_lf(nb_train_df, train_df, lfs)\n",
    "new_valid = li.df_to_df_with_new_lf(nb_valid_df, valid_df, lfs)"
   ]
  },
  {
   "cell_type": "code",
   "execution_count": 57,
   "metadata": {},
   "outputs": [],
   "source": [
    "massive = li.df_to_massive(new_train)\n",
    "li.save_dataset(massive,  \"../weak_datasets/massive-NB/train.json\")\n",
    "massive = li.df_to_massive(new_valid)\n",
    "li.save_dataset(massive,  \"../weak_datasets/massive-NB/valid.json\")\n",
    "massive = li.df_to_massive(new_test)\n",
    "li.save_dataset(massive,  \"../weak_datasets/massive-NB/test.json\")"
   ]
  },
  {
   "cell_type": "code",
   "execution_count": 58,
   "metadata": {},
   "outputs": [
    {
     "name": "stdout",
     "output_type": "stream",
     "text": [
      "Test Coverage: 0.6162227602905569\n",
      "acuracy for the not abstains\n",
      "0.901840490797546\n",
      "acuracy for all\n",
      "0.4957627118644068\n",
      "Test Coverage: 0.6084720121028744\n",
      "acuracy for the not abstains\n",
      "0.9073972602739726\n",
      "acuracy for all\n",
      "0.5010590015128593\n",
      "Test Coverage: 0.610774818401937\n",
      "acuracy for the not abstains\n",
      "0.9107929515418502\n",
      "acuracy for all\n",
      "0.5006053268765133\n"
     ]
    }
   ],
   "source": [
    "li.analysis_LFs_with_weak_labels(new_train, 18)\n",
    "li.analysis_LFs_with_weak_labels(new_valid, 18)\n",
    "li.analysis_LFs_with_weak_labels(new_test, 18)"
   ]
  },
  {
   "cell_type": "code",
   "execution_count": 59,
   "metadata": {},
   "outputs": [
    {
     "name": "stderr",
     "output_type": "stream",
     "text": [
      "Translating: 100%|██████████| 1652/1652 [00:05<00:00, 288.46it/s]\n",
      "100%|██████████| 1652/1652 [00:00<00:00, 3662.25it/s]\n"
     ]
    }
   ],
   "source": [
    "# Example usage\n",
    "auth_key = \"82b8da97-a9d0-474e-9002-bb9d776d7c9c:fx\"\n",
    "# translate all the data\n",
    "nb_en_test = li.deep_translate_df_to_english(nb_test_df, auth_key, 'NB')\n",
    "new_test = li.df_to_df_with_new_lf(nb_test_df, nb_en_test, lfs)\n",
    "massive = li.df_to_massive(new_test)\n",
    "li.save_dataset(massive,  \"../weak_datasets/massive-NB2/test.json\")"
   ]
  },
  {
   "cell_type": "code",
   "execution_count": 61,
   "metadata": {},
   "outputs": [
    {
     "name": "stdout",
     "output_type": "stream",
     "text": [
      "Test Coverage: 0.5901937046004843\n",
      "acuracy for the not abstains\n",
      "0.3691275167785235\n",
      "acuracy for all\n",
      "0.19975786924939468\n"
     ]
    }
   ],
   "source": [
    "lf_analysis = li.analysis_LFs_with_weak_labels(new_test, 18)"
   ]
  },
  {
   "cell_type": "code",
   "execution_count": 63,
   "metadata": {},
   "outputs": [
    {
     "name": "stderr",
     "output_type": "stream",
     "text": [
      "Translating:   0%|          | 0/11564 [00:00<?, ?it/s]"
     ]
    },
    {
     "name": "stderr",
     "output_type": "stream",
     "text": [
      "Translating: 100%|██████████| 11564/11564 [00:29<00:00, 398.34it/s]\n",
      "100%|██████████| 11564/11564 [00:03<00:00, 3627.39it/s]\n"
     ]
    }
   ],
   "source": [
    "# Example usage\n",
    "auth_key = \"8e406fcb-2e39-41a9-8c7e-05668042bf46:fx\"\n",
    "# translate all the data\n",
    "nb_en_train = li.deep_translate_df_to_english(nb_train_df, auth_key, 'NB')\n",
    "new_train = li.df_to_df_with_new_lf(nb_train_df, nb_en_train, lfs)\n",
    "massive = li.df_to_massive(new_train)\n",
    "li.save_dataset(massive,  \"../weak_datasets/massive-NB2/train.json\")"
   ]
  },
  {
   "cell_type": "code",
   "execution_count": 64,
   "metadata": {},
   "outputs": [
    {
     "name": "stdout",
     "output_type": "stream",
     "text": [
      "Test Coverage: 0.5915773088896575\n",
      "acuracy for the not abstains\n",
      "0.35142118863049093\n",
      "acuracy for all\n",
      "0.18817018332756832\n"
     ]
    }
   ],
   "source": [
    "lf_analysis = li.analysis_LFs_with_weak_labels(new_train, 18)"
   ]
  },
  {
   "cell_type": "code",
   "execution_count": 66,
   "metadata": {},
   "outputs": [
    {
     "name": "stderr",
     "output_type": "stream",
     "text": [
      "Translating:   0%|          | 0/3305 [00:00<?, ?it/s]"
     ]
    },
    {
     "name": "stderr",
     "output_type": "stream",
     "text": [
      "Translating: 100%|██████████| 3305/3305 [00:10<00:00, 328.98it/s]\n",
      "100%|██████████| 3305/3305 [00:00<00:00, 3667.86it/s]\n"
     ]
    }
   ],
   "source": [
    "# Example usage\n",
    "auth_key = \"\"\n",
    "# translate all the data\n",
    "nb_en_valid = li.deep_translate_df_to_english(nb_valid_df, auth_key, 'NB')\n",
    "new_valid = li.df_to_df_with_new_lf(nb_valid_df, nb_en_valid, lfs)\n",
    "massive = li.df_to_massive(new_valid)\n",
    "li.save_dataset(massive,  \"../weak_datasets/massive-NB2/valid.json\")"
   ]
  },
  {
   "cell_type": "code",
   "execution_count": 67,
   "metadata": {},
   "outputs": [
    {
     "name": "stdout",
     "output_type": "stream",
     "text": [
      "Test Coverage: 0.5897125567322239\n",
      "acuracy for the not abstains\n",
      "0.40404040404040403\n",
      "acuracy for all\n",
      "0.2178517397881997\n"
     ]
    }
   ],
   "source": [
    "lf_analysis = li.analysis_LFs_with_weak_labels(new_valid, 18)"
   ]
  },
  {
   "cell_type": "code",
   "execution_count": 68,
   "metadata": {},
   "outputs": [
    {
     "name": "stderr",
     "output_type": "stream",
     "text": [
      "100%|██████████| 11564/11564 [00:03<00:00, 3632.39it/s]\n"
     ]
    }
   ],
   "source": [
    "new_train = li.massive_df_with_new_lf(nb_en_train, lfs)\n",
    "massive = li.df_to_massive(new_train)\n",
    "li.save_dataset(massive,  \"../weak_datasets/temp/translate_nb/train.json\")"
   ]
  },
  {
   "cell_type": "code",
   "execution_count": 69,
   "metadata": {},
   "outputs": [
    {
     "name": "stderr",
     "output_type": "stream",
     "text": [
      "100%|██████████| 1652/1652 [00:00<00:00, 3712.34it/s]\n"
     ]
    }
   ],
   "source": [
    "new_test = li.massive_df_with_new_lf(nb_en_test, lfs)\n",
    "massive = li.df_to_massive(new_test)\n",
    "li.save_dataset(massive,  \"../weak_datasets/temp/translate_nb/test.json\")"
   ]
  },
  {
   "cell_type": "code",
   "execution_count": 70,
   "metadata": {},
   "outputs": [
    {
     "name": "stderr",
     "output_type": "stream",
     "text": [
      "100%|██████████| 3305/3305 [00:00<00:00, 3710.79it/s]\n"
     ]
    }
   ],
   "source": [
    "new_valid = li.massive_df_with_new_lf(nb_en_valid, lfs)\n",
    "massive = li.df_to_massive(new_valid)\n",
    "li.save_dataset(massive,  \"../weak_datasets/temp/translate_nb/valid.json\")"
   ]
  }
 ],
 "metadata": {
  "kernelspec": {
   "display_name": "AutoWS-Bench-101",
   "language": "python",
   "name": "python3"
  },
  "language_info": {
   "codemirror_mode": {
    "name": "ipython",
    "version": 3
   },
   "file_extension": ".py",
   "mimetype": "text/x-python",
   "name": "python",
   "nbconvert_exporter": "python",
   "pygments_lexer": "ipython3",
   "version": "3.7.11"
  }
 },
 "nbformat": 4,
 "nbformat_minor": 2
}
