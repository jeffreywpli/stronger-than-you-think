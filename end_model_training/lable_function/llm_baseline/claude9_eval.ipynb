{
 "cells": [
  {
   "cell_type": "code",
   "execution_count": 2,
   "metadata": {},
   "outputs": [],
   "source": [
    "import numpy as np\n",
    "import re\n",
    "import json\n",
    "import pandas as pd\n",
    "import warnings\n",
    "import csv\n",
    "warnings.simplefilter(action='ignore', category=FutureWarning)"
   ]
  },
  {
   "cell_type": "code",
   "execution_count": 3,
   "metadata": {},
   "outputs": [],
   "source": [
    "%load_ext autoreload\n",
    "%autoreload 2\n",
    "import label_improve as li"
   ]
  },
  {
   "cell_type": "code",
   "execution_count": 4,
   "metadata": {},
   "outputs": [],
   "source": [
    "# Loading the data \n",
    "dataset_name = \"claude9\"\n",
    "idx_to_label = json.load(open(f\"label.json\"))\n",
    "label_to_idx = {l:i for i,l in idx_to_label.items()}\n",
    "test_df = li.data_to_df(json.load(open(f\"test.json\", \"r\")))"
   ]
  },
  {
   "cell_type": "code",
   "execution_count": 5,
   "metadata": {},
   "outputs": [],
   "source": [
    "test_df = test_df.sample(250, random_state=205)\n",
    "eval_df = test_df.drop(columns=[ 'label', 'weak_labels'])"
   ]
  },
  {
   "cell_type": "code",
   "execution_count": 7,
   "metadata": {},
   "outputs": [],
   "source": [
    "eval_df.to_csv('./claude9_eval.csv')"
   ]
  },
  {
   "cell_type": "code",
   "execution_count": 19,
   "metadata": {},
   "outputs": [],
   "source": [
    "from openai import OpenAI\n",
    "import os\n",
    "import sys\n",
    "\n",
    "API_KEY = ''\n",
    "\n",
    "\n",
    "model_id = 'gpt-4o-2024-08-06' # replace with your model ID\n",
    "\n",
    "os.environ[\"OPENAI_API_KEY\"] = API_KEY\n",
    "\n",
    "client = OpenAI(\n",
    "    api_key=os.environ.get(\"OPENAI_API_KEY\"),\n",
    ")"
   ]
  },
  {
   "cell_type": "code",
   "execution_count": 20,
   "metadata": {},
   "outputs": [],
   "source": [
    "import openai\n",
    "import pandas as pd\n",
    "\n",
    "df = pd.read_csv('claude9_eval.csv')\n",
    "\n",
    "\n",
    "categories = {\n",
    "    \"0\": \"Limitation of liability\",\n",
    "    \"1\": \"Unilateral termination\",\n",
    "    \"2\": \"Unilateral change\",\n",
    "    \"3\": \"Content removal\",\n",
    "    \"4\": \"Contract by using\",\n",
    "    \"5\": \"Choice of law\",\n",
    "    \"6\": \"Jurisdiction\",\n",
    "    \"7\": \"Arbitration\",\n",
    "    \"8\": \"Other\"\n",
    "}\n",
    "\n",
    "# Function to classify text\n",
    "def classify_text(text):\n",
    "    response = client.chat.completions.create(\n",
    "        model=model_id,\n",
    "        messages=[\n",
    "            {\"role\": \"system\", \"content\": \"You are an expert in legal document classification.\"},\n",
    "            {\"role\": \"user\", \"content\": f\"Classify the following text into one of the categories: {categories}. Text: {text}\"}\n",
    "        ]\n",
    "    )\n",
    "    classification = response.choices[0].message.content\n",
    "    return classification.strip()\n",
    "\n",
    "\n",
    "\n",
    "# Apply the function to each line of text\n",
    "df['Classification'] = df['text'].apply(classify_text)\n",
    "\n",
    "# Save the results to a new CSV file\n",
    "df.to_csv('classified_file.csv', index=False)\n"
   ]
  },
  {
   "cell_type": "code",
   "execution_count": 23,
   "metadata": {},
   "outputs": [],
   "source": [
    "df['Classification'] = df['Classification'].apply(lambda x: re.findall(r'\\d+', x)[0])\n",
    "df.to_csv('classified_file2.csv', index=False)\n"
   ]
  },
  {
   "cell_type": "code",
   "execution_count": 6,
   "metadata": {},
   "outputs": [
    {
     "name": "stdout",
     "output_type": "stream",
     "text": [
      "Accuracy: 59.60%\n",
      "F1 Macro Score: 0.2948\n",
      "   Unnamed: 0                                               text  \\\n",
      "0         901  5.6 some terms of this agreement will survive ...   \n",
      "1         114  airbnb payments will process co-host services ...   \n",
      "2        1290  in case of minor breaches nintendo will provid...   \n",
      "3         334  airbnb may restrict the availability of the ai...   \n",
      "4        1814  2.2 linden lab grants you certain licenses to ...   \n",
      "\n",
      "   Classification  label                                        weak_labels  \\\n",
      "0               8      8  [-1, -1, -1, -1, -1, -1, -1, -1, -1, -1, -1, -...   \n",
      "1               8      8  [-1, -1, -1, -1, -1, -1, -1, -1, -1, -1, -1, -...   \n",
      "2               1      8  [-1, -1, -1, -1, -1, -1, -1, -1, -1, -1, -1, -...   \n",
      "3               3      8  [-1, -1, -1, -1, -1, -1, -1, -1, -1, -1, -1, -...   \n",
      "4               8      8  [-1, -1, -1, -1, -1, -1, -1, -1, -1, -1, -1, -...   \n",
      "\n",
      "   correct  \n",
      "0     True  \n",
      "1     True  \n",
      "2    False  \n",
      "3    False  \n",
      "4     True  \n"
     ]
    }
   ],
   "source": [
    "import pandas as pd\n",
    "from sklearn.metrics import f1_score\n",
    "\n",
    "predictions_df = pd.read_csv('classified_file2.csv')\n",
    "true_labels_df = test_df\n",
    "\n",
    "merged_df = pd.merge(predictions_df, true_labels_df, on='text')\n",
    "\n",
    "merged_df['correct'] = merged_df['Classification'] == merged_df['label']\n",
    "\n",
    "accuracy = merged_df['correct'].mean()\n",
    "print(f\"Accuracy: {accuracy:.2%}\")\n",
    "\n",
    "f1_macro = f1_score(merged_df['label'], merged_df['Classification'], average='macro')\n",
    "print(f\"F1 Macro Score: {f1_macro:.4f}\")\n",
    "\n",
    "print(merged_df.head())\n",
    "\n",
    "merged_df.to_csv('comparison_with_true_labels.csv', index=False)\n"
   ]
  }
 ],
 "metadata": {
  "kernelspec": {
   "display_name": "AutoWS-Bench-101",
   "language": "python",
   "name": "python3"
  },
  "language_info": {
   "codemirror_mode": {
    "name": "ipython",
    "version": 3
   },
   "file_extension": ".py",
   "mimetype": "text/x-python",
   "name": "python",
   "nbconvert_exporter": "python",
   "pygments_lexer": "ipython3",
   "version": "3.9.6"
  }
 },
 "nbformat": 4,
 "nbformat_minor": 2
}
