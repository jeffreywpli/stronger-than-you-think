{
 "cells": [
  {
   "cell_type": "code",
   "execution_count": 12,
   "metadata": {},
   "outputs": [],
   "source": [
    "import numpy as np\n",
    "import re\n",
    "import json\n",
    "import pandas as pd\n",
    "import warnings\n",
    "import csv\n",
    "warnings.simplefilter(action='ignore', category=FutureWarning)"
   ]
  },
  {
   "cell_type": "code",
   "execution_count": 13,
   "metadata": {},
   "outputs": [
    {
     "name": "stdout",
     "output_type": "stream",
     "text": [
      "The autoreload extension is already loaded. To reload it, use:\n",
      "  %reload_ext autoreload\n"
     ]
    }
   ],
   "source": [
    "%load_ext autoreload\n",
    "%autoreload 2\n",
    "import label_improve as li"
   ]
  },
  {
   "cell_type": "code",
   "execution_count": 14,
   "metadata": {},
   "outputs": [],
   "source": [
    "# Loading the data \n",
    "dataset_name = \"banking77\"\n",
    "idx_to_label = json.load(open(f\"label.json\"))\n",
    "label_to_idx = {l:i for i,l in idx_to_label.items()}\n",
    "test_df = li.data_to_df(json.load(open(f\"test.json\", \"r\")))"
   ]
  },
  {
   "cell_type": "code",
   "execution_count": 15,
   "metadata": {},
   "outputs": [],
   "source": [
    "test_df = test_df.sample(250, random_state=205)\n",
    "eval_df = test_df.drop(columns=[ 'label', 'weak_labels'])"
   ]
  },
  {
   "cell_type": "code",
   "execution_count": 16,
   "metadata": {},
   "outputs": [],
   "source": [
    "eval_df.to_csv(f'./{dataset_name}_eval.csv')"
   ]
  },
  {
   "cell_type": "code",
   "execution_count": 17,
   "metadata": {},
   "outputs": [],
   "source": [
    "from openai import OpenAI\n",
    "import os\n",
    "import sys\n",
    "\n",
    "API_KEY = ''\n",
    "\n",
    "\n",
    "model_id = 'gpt-4o-2024-08-06' # replace with your model ID\n",
    "\n",
    "os.environ[\"OPENAI_API_KEY\"] = API_KEY\n",
    "\n",
    "client = OpenAI(\n",
    "    # This is the default and can be omitted\n",
    "    api_key=os.environ.get(\"OPENAI_API_KEY\"),\n",
    ")"
   ]
  },
  {
   "cell_type": "code",
   "execution_count": 18,
   "metadata": {},
   "outputs": [],
   "source": [
    "import openai\n",
    "import pandas as pd\n",
    "\n",
    "# Load your CSV file\n",
    "df = pd.read_csv(f'{dataset_name}_eval.csv')\n",
    "\n",
    "\n",
    "# Define the categories\n",
    "categories = {\n",
    "    \"0\": \"activate_my_card\",\n",
    "    \"1\": \"age_limit\",\n",
    "    \"2\": \"apple_pay_or_google_pay\",\n",
    "    \"3\": \"atm_support\",\n",
    "    \"4\": \"automatic_top_up\",\n",
    "    \"5\": \"balance_not_updated_after_bank_transfer\",\n",
    "    \"6\": \"balance_not_updated_after_cheque_or_cash_deposit\",\n",
    "    \"7\": \"beneficiary_not_allowed\",\n",
    "    \"8\": \"cancel_transfer\",\n",
    "    \"9\": \"card_about_to_expire\",\n",
    "    \"10\": \"card_acceptance\",\n",
    "    \"11\": \"card_arrival\",\n",
    "    \"12\": \"card_delivery_estimate\",\n",
    "    \"13\": \"card_linking\",\n",
    "    \"14\": \"card_not_working\",\n",
    "    \"15\": \"card_payment_fee_charged\",\n",
    "    \"16\": \"card_payment_not_recognised\",\n",
    "    \"17\": \"card_payment_wrong_exchange_rate\",\n",
    "    \"18\": \"card_swallowed\",\n",
    "    \"19\": \"cash_withdrawal_charge\",\n",
    "    \"20\": \"cash_withdrawal_not_recognised\",\n",
    "    \"21\": \"change_pin\",\n",
    "    \"22\": \"compromised_card\",\n",
    "    \"23\": \"contactless_not_working\",\n",
    "    \"24\": \"country_support\",\n",
    "    \"25\": \"declined_card_payment\",\n",
    "    \"26\": \"declined_cash_withdrawal\",\n",
    "    \"27\": \"declined_transfer\",\n",
    "    \"28\": \"direct_debit_payment_not_recognised\",\n",
    "    \"29\": \"disposable_card_limits\",\n",
    "    \"30\": \"edit_personal_details\",\n",
    "    \"31\": \"exchange_charge\",\n",
    "    \"32\": \"exchange_rate\",\n",
    "    \"33\": \"exchange_via_app\",\n",
    "    \"34\": \"extra_charge_on_statement\",\n",
    "    \"35\": \"failed_transfer\",\n",
    "    \"36\": \"fiat_currency_support\",\n",
    "    \"37\": \"get_disposable_virtual_card\",\n",
    "    \"38\": \"get_physical_card\",\n",
    "    \"39\": \"getting_spare_card\",\n",
    "    \"40\": \"getting_virtual_card\",\n",
    "    \"41\": \"lost_or_stolen_card\",\n",
    "    \"42\": \"lost_or_stolen_phone\",\n",
    "    \"43\": \"order_physical_card\",\n",
    "    \"44\": \"passcode_forgotten\",\n",
    "    \"45\": \"pending_card_payment\",\n",
    "    \"46\": \"pending_cash_withdrawal\",\n",
    "    \"47\": \"pending_top_up\",\n",
    "    \"48\": \"pending_transfer\",\n",
    "    \"49\": \"pin_blocked\",\n",
    "    \"50\": \"receiving_money\",\n",
    "    \"51\": \"Refund_not_showing_up\",\n",
    "    \"52\": \"request_refund\",\n",
    "    \"53\": \"reverted_card_payment?\",\n",
    "    \"54\": \"supported_cards_and_currencies\",\n",
    "    \"55\": \"terminate_account\",\n",
    "    \"56\": \"top_up_by_bank_transfer_charge\",\n",
    "    \"57\": \"top_up_by_card_charge\",\n",
    "    \"58\": \"top_up_by_cash_or_cheque\",\n",
    "    \"59\": \"top_up_failed\",\n",
    "    \"60\": \"top_up_limits\",\n",
    "    \"61\": \"top_up_reverted\",\n",
    "    \"62\": \"topping_up_by_card\",\n",
    "    \"63\": \"transaction_charged_twice\",\n",
    "    \"64\": \"transfer_fee_charged\",\n",
    "    \"65\": \"transfer_into_account\",\n",
    "    \"66\": \"transfer_not_received_by_recipient\",\n",
    "    \"67\": \"transfer_timing\",\n",
    "    \"68\": \"unable_to_verify_identity\",\n",
    "    \"69\": \"verify_my_identity\",\n",
    "    \"70\": \"verify_source_of_funds\",\n",
    "    \"71\": \"verify_top_up\",\n",
    "    \"72\": \"virtual_card_not_working\",\n",
    "    \"73\": \"visa_or_mastercard\",\n",
    "    \"74\": \"why_verify_identity\",\n",
    "    \"75\": \"wrong_amount_of_cash_received\",\n",
    "    \"76\": \"wrong_exchange_rate_for_cash_withdrawal\"\n",
    "}\n",
    "# Function to classify text\n",
    "def classify_text(text):\n",
    "    response = client.chat.completions.create(\n",
    "        model=model_id,\n",
    "        messages=[\n",
    "            {\"role\": \"system\", \"content\": \"You are an expert in banking financial service domain, and you are good at classification.\"},\n",
    "            {\"role\": \"user\", \"content\": f\"Classify the following text into one of the categories: {categories}. Text: {text}, also provide the label number at the end of the sentences, with the exact sentence 'The label is : $number'\"}\n",
    "        ]\n",
    "    )\n",
    "    classification = response.choices[0].message.content\n",
    "    return classification.strip()\n",
    "\n",
    "\n",
    "\n",
    "# Apply the function to each line of text\n",
    "df['Classification'] = df['text'].apply(classify_text)\n",
    "\n",
    "# Save the results to a new CSV file\n",
    "df.to_csv('classified_file.csv', index=False)\n"
   ]
  },
  {
   "cell_type": "code",
   "execution_count": 20,
   "metadata": {},
   "outputs": [],
   "source": [
    "df['Classification'] = df['Classification'].str.extract(r'The label is\\s*:\\s*(\\d+)')\n",
    " \n",
    "df.to_csv('classified_file2.csv', index=False)\n"
   ]
  },
  {
   "cell_type": "code",
   "execution_count": 21,
   "metadata": {},
   "outputs": [
    {
     "name": "stdout",
     "output_type": "stream",
     "text": [
      "Accuracy: 73.20%\n",
      "   Unnamed: 0                                               text  \\\n",
      "0        1061  My bank statement doesn't show the cash deposi...   \n",
      "1        2386                   How is the top-up card verified?   \n",
      "2          49  I have one of your cards already, how do I lin...   \n",
      "3        3072                     Am I able to get a card in EU?   \n",
      "4          13                       still waiting on my new card   \n",
      "\n",
      "   Classification  label                                        weak_labels  \\\n",
      "0             6.0      6  [-1, -1, -1, -1, -1, -1, -1, -1, -1, -1, -1, -...   \n",
      "1            71.0     71  [-1, -1, -1, -1, -1, -1, -1, -1, -1, -1, -1, -...   \n",
      "2            13.0     13  [-1, -1, -1, -1, -1, -1, -1, -1, -1, -1, -1, -...   \n",
      "3            24.0     24  [-1, -1, -1, -1, -1, -1, -1, -1, -1, -1, -1, -...   \n",
      "4            11.0     11  [-1, -1, -1, -1, -1, -1, -1, -1, -1, -1, -1, -...   \n",
      "\n",
      "   correct  \n",
      "0     True  \n",
      "1     True  \n",
      "2     True  \n",
      "3     True  \n",
      "4     True  \n"
     ]
    }
   ],
   "source": [
    "predictions_df = pd.read_csv('classified_file2.csv')\n",
    "\n",
    "true_labels_df =  test_df\n",
    "\n",
    "merged_df = pd.merge(predictions_df, true_labels_df, on='text')\n",
    "\n",
    "merged_df['correct'] = merged_df['Classification'] == merged_df['label']\n",
    "\n",
    "accuracy = merged_df['correct'].mean()\n",
    "print(f\"Accuracy: {accuracy:.2%}\")\n",
    "\n",
    "print(merged_df.head())\n",
    "\n",
    "merged_df.to_csv('comparison_with_true_labels.csv', index=False)\n"
   ]
  }
 ],
 "metadata": {
  "kernelspec": {
   "display_name": "AutoWS-Bench-101",
   "language": "python",
   "name": "python3"
  },
  "language_info": {
   "codemirror_mode": {
    "name": "ipython",
    "version": 3
   },
   "file_extension": ".py",
   "mimetype": "text/x-python",
   "name": "python",
   "nbconvert_exporter": "python",
   "pygments_lexer": "ipython3",
   "version": "3.11.5"
  }
 },
 "nbformat": 4,
 "nbformat_minor": 2
}
