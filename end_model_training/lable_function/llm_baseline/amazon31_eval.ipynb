{
 "cells": [
  {
   "cell_type": "code",
   "execution_count": 1,
   "metadata": {},
   "outputs": [],
   "source": [
    "import numpy as np\n",
    "import re\n",
    "import json\n",
    "import pandas as pd\n",
    "import warnings\n",
    "import csv\n",
    "warnings.simplefilter(action='ignore', category=FutureWarning)"
   ]
  },
  {
   "cell_type": "code",
   "execution_count": 2,
   "metadata": {},
   "outputs": [],
   "source": [
    "%load_ext autoreload\n",
    "%autoreload 2\n",
    "import label_improve as li"
   ]
  },
  {
   "cell_type": "code",
   "execution_count": 3,
   "metadata": {},
   "outputs": [],
   "source": [
    "# Loading the data \n",
    "dataset_name = \"amazon31\"\n",
    "idx_to_label = json.load(open(f\"label.json\"))\n",
    "label_to_idx = {l:i for i,l in idx_to_label.items()}\n",
    "test_df = li.data_to_df(json.load(open(f\"test.json\", \"r\")))"
   ]
  },
  {
   "cell_type": "code",
   "execution_count": 4,
   "metadata": {},
   "outputs": [],
   "source": [
    "test_df = test_df.sample(250, random_state=205)\n",
    "eval_df = test_df.drop(columns=[ 'label', 'weak_labels'])"
   ]
  },
  {
   "cell_type": "code",
   "execution_count": 5,
   "metadata": {},
   "outputs": [],
   "source": [
    "eval_df.to_csv(f'./{dataset_name}_eval.csv')"
   ]
  },
  {
   "cell_type": "code",
   "execution_count": 6,
   "metadata": {},
   "outputs": [],
   "source": [
    "from openai import OpenAI\n",
    "import os\n",
    "import sys\n",
    "\n",
    "API_KEY = ''\n",
    "\n",
    "\n",
    "model_id = 'gpt-4o-2024-08-06' # replace with your model ID\n",
    "\n",
    "os.environ[\"OPENAI_API_KEY\"] = API_KEY\n",
    "\n",
    "client = OpenAI(\n",
    "    # This is the default and can be omitted\n",
    "    api_key=os.environ.get(\"OPENAI_API_KEY\"),\n",
    ")"
   ]
  },
  {
   "cell_type": "code",
   "execution_count": 7,
   "metadata": {},
   "outputs": [],
   "source": [
    "import openai\n",
    "import pandas as pd\n",
    "\n",
    "# Load your CSV file\n",
    "df = pd.read_csv(f'{dataset_name}_eval.csv')\n",
    "\n",
    "\n",
    "# Define the categories\n",
    "categories = {\n",
    "    \"0\": \"Apparel\",\n",
    "    \"1\": \"Automotive\",\n",
    "    \"2\": \"Baby\",\n",
    "    \"3\": \"Books\",\n",
    "    \"4\": \"Camera\",\n",
    "    \"5\": \"Electronics\",\n",
    "    \"6\": \"Gift Card\",\n",
    "    \"7\": \"Grocery\",\n",
    "    \"8\": \"Health & Personal Care\",\n",
    "    \"9\": \"Home\",\n",
    "    \"10\": \"Jewelry\",\n",
    "    \"11\": \"Kitchen\",\n",
    "    \"12\": \"Lawn and Garden\",\n",
    "    \"13\": \"Luggage\",\n",
    "    \"14\": \"Major Appliances\",\n",
    "    \"15\": \"Mobile_Apps\",\n",
    "    \"16\": \"Music\",\n",
    "    \"17\": \"Musical Instruments\",\n",
    "    \"18\": \"Office Products\",\n",
    "    \"19\": \"Outdoors\",\n",
    "    \"20\": \"PC\",\n",
    "    \"21\": \"Pet Products\",\n",
    "    \"22\": \"Shoes\",\n",
    "    \"23\": \"Software\",\n",
    "    \"24\": \"Sports\",\n",
    "    \"25\": \"Tools\",\n",
    "    \"26\": \"Toys\",\n",
    "    \"27\": \"Video\",\n",
    "    \"28\": \"Video Games\",\n",
    "    \"29\": \"Watches\",\n",
    "    \"30\": \"Wireless\"\n",
    "}\n",
    "# Function to classify text\n",
    "def classify_text(text):\n",
    "    response = client.chat.completions.create(\n",
    "        model=model_id,\n",
    "        messages=[\n",
    "            {\"role\": \"system\", \"content\": \"You are an expert in Product Categorization, and you are good at classification.\"},\n",
    "            {\"role\": \"user\", \"content\": f\"Classify the following text into one of the categories: {categories}. Text: {text}, also provide the label number at the end of the sentences, with the exact sentence 'The label is : $number'\"}\n",
    "        ]\n",
    "    )\n",
    "    classification = response.choices[0].message.content\n",
    "    return classification.strip()\n",
    "\n",
    "\n",
    "\n",
    "# Apply the function to each line of text\n",
    "df['Classification'] = df['text'].apply(classify_text)\n",
    "\n",
    "# Save the results to a new CSV file\n",
    "df.to_csv('classified_file.csv', index=False)\n"
   ]
  },
  {
   "cell_type": "code",
   "execution_count": 9,
   "metadata": {},
   "outputs": [],
   "source": [
    "# Extract the label number at the end of the 'Classification' column\n",
    "df['Classification'] = df['Classification'].str.extract(r'The label is\\s*:\\s*(\\d+)')\n",
    " \n",
    "df.to_csv('classified_file2.csv', index=False)\n"
   ]
  },
  {
   "cell_type": "code",
   "execution_count": 10,
   "metadata": {},
   "outputs": [
    {
     "name": "stdout",
     "output_type": "stream",
     "text": [
      "Accuracy: 78.80%\n",
      "   Unnamed: 0                                               text  \\\n",
      "0        2870  VideoSecu Microphone Audio Pickup Device Sound...   \n",
      "1       14215  CONAIR SOUND THERAPY W/N One big problem The s...   \n",
      "2       11734  Tomee SNES USB Controller for PC/ Mac Perfect....   \n",
      "3        7028  Casio Men's W201-1AV Chronograph Watch Reliabl...   \n",
      "4       10273  HoMedics PA-MH Therapist Select Percussion Mas...   \n",
      "\n",
      "   Classification  label                                        weak_labels  \\\n",
      "0             5.0      4  [-1, -1, -1, -1, -1, -1, -1, -1, -1, -1, -1, -...   \n",
      "1             8.0      8  [-1, -1, -1, -1, -1, -1, -1, -1, -1, -1, -1, -...   \n",
      "2            20.0     28  [-1, -1, -1, -1, -1, -1, -1, -1, -1, -1, -1, -...   \n",
      "3            29.0     29  [-1, -1, -1, -1, -1, -1, -1, -1, -1, -1, -1, -...   \n",
      "4             8.0      8  [-1, -1, -1, -1, -1, -1, -1, -1, -1, -1, -1, -...   \n",
      "\n",
      "   correct  \n",
      "0    False  \n",
      "1     True  \n",
      "2    False  \n",
      "3     True  \n",
      "4     True  \n"
     ]
    }
   ],
   "source": [
    "predictions_df = pd.read_csv('classified_file2.csv')\n",
    "\n",
    "true_labels_df =  test_df\n",
    "\n",
    "merged_df = pd.merge(predictions_df, true_labels_df, on='text')\n",
    "\n",
    "merged_df['correct'] = merged_df['Classification'] == merged_df['label']\n",
    "\n",
    "accuracy = merged_df['correct'].mean()\n",
    "print(f\"Accuracy: {accuracy:.2%}\")\n",
    "\n",
    "print(merged_df.head())\n",
    "\n",
    "merged_df.to_csv('comparison_with_true_labels.csv', index=False)\n"
   ]
  }
 ],
 "metadata": {
  "kernelspec": {
   "display_name": "AutoWS-Bench-101",
   "language": "python",
   "name": "python3"
  },
  "language_info": {
   "codemirror_mode": {
    "name": "ipython",
    "version": 3
   },
   "file_extension": ".py",
   "mimetype": "text/x-python",
   "name": "python",
   "nbconvert_exporter": "python",
   "pygments_lexer": "ipython3",
   "version": "3.11.5"
  }
 },
 "nbformat": 4,
 "nbformat_minor": 2
}
