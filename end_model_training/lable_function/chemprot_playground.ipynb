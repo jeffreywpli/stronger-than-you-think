{
 "cells": [
  {
   "cell_type": "code",
   "execution_count": 1,
   "metadata": {},
   "outputs": [],
   "source": [
    "import numpy as np\n",
    "import snorkel\n",
    "from snorkel.labeling import labeling_function\n",
    "from snorkel.labeling import LabelingFunction\n",
    "from snorkel.labeling import PandasLFApplier\n",
    "from snorkel.labeling import LFAnalysis\n",
    "from snorkel.labeling.model import MajorityLabelVoter\n",
    "import json\n",
    "import pandas as pd\n",
    "import label_improve"
   ]
  },
  {
   "cell_type": "code",
   "execution_count": 5,
   "metadata": {},
   "outputs": [],
   "source": [
    "%load_ext autoreload\n",
    "%autoreload 2\n",
    "import label_improve as li"
   ]
  },
  {
   "cell_type": "code",
   "execution_count": 13,
   "metadata": {},
   "outputs": [],
   "source": [
    "# Loading the data \n",
    "dataset_name = \"chemprot\"\n",
    "\n",
    "idx_to_label = json.load(open(f\"../weak_datasets/{dataset_name}/label.json\"))\n",
    "label_to_idx = {l:i for i,l in idx_to_label.items()}\n",
    "valid_df = li.chemprot_to_df(json.load(open(f\"../weak_datasets/{dataset_name}/valid.json\", \"r\")))\n",
    "train_df = li.chemprot_to_df(json.load(open(f\"../weak_datasets/{dataset_name}/train.json\", \"r\")))\n",
    "test_df = li.chemprot_to_df(json.load(open(f\"../weak_datasets/{dataset_name}/test.json\", \"r\")))\n",
    "\n",
    "# Sample a dev set to help seed ideas for LFs\n",
    "dev_df = train_df.sample(250, random_state=123)\n"
   ]
  },
  {
   "cell_type": "code",
   "execution_count": 20,
   "metadata": {},
   "outputs": [
    {
     "data": {
      "text/html": [
       "<div>\n",
       "<style scoped>\n",
       "    .dataframe tbody tr th:only-of-type {\n",
       "        vertical-align: middle;\n",
       "    }\n",
       "\n",
       "    .dataframe tbody tr th {\n",
       "        vertical-align: top;\n",
       "    }\n",
       "\n",
       "    .dataframe thead th {\n",
       "        text-align: right;\n",
       "    }\n",
       "</style>\n",
       "<table border=\"1\" class=\"dataframe\">\n",
       "  <thead>\n",
       "    <tr style=\"text-align: right;\">\n",
       "      <th></th>\n",
       "      <th>text</th>\n",
       "      <th>labels</th>\n",
       "      <th>entity1</th>\n",
       "      <th>entity2</th>\n",
       "      <th>span1</th>\n",
       "      <th>span2</th>\n",
       "      <th>weak_labels</th>\n",
       "    </tr>\n",
       "  </thead>\n",
       "  <tbody>\n",
       "    <tr>\n",
       "      <th>10305</th>\n",
       "      <td>Selective inhibition of PDE5 is a rational therapeutic approach in ED, as proved by the clinical success of sildenafil.</td>\n",
       "      <td>3</td>\n",
       "      <td>PDE5</td>\n",
       "      <td>sildenafil</td>\n",
       "      <td>[24, 28]</td>\n",
       "      <td>[108, 118]</td>\n",
       "      <td>[-1, -1, -1, -1, -1, -1, -1, -1, -1, -1, -1, -1, -1, 3, -1, -1, -1, -1, -1, -1, -1, -1, -1, -1, -1, -1]</td>\n",
       "    </tr>\n",
       "  </tbody>\n",
       "</table>\n",
       "</div>"
      ],
      "text/plain": [
       "                                                                                                                          text  \\\n",
       "10305  Selective inhibition of PDE5 is a rational therapeutic approach in ED, as proved by the clinical success of sildenafil.   \n",
       "\n",
       "       labels entity1     entity2     span1       span2  \\\n",
       "10305       3    PDE5  sildenafil  [24, 28]  [108, 118]   \n",
       "\n",
       "                                                                                                   weak_labels  \n",
       "10305  [-1, -1, -1, -1, -1, -1, -1, -1, -1, -1, -1, -1, -1, 3, -1, -1, -1, -1, -1, -1, -1, -1, -1, -1, -1, -1]  "
      ]
     },
     "execution_count": 20,
     "metadata": {},
     "output_type": "execute_result"
    }
   ],
   "source": [
    "\n",
    "# show the first row of the dataframe\n",
    "train_df.head(1)"
   ]
  },
  {
   "cell_type": "markdown",
   "metadata": {},
   "source": [
    "## Main Work"
   ]
  },
  {
   "cell_type": "code",
   "execution_count": 11,
   "metadata": {},
   "outputs": [
    {
     "data": {
      "text/html": [
       "<div>\n",
       "<style scoped>\n",
       "    .dataframe tbody tr th:only-of-type {\n",
       "        vertical-align: middle;\n",
       "    }\n",
       "\n",
       "    .dataframe tbody tr th {\n",
       "        vertical-align: top;\n",
       "    }\n",
       "\n",
       "    .dataframe thead th {\n",
       "        text-align: right;\n",
       "    }\n",
       "</style>\n",
       "<table border=\"1\" class=\"dataframe\">\n",
       "  <thead>\n",
       "    <tr style=\"text-align: right;\">\n",
       "      <th></th>\n",
       "      <th>text</th>\n",
       "      <th>labels</th>\n",
       "    </tr>\n",
       "  </thead>\n",
       "  <tbody>\n",
       "    <tr>\n",
       "      <th>9357</th>\n",
       "      <td>Administration of DMI for 14 or 21 days did not further reduce the number of beta-adrenoceptors.</td>\n",
       "      <td>9</td>\n",
       "    </tr>\n",
       "    <tr>\n",
       "      <th>8191</th>\n",
       "      <td>In cultured cardiomyocytes, cardiomyocyte hypertrophy induced by the α(1)-agonist phenylephrine was inhibited by the overexpression of SIRT1 as well as resveratrol, both of which down-regulated p300 protein levels but not p300 mRNA levels.</td>\n",
       "      <td>9</td>\n",
       "    </tr>\n",
       "    <tr>\n",
       "      <th>5813</th>\n",
       "      <td>In six patients with Cushing's disease and one patient with secondary adrenal insufficiency due to hypothalamic failure, neither basal ACTH and cortisol levels nor CRH-stimulated levels were influenced by loperamide.</td>\n",
       "      <td>9</td>\n",
       "    </tr>\n",
       "    <tr>\n",
       "      <th>14459</th>\n",
       "      <td>Unlike the majority of G protein-coupled receptors, the prostaglandin E(2) (PGE(2)) E-prostanoid 3 (EP3) receptor binds agonist with high affinity that is insensitive to the presence of guanosine 5[prime]-O-(3-thio)triphosphate (GTPγS).</td>\n",
       "      <td>9</td>\n",
       "    </tr>\n",
       "    <tr>\n",
       "      <th>12124</th>\n",
       "      <td>In addition, the stereospecificity required at opioid receptors appears to be retained at the nociceptin receptor, since (+)-quadazocine is inactive at both receptors.</td>\n",
       "      <td>9</td>\n",
       "    </tr>\n",
       "    <tr>\n",
       "      <th>12862</th>\n",
       "      <td>The purified Atp8a1 is inactive in detergent micelles or in micelles containing phosphatidylcholine, phosphatidic acid, or phosphatidylinositol, is minimally activated by phosphatidylglycerol or phosphatidylethanolamine (PE), and is maximally activated by PS.</td>\n",
       "      <td>9</td>\n",
       "    </tr>\n",
       "    <tr>\n",
       "      <th>1517</th>\n",
       "      <td>However, L-nor-okadaone (0.001 pg/mouse-1 ng/mouse, i.c.v. ), an analogue of okadaic acid lacking activity against protein phosphatases, did not affect the antinociceptive effect of morphine.</td>\n",
       "      <td>9</td>\n",
       "    </tr>\n",
       "    <tr>\n",
       "      <th>10347</th>\n",
       "      <td>GW660511X and omapatrilat increased the production of both BrBK1-8 and Br-Phe5 but not that of BrBK4-8 and BrBK2-8.</td>\n",
       "      <td>9</td>\n",
       "    </tr>\n",
       "  </tbody>\n",
       "</table>\n",
       "</div>"
      ],
      "text/plain": [
       "                                                                                                                                                                                                                                                                      text  \\\n",
       "9357                                                                                                                                                                      Administration of DMI for 14 or 21 days did not further reduce the number of beta-adrenoceptors.   \n",
       "8191                       In cultured cardiomyocytes, cardiomyocyte hypertrophy induced by the α(1)-agonist phenylephrine was inhibited by the overexpression of SIRT1 as well as resveratrol, both of which down-regulated p300 protein levels but not p300 mRNA levels.   \n",
       "5813                                              In six patients with Cushing's disease and one patient with secondary adrenal insufficiency due to hypothalamic failure, neither basal ACTH and cortisol levels nor CRH-stimulated levels were influenced by loperamide.   \n",
       "14459                         Unlike the majority of G protein-coupled receptors, the prostaglandin E(2) (PGE(2)) E-prostanoid 3 (EP3) receptor binds agonist with high affinity that is insensitive to the presence of guanosine 5[prime]-O-(3-thio)triphosphate (GTPγS).   \n",
       "12124                                                                                              In addition, the stereospecificity required at opioid receptors appears to be retained at the nociceptin receptor, since (+)-quadazocine is inactive at both receptors.   \n",
       "12862  The purified Atp8a1 is inactive in detergent micelles or in micelles containing phosphatidylcholine, phosphatidic acid, or phosphatidylinositol, is minimally activated by phosphatidylglycerol or phosphatidylethanolamine (PE), and is maximally activated by PS.   \n",
       "1517                                                                       However, L-nor-okadaone (0.001 pg/mouse-1 ng/mouse, i.c.v. ), an analogue of okadaic acid lacking activity against protein phosphatases, did not affect the antinociceptive effect of morphine.   \n",
       "10347                                                                                                                                                  GW660511X and omapatrilat increased the production of both BrBK1-8 and Br-Phe5 but not that of BrBK4-8 and BrBK2-8.   \n",
       "\n",
       "       labels  \n",
       "9357        9  \n",
       "8191        9  \n",
       "5813        9  \n",
       "14459       9  \n",
       "12124       9  \n",
       "12862       9  \n",
       "1517        9  \n",
       "10347       9  "
      ]
     },
     "execution_count": 11,
     "metadata": {},
     "output_type": "execute_result"
    }
   ],
   "source": [
    "# Cell to inspect the dev set for a given label \n",
    "label = 'NOT' # Change this variable\n",
    "pd.set_option('display.max_colwidth', 1000)\n",
    "dev_df[dev_df['labels'] == int(label_to_idx[label])]"
   ]
  },
  {
   "cell_type": "code",
   "execution_count": 228,
   "metadata": {},
   "outputs": [
    {
     "data": {
      "text/html": [
       "<div>\n",
       "<style scoped>\n",
       "    .dataframe tbody tr th:only-of-type {\n",
       "        vertical-align: middle;\n",
       "    }\n",
       "\n",
       "    .dataframe tbody tr th {\n",
       "        vertical-align: top;\n",
       "    }\n",
       "\n",
       "    .dataframe thead th {\n",
       "        text-align: right;\n",
       "    }\n",
       "</style>\n",
       "<table border=\"1\" class=\"dataframe\">\n",
       "  <thead>\n",
       "    <tr style=\"text-align: right;\">\n",
       "      <th></th>\n",
       "      <th>text</th>\n",
       "      <th>labels</th>\n",
       "    </tr>\n",
       "  </thead>\n",
       "  <tbody>\n",
       "    <tr>\n",
       "      <th>42750</th>\n",
       "      <td>Lenovo IdeaTab K3 Lynx 11.6-Inch 64 GB Tablet Smudgy screen brings it shy of 5 stars.... I'm only going to review the tablet, and not Windows 8, Office, etc...the os and program behavior on the tablet is identical to ANY machine running full Windows 8, so no need for ANOTHER Windows 8 review!&lt;br /&gt;.&lt;br /&gt;So far I'm not bothered by any so-called &amp;#34;flex&amp;#34; others are talking about. Yes, it's plastic and therefore plasticity, but it feels firm enough to me. I'm willing to sacrifice ultra firmness (like on the iPad) for something as light as this.&lt;br /&gt;&lt;br /&gt;The screen is bigger than the biggest iPad, which my wife has, but i can hold and read a digital magazine on the Lynx in portrait mode with one hand and not feel the strain like I do with the iPad.&lt;br /&gt;&lt;br /&gt;That being said, the screen IS an awkward size: in portrait mode, the magazines don't take up the full screen, leaving empty black space at the top and bottom.&lt;br /&gt;&lt;br /&gt;I put in a 64gb micro SDXC card the other day, and...</td>\n",
       "      <td>20</td>\n",
       "    </tr>\n",
       "  </tbody>\n",
       "</table>\n",
       "</div>"
      ],
      "text/plain": [
       "                                                                                                                                                                                                                                                                                                                                                                                                                                                                                                                                                                                                                                                                                                                                                                                                                                                                                                                                                                                                                                          text  \\\n",
       "42750  Lenovo IdeaTab K3 Lynx 11.6-Inch 64 GB Tablet Smudgy screen brings it shy of 5 stars.... I'm only going to review the tablet, and not Windows 8, Office, etc...the os and program behavior on the tablet is identical to ANY machine running full Windows 8, so no need for ANOTHER Windows 8 review!<br />.<br />So far I'm not bothered by any so-called &#34;flex&#34; others are talking about. Yes, it's plastic and therefore plasticity, but it feels firm enough to me. I'm willing to sacrifice ultra firmness (like on the iPad) for something as light as this.<br /><br />The screen is bigger than the biggest iPad, which my wife has, but i can hold and read a digital magazine on the Lynx in portrait mode with one hand and not feel the strain like I do with the iPad.<br /><br />That being said, the screen IS an awkward size: in portrait mode, the magazines don't take up the full screen, leaving empty black space at the top and bottom.<br /><br />I put in a 64gb micro SDXC card the other day, and...   \n",
       "\n",
       "       labels  \n",
       "42750      20  "
      ]
     },
     "execution_count": 228,
     "metadata": {},
     "output_type": "execute_result"
    }
   ],
   "source": [
    "# Cell to inspect dev set for a given keyword (to inspect conflicts). Note: this doesn't work with \"+\" \n",
    "keyword = 'iPad' # Change this word\n",
    "pd.set_option('display.max_colwidth', 1000)\n",
    "dev_df[dev_df['text'].str.contains(keyword)]"
   ]
  },
  {
   "cell_type": "markdown",
   "metadata": {},
   "source": [
    "## Evaluation"
   ]
  },
  {
   "cell_type": "code",
   "execution_count": 235,
   "metadata": {},
   "outputs": [
    {
     "name": "stderr",
     "output_type": "stream",
     "text": [
      "100%|██████████| 131781/131781 [02:54<00:00, 755.05it/s]\n",
      "100%|██████████| 5805/5805 [00:07<00:00, 754.68it/s]\n",
      "100%|██████████| 17402/17402 [00:22<00:00, 756.63it/s]\n"
     ]
    },
    {
     "name": "stdout",
     "output_type": "stream",
     "text": [
      "Train Coverage: 0.6395003832115403\n",
      "Valid Coverage: 0.6396210163652024\n",
      "Test Coverage: 0.6375703942075623\n"
     ]
    },
    {
     "data": {
      "text/html": [
       "<div>\n",
       "<style scoped>\n",
       "    .dataframe tbody tr th:only-of-type {\n",
       "        vertical-align: middle;\n",
       "    }\n",
       "\n",
       "    .dataframe tbody tr th {\n",
       "        vertical-align: top;\n",
       "    }\n",
       "\n",
       "    .dataframe thead th {\n",
       "        text-align: right;\n",
       "    }\n",
       "</style>\n",
       "<table border=\"1\" class=\"dataframe\">\n",
       "  <thead>\n",
       "    <tr style=\"text-align: right;\">\n",
       "      <th></th>\n",
       "      <th>j</th>\n",
       "      <th>Polarity</th>\n",
       "      <th>Coverage</th>\n",
       "      <th>Overlaps</th>\n",
       "      <th>Conflicts</th>\n",
       "      <th>Conflict Ratio</th>\n",
       "    </tr>\n",
       "  </thead>\n",
       "  <tbody>\n",
       "    <tr>\n",
       "      <th>lf_blouse</th>\n",
       "      <td>0</td>\n",
       "      <td>[0]</td>\n",
       "      <td>0.001206</td>\n",
       "      <td>0.000861</td>\n",
       "      <td>0.000517</td>\n",
       "      <td>0.428571</td>\n",
       "    </tr>\n",
       "    <tr>\n",
       "      <th>lf_shirt</th>\n",
       "      <td>1</td>\n",
       "      <td>[0]</td>\n",
       "      <td>0.009991</td>\n",
       "      <td>0.006202</td>\n",
       "      <td>0.005857</td>\n",
       "      <td>0.586207</td>\n",
       "    </tr>\n",
       "    <tr>\n",
       "      <th>lf_scarf</th>\n",
       "      <td>2</td>\n",
       "      <td>[0]</td>\n",
       "      <td>0.001378</td>\n",
       "      <td>0.000689</td>\n",
       "      <td>0.000689</td>\n",
       "      <td>0.500000</td>\n",
       "    </tr>\n",
       "    <tr>\n",
       "      <th>lf_jacket</th>\n",
       "      <td>3</td>\n",
       "      <td>[0]</td>\n",
       "      <td>0.004479</td>\n",
       "      <td>0.002239</td>\n",
       "      <td>0.002239</td>\n",
       "      <td>0.500000</td>\n",
       "    </tr>\n",
       "    <tr>\n",
       "      <th>lf_underwear</th>\n",
       "      <td>4</td>\n",
       "      <td>[0]</td>\n",
       "      <td>0.001206</td>\n",
       "      <td>0.000517</td>\n",
       "      <td>0.000345</td>\n",
       "      <td>0.285714</td>\n",
       "    </tr>\n",
       "    <tr>\n",
       "      <th>...</th>\n",
       "      <td>...</td>\n",
       "      <td>...</td>\n",
       "      <td>...</td>\n",
       "      <td>...</td>\n",
       "      <td>...</td>\n",
       "      <td>...</td>\n",
       "    </tr>\n",
       "    <tr>\n",
       "      <th>lf_bracelet+watch</th>\n",
       "      <td>225</td>\n",
       "      <td>[29]</td>\n",
       "      <td>0.003101</td>\n",
       "      <td>0.003101</td>\n",
       "      <td>0.003101</td>\n",
       "      <td>1.000000</td>\n",
       "    </tr>\n",
       "    <tr>\n",
       "      <th>lf_electronic+case</th>\n",
       "      <td>226</td>\n",
       "      <td>[30]</td>\n",
       "      <td>0.001206</td>\n",
       "      <td>0.001034</td>\n",
       "      <td>0.001034</td>\n",
       "      <td>0.857143</td>\n",
       "    </tr>\n",
       "    <tr>\n",
       "      <th>lf_ipod</th>\n",
       "      <td>227</td>\n",
       "      <td>[30]</td>\n",
       "      <td>0.012231</td>\n",
       "      <td>0.008786</td>\n",
       "      <td>0.007407</td>\n",
       "      <td>0.605634</td>\n",
       "    </tr>\n",
       "    <tr>\n",
       "      <th>lf_ipad</th>\n",
       "      <td>228</td>\n",
       "      <td>[30]</td>\n",
       "      <td>0.008613</td>\n",
       "      <td>0.006546</td>\n",
       "      <td>0.005168</td>\n",
       "      <td>0.600000</td>\n",
       "    </tr>\n",
       "    <tr>\n",
       "      <th>lf_iphone</th>\n",
       "      <td>229</td>\n",
       "      <td>[30]</td>\n",
       "      <td>0.009991</td>\n",
       "      <td>0.007063</td>\n",
       "      <td>0.005340</td>\n",
       "      <td>0.534483</td>\n",
       "    </tr>\n",
       "  </tbody>\n",
       "</table>\n",
       "<p>230 rows × 6 columns</p>\n",
       "</div>"
      ],
      "text/plain": [
       "                      j Polarity  Coverage  Overlaps  Conflicts  \\\n",
       "lf_blouse             0      [0]  0.001206  0.000861   0.000517   \n",
       "lf_shirt              1      [0]  0.009991  0.006202   0.005857   \n",
       "lf_scarf              2      [0]  0.001378  0.000689   0.000689   \n",
       "lf_jacket             3      [0]  0.004479  0.002239   0.002239   \n",
       "lf_underwear          4      [0]  0.001206  0.000517   0.000345   \n",
       "...                 ...      ...       ...       ...        ...   \n",
       "lf_bracelet+watch   225     [29]  0.003101  0.003101   0.003101   \n",
       "lf_electronic+case  226     [30]  0.001206  0.001034   0.001034   \n",
       "lf_ipod             227     [30]  0.012231  0.008786   0.007407   \n",
       "lf_ipad             228     [30]  0.008613  0.006546   0.005168   \n",
       "lf_iphone           229     [30]  0.009991  0.007063   0.005340   \n",
       "\n",
       "                    Conflict Ratio  \n",
       "lf_blouse                 0.428571  \n",
       "lf_shirt                  0.586207  \n",
       "lf_scarf                  0.500000  \n",
       "lf_jacket                 0.500000  \n",
       "lf_underwear              0.285714  \n",
       "...                            ...  \n",
       "lf_bracelet+watch         1.000000  \n",
       "lf_electronic+case        0.857143  \n",
       "lf_ipod                   0.605634  \n",
       "lf_ipad                   0.600000  \n",
       "lf_iphone                 0.534483  \n",
       "\n",
       "[230 rows x 6 columns]"
      ]
     },
     "execution_count": 235,
     "metadata": {},
     "output_type": "execute_result"
    }
   ],
   "source": [
    "L_train = apply_LFs(lfs, train_df)\n",
    "L_valid = apply_LFs(lfs, valid_df)\n",
    "L_test = apply_LFs(lfs, test_df)\n",
    "\n",
    "print(\"Train Coverage:\", calc_coverage(L_train))\n",
    "print(\"Valid Coverage:\", calc_coverage(L_valid))\n",
    "print(\"Test Coverage:\", calc_coverage(L_test))\n",
    "\n",
    "lf_analysis = LFAnalysis(L=L_valid, lfs=lfs).lf_summary()\n",
    "\n",
    "# Calculates how many of an LFs votes result in conflicts (helpful signal for debugging LFs)\n",
    "lf_analysis['Conflict Ratio'] = lf_analysis['Conflicts'] / lf_analysis['Coverage']\n",
    "lf_analysis"
   ]
  },
  {
   "cell_type": "code",
   "execution_count": 236,
   "metadata": {},
   "outputs": [
    {
     "data": {
      "text/plain": [
       "lf_poncho              1.000000\n",
       "lf_portable battery    1.000000\n",
       "lf_bracelet+watch      1.000000\n",
       "lf_card game           1.000000\n",
       "lf_tent+daughter       1.000000\n",
       "lf_car+1:              1.000000\n",
       "lf_athletic            1.000000\n",
       "lf_t-shirt             1.000000\n",
       "lf_video+conversion    1.000000\n",
       "lf_basketball+shoe     1.000000\n",
       "lf_cage                1.000000\n",
       "lf_laptop stand        1.000000\n",
       "lf_folders             1.000000\n",
       "lf_headphone+studio    1.000000\n",
       "lf_pop+classic         1.000000\n",
       "lf_toners              1.000000\n",
       "lf_acne treatment      1.000000\n",
       "lf_skin care           1.000000\n",
       "lf_waist trimmer       1.000000\n",
       "lf_nail+paint          1.000000\n",
       "lf_gummi               1.000000\n",
       "lf_laptop+battery      0.909091\n",
       "lf_punch               0.875000\n",
       "lf_air+drain           0.875000\n",
       "lf_electronic+case     0.857143\n",
       "lf_tent+son            0.842105\n",
       "lf_laptop+case         0.833333\n",
       "Name: Conflict Ratio, dtype: float64"
      ]
     },
     "execution_count": 236,
     "metadata": {},
     "output_type": "execute_result"
    }
   ],
   "source": [
    "# List LFs for which 'Conflict Ratio' is above some threshold (helpful for debugging)\n",
    "lf_analysis[lf_analysis['Conflict Ratio'] > 0.8]['Conflict Ratio'].sort_values(ascending=False)"
   ]
  },
  {
   "cell_type": "code",
   "execution_count": 237,
   "metadata": {},
   "outputs": [
    {
     "data": {
      "text/plain": [
       "0.6649519890260631"
      ]
     },
     "execution_count": 237,
     "metadata": {},
     "output_type": "execute_result"
    }
   ],
   "source": [
    "# Calculate accuracy on the validation set (Ideally do this only at the end)\n",
    "majority_model = MajorityLabelVoter(31)\n",
    "preds_valid = majority_model.predict(L=L_valid)\n",
    "(preds_valid[preds_valid != -1] == valid_df[preds_valid != -1].labels.values).mean()"
   ]
  },
  {
   "cell_type": "code",
   "execution_count": 238,
   "metadata": {},
   "outputs": [],
   "source": [
    "json.dump(keywords, open(\"amazon_LFs_v1.json\", \"w\"), indent=8)"
   ]
  },
  {
   "cell_type": "code",
   "execution_count": null,
   "metadata": {},
   "outputs": [],
   "source": [
    "# Replace the LFs for a given dataset (in wrench format)\n",
    "# dataset_name = \"dbpedia\"\n",
    "\n",
    "# train_json = json.load(open(f\"../weak_datasets/{dataset_name}/train.json\", \"r\"))\n",
    "# for idx in train_json:\n",
    "#     train_json[idx]['weak_labels'] = [int(i) for i in list(L_train[int(idx)])]\n",
    "    \n",
    "# valid_json = json.load(open(f\"../weak_datasets/{dataset_name}/valid.json\", \"r\"))\n",
    "# for idx in valid_json:\n",
    "#     valid_json[idx]['weak_labels'] = [int(i) for i in list(L_valid[int(idx)])]\n",
    "    \n",
    "# test_json = json.load(open(f\"../weak_datasets/{dataset_name}/test.json\", \"r\"))\n",
    "# for idx in test_json:\n",
    "#     test_json[idx]['weak_labels'] = [int(i) for i in list(L_test[int(idx)])]\n",
    "\n",
    "# json.dump(train_json, open(f\"../weak_datasets/{dataset_name}/train.json\", 'w'), indent=4)\n",
    "# json.dump(valid_json, open(f\"../weak_datasets/{dataset_name}/valid.json\", 'w'), indent=4)\n",
    "# json.dump(test_json, open(f\"../weak_datasets/{dataset_name}/test.json\", 'w'), indent=4)"
   ]
  }
 ],
 "metadata": {
  "kernelspec": {
   "display_name": "base",
   "language": "python",
   "name": "python3"
  },
  "language_info": {
   "codemirror_mode": {
    "name": "ipython",
    "version": 3
   },
   "file_extension": ".py",
   "mimetype": "text/x-python",
   "name": "python",
   "nbconvert_exporter": "python",
   "pygments_lexer": "ipython3",
   "version": "3.7.11"
  },
  "vscode": {
   "interpreter": {
    "hash": "3e41b164576941b46182852b40d7161f07e36b5af4c9af87265f406ae525ca4b"
   }
  }
 },
 "nbformat": 4,
 "nbformat_minor": 4
}
