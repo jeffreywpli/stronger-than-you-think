{
 "cells": [
  {
   "cell_type": "code",
   "execution_count": 1,
   "metadata": {},
   "outputs": [],
   "source": [
    "import matplotlib.pyplot as plt\n",
    "import numpy as np\n",
    "\n",
    "# Given data for the graph\n",
    "before_CFT = {\n",
    "    \"mean\": 0.8482666666666667,\n",
    "    \"std\": 0.01055296166959777\n",
    "}\n",
    "\n",
    "after_CFT = {\n",
    "    \"mean\": 0.8624333333333333,\n",
    "    \"std\": 0.020746110746622148\n",
    "}\n",
    "\n",
    "dotted_line = {\n",
    "    \"mean\": 0.86545,\n",
    "    \"std\": 0.007151845138765875\n",
    "}\n",
    "\n",
    "# Define the positions for the groups on the x-axis\n",
    "positions = [1, 2]  # Before and After CFT positions\n",
    "\n",
    "# Define the means and the error (standard deviation) for both groups\n",
    "means = [before_CFT[\"mean\"], after_CFT[\"mean\"]]\n",
    "errors = [before_CFT[\"std\"], after_CFT[\"std\"]]\n",
    "\n",
    "\n"
   ]
  },
  {
   "cell_type": "code",
   "execution_count": 3,
   "metadata": {},
   "outputs": [],
   "source": [
    "def plot(means, errors, dotted_line, datasets):\n",
    "        # Adjusting the figure size to make it more narrow\n",
    "    fig, ax = plt.subplots(figsize=(5, 8))  # Width, Height in inches\n",
    "\n",
    "    # Plot the lines for before and after CFT\n",
    "    ax.errorbar(positions, means, yerr=errors, fmt='o-', label='Ft_w', color='red')\n",
    "\n",
    "    # Plot the dotted line across Before and After CFT\n",
    "    ax.plot(positions, [dotted_line[\"mean\"]]*2, 'o:', color='grey', label='Dotted line data')\n",
    "\n",
    "\n",
    "\n",
    "    # Set the labels for the x-axis\n",
    "    ax.set_xticks(positions)\n",
    "    ax.set_xticklabels(['Before CFT', 'After CFT'])\n",
    "\n",
    "    # Set the labels for the y-axis\n",
    "    ax.set_ylabel('Accuracy/F1')\n",
    "\n",
    "    # Add grid, legend, and title\n",
    "    ax.grid(True)\n",
    "    ax.legend()\n",
    "    ax.set_title(datasets+'N=50 clean samples per class')\n",
    "\n",
    "    # Set the aspect of the plot to match the desired ratio\n",
    "    ax.set_aspect(1.0/ax.get_data_ratio(), adjustable='box')\n",
    "\n",
    "    # Show the plot\n",
    "    plt.show()"
   ]
  },
  {
   "cell_type": "code",
   "execution_count": 4,
   "metadata": {},
   "outputs": [
    {
     "data": {
      "image/png": "[encoded data removed]",
      "text/plain": [
       "<Figure size 360x576 with 1 Axes>"
      ]
     },
     "metadata": {
      "needs_background": "light"
     },
     "output_type": "display_data"
    }
   ],
   "source": [
    "plot(means, errors, dotted_line, \"Agnews\")"
   ]
  },
  {
   "cell_type": "code",
   "execution_count": null,
   "metadata": {},
   "outputs": [],
   "source": []
  }
 ],
 "metadata": {
  "kernelspec": {
   "display_name": "AutoWS-Bench-101",
   "language": "python",
   "name": "python3"
  },
  "language_info": {
   "codemirror_mode": {
    "name": "ipython",
    "version": 3
   },
   "file_extension": ".py",
   "mimetype": "text/x-python",
   "name": "python",
   "nbconvert_exporter": "python",
   "pygments_lexer": "ipython3",
   "version": "3.7.11"
  }
 },
 "nbformat": 4,
 "nbformat_minor": 2
}
