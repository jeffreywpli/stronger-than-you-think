{
      "cells": [
            {
                  "cell_type": "code",
                  "execution_count": 2,
                  "metadata": {},
                  "outputs": [],
                  "source": [
                        "import numpy as np\n",
                        "import matplotlib.pyplot as plt\n",
                        "import pandas as pd "
                  ]
            },
            {
                  "cell_type": "code",
                  "execution_count": 3,
                  "metadata": {},
                  "outputs": [],
                  "source": [
                        "def parse_accs(fname):\n",
                        "    fin_acc = 0\n",
                        "    with open(fname, 'r') as f:\n",
                        "        for line in f.readlines():\n",
                        "            if 'end model (LeNet) test acc: ' in line:\n",
                        "                fin_acc = float(line.split()[-1])\n",
                        "    return fin_acc"
                  ]
            },
            {
                  "cell_type": "code",
                  "execution_count": 5,
                  "metadata": {},
                  "outputs": [
                        {
                              "name": "stdout",
                              "output_type": "stream",
                              "text": [
                                    "raw True 0\n",
                                    "raw False 0\n",
                                    "pca True 0.1518\n",
                                    "pca False 0.1653\n",
                                    "resnet18 True 0\n",
                                    "resnet18 False 0\n",
                                    "vae True 0\n",
                                    "vae False 0.2612\n"
                              ]
                        }
                  ],
                  "source": [
                        "resdir = 'results/kmnist/snubasweep'\n",
                        "lf_class_options = ''\n",
                        "\n",
                        "accs = []\n",
                        "fnames = []\n",
                        "\n",
                        "for embedding in ['raw', 'pca', 'resnet18', 'vae']:\n",
                        "    for em_hard_labels in ['True', 'False']:\n",
                        "        for snuba_cardinality in [1, 2]:\n",
                        "            for n_labeled_points in [100]:\n",
                        "                fname = f'{resdir}/embedding_{embedding}/lf_class_options_{lf_class_options}/em_hard_labels_{em_hard_labels}/snuba_cardinality_{snuba_cardinality}/n_labeled_points_{n_labeled_points}/res.log'\n",
                        "                acc = parse_accs(fname)\n",
                        "                fnames.append(fname)\n",
                        "                accs.append(acc)\n",
                        "\n",
                        "                if snuba_cardinality == 2:\n",
                        "                    print(embedding, em_hard_labels, acc)\n",
                        "\n",
                        "fnames = np.array(fnames)\n",
                        "accs = np.array(accs)"
                  ]
            },
            {
                  "cell_type": "code",
                  "execution_count": null,
                  "metadata": {},
                  "outputs": [],
                  "source": []
            },
            {
                  "cell_type": "code",
                  "execution_count": 7,
                  "metadata": {},
                  "outputs": [
                        {
                              "data": {
                                    "text/plain": [
                                          "array(['results/fashion_mnist/snubasweep/embedding_raw/lf_class_options_/em_hard_labels_True/snuba_cardinality_1/n_labeled_points_500/res.log',\n",
                                          "       'results/fashion_mnist/snubasweep/embedding_raw/lf_class_options_/em_hard_labels_True/snuba_cardinality_1/n_labeled_points_1000/res.log',\n",
                                          "       'results/fashion_mnist/snubasweep/embedding_raw/lf_class_options_/em_hard_labels_False/snuba_cardinality_1/n_labeled_points_1000/res.log',\n",
                                          "       'results/fashion_mnist/snubasweep/embedding_raw/lf_class_options_/em_hard_labels_False/snuba_cardinality_1/n_labeled_points_100/res.log',\n",
                                          "       'results/fashion_mnist/snubasweep/embedding_raw/lf_class_options_/em_hard_labels_True/snuba_cardinality_1/n_labeled_points_100/res.log',\n",
                                          "       'results/fashion_mnist/snubasweep/embedding_raw/lf_class_options_/em_hard_labels_False/snuba_cardinality_1/n_labeled_points_500/res.log',\n",
                                          "       'results/fashion_mnist/snubasweep/embedding_raw/lf_class_options_/em_hard_labels_False/snuba_cardinality_2/n_labeled_points_1000/res.log',\n",
                                          "       'results/fashion_mnist/snubasweep/embedding_raw/lf_class_options_/em_hard_labels_False/snuba_cardinality_2/n_labeled_points_500/res.log',\n",
                                          "       'results/fashion_mnist/snubasweep/embedding_raw/lf_class_options_/em_hard_labels_False/snuba_cardinality_2/n_labeled_points_100/res.log',\n",
                                          "       'results/fashion_mnist/snubasweep/embedding_raw/lf_class_options_/em_hard_labels_True/snuba_cardinality_2/n_labeled_points_1000/res.log',\n",
                                          "       'results/fashion_mnist/snubasweep/embedding_raw/lf_class_options_/em_hard_labels_True/snuba_cardinality_2/n_labeled_points_500/res.log',\n",
                                          "       'results/fashion_mnist/snubasweep/embedding_raw/lf_class_options_/em_hard_labels_True/snuba_cardinality_2/n_labeled_points_100/res.log'],\n",
                                          "      dtype='<U135')"
                                    ]
                              },
                              "execution_count": 7,
                              "metadata": {},
                              "output_type": "execute_result"
                        }
                  ],
                  "source": [
                        "fnames[np.argsort(accs)[::-1][:20]]"
                  ]
            },
            {
                  "cell_type": "code",
                  "execution_count": 8,
                  "metadata": {},
                  "outputs": [
                        {
                              "data": {
                                    "text/plain": [
                                          "array([0.4782, 0.344 , 0.339 , 0.2793, 0.2769, 0.1   , 0.    , 0.    ,\n",
                                          "       0.    , 0.    , 0.    , 0.    ])"
                                    ]
                              },
                              "execution_count": 8,
                              "metadata": {},
                              "output_type": "execute_result"
                        }
                  ],
                  "source": [
                        "accs[np.argsort(accs)[::-1][:25]]"
                  ]
            },
            {
                  "cell_type": "code",
                  "execution_count": null,
                  "metadata": {},
                  "outputs": [],
                  "source": []
            },
            {
                  "cell_type": "code",
                  "execution_count": 9,
                  "metadata": {},
                  "outputs": [
                        {
                              "ename": "IndexError",
                              "evalue": "list index out of range",
                              "output_type": "error",
                              "traceback": [
                                    "\u001b[0;31m---------------------------------------------------------------------------\u001b[0m",
                                    "\u001b[0;31mIndexError\u001b[0m                                Traceback (most recent call last)",
                                    "\u001b[0;32m/tmp/ipykernel_9943/3739839603.py\u001b[0m in \u001b[0;36m<module>\u001b[0;34m\u001b[0m\n\u001b[1;32m      1\u001b[0m fmeta = [{kv.rsplit('_', 1)[0]: kv.rsplit('_', 1)[1] \\\n\u001b[0;32m----> 2\u001b[0;31m     for kv in fname.split('/')[2:-1]} for fname in fnames]\n\u001b[0m\u001b[1;32m      3\u001b[0m \u001b[0;34m\u001b[0m\u001b[0m\n\u001b[1;32m      4\u001b[0m \u001b[0;32mfor\u001b[0m \u001b[0mi\u001b[0m \u001b[0;32min\u001b[0m \u001b[0mrange\u001b[0m\u001b[0;34m(\u001b[0m\u001b[0mlen\u001b[0m\u001b[0;34m(\u001b[0m\u001b[0maccs\u001b[0m\u001b[0;34m)\u001b[0m\u001b[0;34m)\u001b[0m\u001b[0;34m:\u001b[0m\u001b[0;34m\u001b[0m\u001b[0;34m\u001b[0m\u001b[0m\n\u001b[1;32m      5\u001b[0m     \u001b[0mfmeta\u001b[0m\u001b[0;34m[\u001b[0m\u001b[0mi\u001b[0m\u001b[0;34m]\u001b[0m\u001b[0;34m[\u001b[0m\u001b[0;34m'acc'\u001b[0m\u001b[0;34m]\u001b[0m \u001b[0;34m=\u001b[0m \u001b[0maccs\u001b[0m\u001b[0;34m[\u001b[0m\u001b[0mi\u001b[0m\u001b[0;34m]\u001b[0m\u001b[0;34m\u001b[0m\u001b[0;34m\u001b[0m\u001b[0m\n",
                                    "\u001b[0;32m/tmp/ipykernel_9943/3739839603.py\u001b[0m in \u001b[0;36m<listcomp>\u001b[0;34m(.0)\u001b[0m\n\u001b[1;32m      1\u001b[0m fmeta = [{kv.rsplit('_', 1)[0]: kv.rsplit('_', 1)[1] \\\n\u001b[0;32m----> 2\u001b[0;31m     for kv in fname.split('/')[2:-1]} for fname in fnames]\n\u001b[0m\u001b[1;32m      3\u001b[0m \u001b[0;34m\u001b[0m\u001b[0m\n\u001b[1;32m      4\u001b[0m \u001b[0;32mfor\u001b[0m \u001b[0mi\u001b[0m \u001b[0;32min\u001b[0m \u001b[0mrange\u001b[0m\u001b[0;34m(\u001b[0m\u001b[0mlen\u001b[0m\u001b[0;34m(\u001b[0m\u001b[0maccs\u001b[0m\u001b[0;34m)\u001b[0m\u001b[0;34m)\u001b[0m\u001b[0;34m:\u001b[0m\u001b[0;34m\u001b[0m\u001b[0;34m\u001b[0m\u001b[0m\n\u001b[1;32m      5\u001b[0m     \u001b[0mfmeta\u001b[0m\u001b[0;34m[\u001b[0m\u001b[0mi\u001b[0m\u001b[0;34m]\u001b[0m\u001b[0;34m[\u001b[0m\u001b[0;34m'acc'\u001b[0m\u001b[0;34m]\u001b[0m \u001b[0;34m=\u001b[0m \u001b[0maccs\u001b[0m\u001b[0;34m[\u001b[0m\u001b[0mi\u001b[0m\u001b[0;34m]\u001b[0m\u001b[0;34m\u001b[0m\u001b[0;34m\u001b[0m\u001b[0m\n",
                                    "\u001b[0;32m/tmp/ipykernel_9943/3739839603.py\u001b[0m in \u001b[0;36m<dictcomp>\u001b[0;34m(.0)\u001b[0m\n\u001b[1;32m      1\u001b[0m fmeta = [{kv.rsplit('_', 1)[0]: kv.rsplit('_', 1)[1] \\\n\u001b[0;32m----> 2\u001b[0;31m     for kv in fname.split('/')[2:-1]} for fname in fnames]\n\u001b[0m\u001b[1;32m      3\u001b[0m \u001b[0;34m\u001b[0m\u001b[0m\n\u001b[1;32m      4\u001b[0m \u001b[0;32mfor\u001b[0m \u001b[0mi\u001b[0m \u001b[0;32min\u001b[0m \u001b[0mrange\u001b[0m\u001b[0;34m(\u001b[0m\u001b[0mlen\u001b[0m\u001b[0;34m(\u001b[0m\u001b[0maccs\u001b[0m\u001b[0;34m)\u001b[0m\u001b[0;34m)\u001b[0m\u001b[0;34m:\u001b[0m\u001b[0;34m\u001b[0m\u001b[0;34m\u001b[0m\u001b[0m\n\u001b[1;32m      5\u001b[0m     \u001b[0mfmeta\u001b[0m\u001b[0;34m[\u001b[0m\u001b[0mi\u001b[0m\u001b[0;34m]\u001b[0m\u001b[0;34m[\u001b[0m\u001b[0;34m'acc'\u001b[0m\u001b[0;34m]\u001b[0m \u001b[0;34m=\u001b[0m \u001b[0maccs\u001b[0m\u001b[0;34m[\u001b[0m\u001b[0mi\u001b[0m\u001b[0;34m]\u001b[0m\u001b[0;34m\u001b[0m\u001b[0;34m\u001b[0m\u001b[0m\n",
                                    "\u001b[0;31mIndexError\u001b[0m: list index out of range"
                              ]
                        }
                  ],
                  "source": [
                        "fmeta = [{kv.rsplit('_', 1)[0]: kv.rsplit('_', 1)[1] \\\n",
                        "    for kv in fname.split('/')[2:-1]} for fname in fnames]\n",
                        "\n",
                        "for i in range(len(accs)):\n",
                        "    fmeta[i]['acc'] = accs[i]\n",
                        "\n",
                        "df = pd.DataFrame(fmeta)"
                  ]
            },
            {
                  "cell_type": "code",
                  "execution_count": 10,
                  "metadata": {},
                  "outputs": [
                        {
                              "ename": "NameError",
                              "evalue": "name 'df' is not defined",
                              "output_type": "error",
                              "traceback": [
                                    "\u001b[0;31m---------------------------------------------------------------------------\u001b[0m",
                                    "\u001b[0;31mNameError\u001b[0m                                 Traceback (most recent call last)",
                                    "\u001b[0;32m/tmp/ipykernel_9943/2061163442.py\u001b[0m in \u001b[0;36m<module>\u001b[0;34m\u001b[0m\n\u001b[0;32m----> 1\u001b[0;31m \u001b[0mdf\u001b[0m\u001b[0;34m.\u001b[0m\u001b[0msort_values\u001b[0m\u001b[0;34m(\u001b[0m\u001b[0mby\u001b[0m\u001b[0;34m=\u001b[0m\u001b[0;34m[\u001b[0m\u001b[0;34m'acc'\u001b[0m\u001b[0;34m]\u001b[0m\u001b[0;34m,\u001b[0m \u001b[0mascending\u001b[0m\u001b[0;34m=\u001b[0m\u001b[0;32mFalse\u001b[0m\u001b[0;34m)\u001b[0m\u001b[0;34m[\u001b[0m\u001b[0;34m:\u001b[0m\u001b[0;36m21\u001b[0m\u001b[0;34m]\u001b[0m\u001b[0;34m\u001b[0m\u001b[0;34m\u001b[0m\u001b[0m\n\u001b[0m",
                                    "\u001b[0;31mNameError\u001b[0m: name 'df' is not defined"
                              ]
                        }
                  ],
                  "source": [
                        "df.sort_values(by=['acc'], ascending=False)[:21]"
                  ]
            },
            {
                  "cell_type": "code",
                  "execution_count": null,
                  "metadata": {},
                  "outputs": [],
                  "source": []
            },
            {
                  "cell_type": "code",
                  "execution_count": null,
                  "metadata": {},
                  "outputs": [],
                  "source": []
            },
            {
                  "cell_type": "markdown",
                  "metadata": {},
                  "source": [
                        "# Random trials of top-5 configurations from above"
                  ]
            },
            {
                  "cell_type": "code",
                  "execution_count": 11,
                  "metadata": {},
                  "outputs": [
                        {
                              "ename": "FileNotFoundError",
                              "evalue": "[Errno 2] No such file or directory: 'results/snubasweep/embedding_raw/lf_class_options_DecisionTreeClassifier,LogisticRegression/em_hard_labels_True/snuba_cardinality_1/n_labeled_points_100/res.log'",
                              "output_type": "error",
                              "traceback": [
                                    "\u001b[0;31m---------------------------------------------------------------------------\u001b[0m",
                                    "\u001b[0;31mFileNotFoundError\u001b[0m                         Traceback (most recent call last)",
                                    "\u001b[0;32m/tmp/ipykernel_9943/1494675402.py\u001b[0m in \u001b[0;36m<module>\u001b[0;34m\u001b[0m\n\u001b[1;32m     10\u001b[0m             \u001b[0;32mfor\u001b[0m \u001b[0mn_labeled_points\u001b[0m \u001b[0;32min\u001b[0m \u001b[0;34m[\u001b[0m\u001b[0;36m100\u001b[0m\u001b[0;34m,\u001b[0m \u001b[0;36m500\u001b[0m\u001b[0;34m,\u001b[0m \u001b[0;36m1000\u001b[0m\u001b[0;34m,\u001b[0m \u001b[0;36m5000\u001b[0m\u001b[0;34m]\u001b[0m\u001b[0;34m:\u001b[0m\u001b[0;34m\u001b[0m\u001b[0;34m\u001b[0m\u001b[0m\n\u001b[1;32m     11\u001b[0m                 \u001b[0mfname\u001b[0m \u001b[0;34m=\u001b[0m \u001b[0;34mf'{resdir}/embedding_{embedding}/lf_class_options_{lf_class_options}/em_hard_labels_{em_hard_labels}/snuba_cardinality_{snuba_cardinality}/n_labeled_points_{n_labeled_points}/res.log'\u001b[0m\u001b[0;34m\u001b[0m\u001b[0;34m\u001b[0m\u001b[0m\n\u001b[0;32m---> 12\u001b[0;31m                 \u001b[0macc\u001b[0m \u001b[0;34m=\u001b[0m \u001b[0mparse_accs\u001b[0m\u001b[0;34m(\u001b[0m\u001b[0mfname\u001b[0m\u001b[0;34m)\u001b[0m\u001b[0;34m\u001b[0m\u001b[0;34m\u001b[0m\u001b[0m\n\u001b[0m\u001b[1;32m     13\u001b[0m                 \u001b[0mfnames\u001b[0m\u001b[0;34m.\u001b[0m\u001b[0mappend\u001b[0m\u001b[0;34m(\u001b[0m\u001b[0mfname\u001b[0m\u001b[0;34m)\u001b[0m\u001b[0;34m\u001b[0m\u001b[0;34m\u001b[0m\u001b[0m\n\u001b[1;32m     14\u001b[0m                 \u001b[0maccs\u001b[0m\u001b[0;34m.\u001b[0m\u001b[0mappend\u001b[0m\u001b[0;34m(\u001b[0m\u001b[0macc\u001b[0m\u001b[0;34m)\u001b[0m\u001b[0;34m\u001b[0m\u001b[0;34m\u001b[0m\u001b[0m\n",
                                    "\u001b[0;32m/tmp/ipykernel_9943/4171675633.py\u001b[0m in \u001b[0;36mparse_accs\u001b[0;34m(fname)\u001b[0m\n\u001b[1;32m      1\u001b[0m \u001b[0;32mdef\u001b[0m \u001b[0mparse_accs\u001b[0m\u001b[0;34m(\u001b[0m\u001b[0mfname\u001b[0m\u001b[0;34m)\u001b[0m\u001b[0;34m:\u001b[0m\u001b[0;34m\u001b[0m\u001b[0;34m\u001b[0m\u001b[0m\n\u001b[1;32m      2\u001b[0m     \u001b[0mfin_acc\u001b[0m \u001b[0;34m=\u001b[0m \u001b[0;36m0\u001b[0m\u001b[0;34m\u001b[0m\u001b[0;34m\u001b[0m\u001b[0m\n\u001b[0;32m----> 3\u001b[0;31m     \u001b[0;32mwith\u001b[0m \u001b[0mopen\u001b[0m\u001b[0;34m(\u001b[0m\u001b[0mfname\u001b[0m\u001b[0;34m,\u001b[0m \u001b[0;34m'r'\u001b[0m\u001b[0;34m)\u001b[0m \u001b[0;32mas\u001b[0m \u001b[0mf\u001b[0m\u001b[0;34m:\u001b[0m\u001b[0;34m\u001b[0m\u001b[0;34m\u001b[0m\u001b[0m\n\u001b[0m\u001b[1;32m      4\u001b[0m         \u001b[0;32mfor\u001b[0m \u001b[0mline\u001b[0m \u001b[0;32min\u001b[0m \u001b[0mf\u001b[0m\u001b[0;34m.\u001b[0m\u001b[0mreadlines\u001b[0m\u001b[0;34m(\u001b[0m\u001b[0;34m)\u001b[0m\u001b[0;34m:\u001b[0m\u001b[0;34m\u001b[0m\u001b[0;34m\u001b[0m\u001b[0m\n\u001b[1;32m      5\u001b[0m             \u001b[0;32mif\u001b[0m \u001b[0;34m'end model (LeNet) test acc: '\u001b[0m \u001b[0;32min\u001b[0m \u001b[0mline\u001b[0m\u001b[0;34m:\u001b[0m\u001b[0;34m\u001b[0m\u001b[0;34m\u001b[0m\u001b[0m\n",
                                    "\u001b[0;31mFileNotFoundError\u001b[0m: [Errno 2] No such file or directory: 'results/snubasweep/embedding_raw/lf_class_options_DecisionTreeClassifier,LogisticRegression/em_hard_labels_True/snuba_cardinality_1/n_labeled_points_100/res.log'"
                              ]
                        }
                  ],
                  "source": [
                        "resdir = 'results/snubasweep'\n",
                        "lf_class_options = 'DecisionTreeClassifier,LogisticRegression'\n",
                        "\n",
                        "accs = []\n",
                        "fnames = []\n",
                        "\n",
                        "for embedding in ['raw', 'pca', 'resnet18', 'vae']:\n",
                        "    for em_hard_labels in ['True', 'False']:\n",
                        "        for snuba_cardinality in [1, 2]:\n",
                        "            for n_labeled_points in [100, 500, 1000, 5000]:\n",
                        "                fname = f'{resdir}/embedding_{embedding}/lf_class_options_{lf_class_options}/em_hard_labels_{em_hard_labels}/snuba_cardinality_{snuba_cardinality}/n_labeled_points_{n_labeled_points}/res.log'\n",
                        "                acc = parse_accs(fname)\n",
                        "                fnames.append(fname)\n",
                        "                accs.append(acc)\n",
                        "\n",
                        "fnames = np.array(fnames)\n",
                        "accs = np.array(accs)\n",
                        "\n",
                        "\n",
                        "def namegiver(embedding, em_hard_labels, snuba_cardinality, n_labeled_points):\n",
                        "    return f'{embedding}, \\nhard labels={em_hard_labels}, \\ncardinality={snuba_cardinality}, \\nlabels={n_labeled_points}'\n",
                        "\n",
                        "accs1 = []\n",
                        "accs2 = []\n",
                        "accs3 = []\n",
                        "accs4 = []\n",
                        "accs5 = []\n",
                        "meta = []\n",
                        "for seed in np.arange(5):\n",
                        "    # Top-1\n",
                        "    embedding = 'vae'\n",
                        "    em_hard_labels = False\n",
                        "    snuba_cardinality = 2\n",
                        "    n_labeled_points = 100\n",
                        "    fname = f'{resdir}/embedding_{embedding}/lf_class_options_{lf_class_options}/em_hard_labels_{em_hard_labels}/snuba_cardinality_{snuba_cardinality}/n_labeled_points_{n_labeled_points}/res_seed{seed}.log'\n",
                        "    acc = parse_accs(fname)\n",
                        "    if acc == 0:\n",
                        "        print(fname)\n",
                        "    accs1.append(acc)\n",
                        "    meta.append(namegiver(\n",
                        "        embedding, em_hard_labels, snuba_cardinality, n_labeled_points))\n",
                        "\n",
                        "    # Top-2\n",
                        "    embedding = 'vae'\n",
                        "    em_hard_labels = False\n",
                        "    snuba_cardinality = 2\n",
                        "    n_labeled_points = 500\n",
                        "    fname = f'{resdir}/embedding_{embedding}/lf_class_options_{lf_class_options}/em_hard_labels_{em_hard_labels}/snuba_cardinality_{snuba_cardinality}/n_labeled_points_{n_labeled_points}/res_seed{seed}.log'\n",
                        "    acc = parse_accs(fname)\n",
                        "    accs2.append(acc)\n",
                        "    meta.append(namegiver(\n",
                        "        embedding, em_hard_labels, snuba_cardinality, n_labeled_points))\n",
                        "\n",
                        "    # Top-3\n",
                        "    embedding = 'vae'\n",
                        "    em_hard_labels = True\n",
                        "    snuba_cardinality = 2\n",
                        "    n_labeled_points = 100\n",
                        "    fname = f'{resdir}/embedding_{embedding}/lf_class_options_{lf_class_options}/em_hard_labels_{em_hard_labels}/snuba_cardinality_{snuba_cardinality}/n_labeled_points_{n_labeled_points}/res_seed{seed}.log'\n",
                        "    acc = parse_accs(fname)\n",
                        "    accs3.append(acc)\n",
                        "    meta.append(namegiver(\n",
                        "        embedding, em_hard_labels, snuba_cardinality, n_labeled_points))\n",
                        "\n",
                        "    # Top-4\n",
                        "    embedding = 'pca'\n",
                        "    em_hard_labels = True\n",
                        "    snuba_cardinality = 2\n",
                        "    n_labeled_points = 100\n",
                        "    fname = f'{resdir}/embedding_{embedding}/lf_class_options_{lf_class_options}/em_hard_labels_{em_hard_labels}/snuba_cardinality_{snuba_cardinality}/n_labeled_points_{n_labeled_points}/res_seed{seed}.log'\n",
                        "    acc = parse_accs(fname)\n",
                        "    accs4.append(acc)\n",
                        "    meta.append(namegiver(\n",
                        "        embedding, em_hard_labels, snuba_cardinality, n_labeled_points))\n",
                        "\n",
                        "    # Top-5\n",
                        "    embedding = 'pca'\n",
                        "    em_hard_labels = True\n",
                        "    snuba_cardinality = 2\n",
                        "    n_labeled_points = 500\n",
                        "    fname = f'{resdir}/embedding_{embedding}/lf_class_options_{lf_class_options}/em_hard_labels_{em_hard_labels}/snuba_cardinality_{snuba_cardinality}/n_labeled_points_{n_labeled_points}/res_seed{seed}.log'\n",
                        "    acc = parse_accs(fname)\n",
                        "    accs5.append(acc)\n",
                        "    meta.append(namegiver(\n",
                        "        embedding, em_hard_labels, snuba_cardinality, n_labeled_points))\n"
                  ]
            },
            {
                  "cell_type": "code",
                  "execution_count": 10,
                  "metadata": {},
                  "outputs": [
                        {
                              "data": {
                                    "text/plain": [
                                          "<matplotlib.legend.Legend at 0x7f6548bb1590>"
                                    ]
                              },
                              "execution_count": 10,
                              "metadata": {},
                              "output_type": "execute_result"
                        },
                        {
                              "data": {
                                    "image/png": "[encoded data removed]",
                                    "text/plain": [
                                          "<Figure size 576x432 with 1 Axes>"
                                    ]
                              },
                              "metadata": {
                                    "needs_background": "light"
                              },
                              "output_type": "display_data"
                        }
                  ],
                  "source": [
                        "accs = [accs1, accs2, accs3, accs4, accs5]\n",
                        "\n",
                        "plt.figure(figsize=(8, 6))\n",
                        "plt.xlim(0, 10)\n",
                        "plt.xticks(np.arange(5) + 1)\n",
                        "for i in range(5):\n",
                        "    plt.scatter(np.ones(len(accs[i])) * (i+1), accs[i], label=f'{meta[i]}')\n",
                        "\n",
                        "plt.xlabel('Ranking per initial run')\n",
                        "plt.ylabel('MNIST accuracy')\n",
                        "plt.legend(frameon=False)"
                  ]
            },
            {
                  "cell_type": "code",
                  "execution_count": 11,
                  "metadata": {},
                  "outputs": [
                        {
                              "data": {
                                    "text/plain": [
                                          "[0.4222, 0.639, 0.3943, 0.4402, 0.361]"
                                    ]
                              },
                              "execution_count": 11,
                              "metadata": {},
                              "output_type": "execute_result"
                        }
                  ],
                  "source": [
                        "accs3"
                  ]
            },
            {
                  "cell_type": "code",
                  "execution_count": null,
                  "metadata": {},
                  "outputs": [],
                  "source": []
            },
            {
                  "cell_type": "code",
                  "execution_count": 14,
                  "metadata": {},
                  "outputs": [],
                  "source": [
                        "accs = []\n",
                        "fnames = []\n",
                        "\n",
                        "# Fixed HPs\n",
                        "snuba_combo_samples=10_000\n",
                        "embedding = 'vae'\n",
                        "em_hard_labels = True\n",
                        "snuba_cardinality = 2\n",
                        "n_labeled_points = 100\n",
                        "\n",
                        "for seed in [0, 1, 2, 3, 4]:\n",
                        "    for snuba_cardinality in [2]:\n",
                        "        savedir = f'{resdir}/embedding_{embedding}/lf_class_options_{lf_class_options}/em_hard_labels_{em_hard_labels}/snuba_cardinality_{snuba_cardinality}/n_labeled_points_{n_labeled_points}'\n",
                        "        fname = f'{savedir}/res_seed{seed}_samples10_000.log'\n",
                        "\n",
                        "        acc = parse_accs(fname)\n",
                        "        fnames.append(fname)\n",
                        "        accs.append(acc)\n",
                        "\n",
                        "fnames = np.array(fnames)\n",
                        "accs = np.array(accs)"
                  ]
            },
            {
                  "cell_type": "code",
                  "execution_count": 15,
                  "metadata": {},
                  "outputs": [
                        {
                              "data": {
                                    "text/plain": [
                                          "array([0.418 , 0.3904, 0.    , 0.4392, 0.4448])"
                                    ]
                              },
                              "execution_count": 15,
                              "metadata": {},
                              "output_type": "execute_result"
                        }
                  ],
                  "source": [
                        "accs"
                  ]
            },
            {
                  "cell_type": "code",
                  "execution_count": null,
                  "metadata": {},
                  "outputs": [],
                  "source": []
            }
      ],
      "metadata": {
            "interpreter": {
                  "hash": "31f2aee4e71d21fbe5cf8b01ff0e069b9275f58929596ceb00d14d90e3e16cd6"
            },
            "kernelspec": {
                  "display_name": "Python 3.8.10 64-bit",
                  "language": "python",
                  "name": "python3"
            },
            "language_info": {
                  "codemirror_mode": {
                        "name": "ipython",
                        "version": 3
                  },
                  "file_extension": ".py",
                  "mimetype": "text/x-python",
                  "name": "python",
                  "nbconvert_exporter": "python",
                  "pygments_lexer": "ipython3",
                  "version": "3.6.9"
            },
            "orig_nbformat": 4
      },
      "nbformat": 4,
      "nbformat_minor": 2
}